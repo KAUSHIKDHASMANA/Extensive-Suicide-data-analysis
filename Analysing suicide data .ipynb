{
 "cells": [
  {
   "cell_type": "markdown",
   "id": "67211022-a598-4b9f-9f26-42e8b6204d6a",
   "metadata": {},
   "source": [
    "# Suicide data analysis ( INDIA )"
   ]
  },
  {
   "cell_type": "code",
   "execution_count": 1,
   "id": "0ec7e0e4-96c9-42a9-a9b5-a6dcc90408cc",
   "metadata": {},
   "outputs": [],
   "source": [
    "import numpy as np      # for numeric, statisticsl analysis\n",
    "import pandas as pd     # for storing csv in dataframe\n",
    "import matplotlib.pyplot as plt\n",
    "import seaborn as sns     # both for graphs/charts"
   ]
  },
  {
   "cell_type": "code",
   "execution_count": 2,
   "id": "62ec6382-3fbb-496c-8964-6f9b2060107a",
   "metadata": {},
   "outputs": [],
   "source": [
    "%matplotlib inline     \n",
    "                        # to avoid pop-ups of graphs, instead present them in line"
   ]
  },
  {
   "cell_type": "code",
   "execution_count": 3,
   "id": "dd39b3a5-d8bd-45e3-a069-39a84043afc6",
   "metadata": {},
   "outputs": [],
   "source": [
    "# storing csv file as pandas data frame\n",
    "data = pd.read_csv('Suicide data.csv')"
   ]
  },
  {
   "cell_type": "code",
   "execution_count": 4,
   "id": "c7b63c27-25c2-4671-9d83-cf6ca6e503ac",
   "metadata": {},
   "outputs": [
    {
     "data": {
      "text/html": [
       "<div>\n",
       "<style scoped>\n",
       "    .dataframe tbody tr th:only-of-type {\n",
       "        vertical-align: middle;\n",
       "    }\n",
       "\n",
       "    .dataframe tbody tr th {\n",
       "        vertical-align: top;\n",
       "    }\n",
       "\n",
       "    .dataframe thead th {\n",
       "        text-align: right;\n",
       "    }\n",
       "</style>\n",
       "<table border=\"1\" class=\"dataframe\">\n",
       "  <thead>\n",
       "    <tr style=\"text-align: right;\">\n",
       "      <th></th>\n",
       "      <th>State</th>\n",
       "      <th>Year</th>\n",
       "      <th>Type_code</th>\n",
       "      <th>Type</th>\n",
       "      <th>Gender</th>\n",
       "      <th>Age_group</th>\n",
       "      <th>Total</th>\n",
       "    </tr>\n",
       "  </thead>\n",
       "  <tbody>\n",
       "    <tr>\n",
       "      <th>0</th>\n",
       "      <td>A &amp; N ISLANDS</td>\n",
       "      <td>2001</td>\n",
       "      <td>Causes</td>\n",
       "      <td>Cancer</td>\n",
       "      <td>Male</td>\n",
       "      <td>15-29</td>\n",
       "      <td>0</td>\n",
       "    </tr>\n",
       "    <tr>\n",
       "      <th>1</th>\n",
       "      <td>A &amp; N ISLANDS</td>\n",
       "      <td>2001</td>\n",
       "      <td>Causes</td>\n",
       "      <td>Divorce</td>\n",
       "      <td>Male</td>\n",
       "      <td>60+</td>\n",
       "      <td>0</td>\n",
       "    </tr>\n",
       "    <tr>\n",
       "      <th>2</th>\n",
       "      <td>A &amp; N ISLANDS</td>\n",
       "      <td>2001</td>\n",
       "      <td>Causes</td>\n",
       "      <td>Dowry Dispute</td>\n",
       "      <td>Female</td>\n",
       "      <td>60+</td>\n",
       "      <td>0</td>\n",
       "    </tr>\n",
       "    <tr>\n",
       "      <th>3</th>\n",
       "      <td>A &amp; N ISLANDS</td>\n",
       "      <td>2001</td>\n",
       "      <td>Causes</td>\n",
       "      <td>Ideological Causes/Hero Worshipping</td>\n",
       "      <td>Female</td>\n",
       "      <td>60+</td>\n",
       "      <td>0</td>\n",
       "    </tr>\n",
       "    <tr>\n",
       "      <th>4</th>\n",
       "      <td>A &amp; N ISLANDS</td>\n",
       "      <td>2001</td>\n",
       "      <td>Causes</td>\n",
       "      <td>Illness (Aids/STD)</td>\n",
       "      <td>Female</td>\n",
       "      <td>0-14</td>\n",
       "      <td>0</td>\n",
       "    </tr>\n",
       "  </tbody>\n",
       "</table>\n",
       "</div>"
      ],
      "text/plain": [
       "           State  Year Type_code                                 Type  Gender  \\\n",
       "0  A & N ISLANDS  2001    Causes                               Cancer    Male   \n",
       "1  A & N ISLANDS  2001    Causes                              Divorce    Male   \n",
       "2  A & N ISLANDS  2001    Causes                        Dowry Dispute  Female   \n",
       "3  A & N ISLANDS  2001    Causes  Ideological Causes/Hero Worshipping  Female   \n",
       "4  A & N ISLANDS  2001    Causes                   Illness (Aids/STD)  Female   \n",
       "\n",
       "  Age_group  Total  \n",
       "0     15-29      0  \n",
       "1       60+      0  \n",
       "2       60+      0  \n",
       "3       60+      0  \n",
       "4      0-14      0  "
      ]
     },
     "execution_count": 4,
     "metadata": {},
     "output_type": "execute_result"
    }
   ],
   "source": [
    "data.head(5)"
   ]
  },
  {
   "cell_type": "code",
   "execution_count": 5,
   "id": "a691be17-7da4-4bdb-9da2-cf318ab95b05",
   "metadata": {},
   "outputs": [
    {
     "data": {
      "text/plain": [
       "(237519, 7)"
      ]
     },
     "execution_count": 5,
     "metadata": {},
     "output_type": "execute_result"
    }
   ],
   "source": [
    "data.shape"
   ]
  },
  {
   "cell_type": "code",
   "execution_count": 6,
   "id": "492eff43-3280-40e7-87bc-555a445db1c5",
   "metadata": {},
   "outputs": [],
   "source": [
    "column_names = data.columns"
   ]
  },
  {
   "cell_type": "code",
   "execution_count": 7,
   "id": "c6f12799-dac6-4599-be00-99efd46b9029",
   "metadata": {},
   "outputs": [
    {
     "data": {
      "text/plain": [
       "'Year'"
      ]
     },
     "execution_count": 7,
     "metadata": {},
     "output_type": "execute_result"
    }
   ],
   "source": [
    "column_names[1]"
   ]
  },
  {
   "cell_type": "code",
   "execution_count": 8,
   "id": "51574eb8-0051-49a0-8b76-4c720933ccb6",
   "metadata": {},
   "outputs": [
    {
     "data": {
      "text/plain": [
       "pandas.core.indexes.base.Index"
      ]
     },
     "execution_count": 8,
     "metadata": {},
     "output_type": "execute_result"
    }
   ],
   "source": [
    "type(column_names)"
   ]
  },
  {
   "cell_type": "code",
   "execution_count": 9,
   "id": "98f490d9-1390-4389-838a-edb8abf6aa86",
   "metadata": {},
   "outputs": [],
   "source": [
    "column_names = list(column_names)"
   ]
  },
  {
   "cell_type": "code",
   "execution_count": 10,
   "id": "4bb27d36-1117-4207-a14f-116013329d15",
   "metadata": {},
   "outputs": [
    {
     "data": {
      "text/plain": [
       "list"
      ]
     },
     "execution_count": 10,
     "metadata": {},
     "output_type": "execute_result"
    }
   ],
   "source": [
    "type(column_names)"
   ]
  },
  {
   "cell_type": "code",
   "execution_count": 11,
   "id": "234f98d6-78b9-4a11-ba75-551b8e149a91",
   "metadata": {},
   "outputs": [
    {
     "data": {
      "text/plain": [
       "['State', 'Year', 'Type_code', 'Type', 'Gender', 'Age_group', 'Total']"
      ]
     },
     "execution_count": 11,
     "metadata": {},
     "output_type": "execute_result"
    }
   ],
   "source": [
    "column_names"
   ]
  },
  {
   "cell_type": "code",
   "execution_count": 12,
   "id": "f76c15db-94b0-4713-bd8c-4c3f021e3275",
   "metadata": {},
   "outputs": [
    {
     "data": {
      "text/plain": [
       "7"
      ]
     },
     "execution_count": 12,
     "metadata": {},
     "output_type": "execute_result"
    }
   ],
   "source": [
    "len(column_names)"
   ]
  },
  {
   "cell_type": "markdown",
   "id": "d3580415-0506-484c-90db-21999ab3481a",
   "metadata": {},
   "source": [
    "* column_names contains heading names for this data, in form of list\n",
    "* 7 columns "
   ]
  },
  {
   "cell_type": "markdown",
   "id": "138cb95f-ac60-4ec8-a202-293e5219e2e5",
   "metadata": {},
   "source": [
    "## checking data of individual column"
   ]
  },
  {
   "cell_type": "markdown",
   "id": "5bb84c17-4b4e-4b2e-92b6-e072263a726e",
   "metadata": {},
   "source": [
    "-------------------------State"
   ]
  },
  {
   "cell_type": "code",
   "execution_count": 13,
   "id": "eb50e0dd-a6de-4b5f-8c58-c26432f03f61",
   "metadata": {},
   "outputs": [],
   "source": [
    "state = data[column_names[0]]"
   ]
  },
  {
   "cell_type": "code",
   "execution_count": 14,
   "id": "1307c882-36a3-4ac3-84c8-2446b5292dcc",
   "metadata": {},
   "outputs": [
    {
     "data": {
      "text/plain": [
       "0    A & N ISLANDS\n",
       "1    A & N ISLANDS\n",
       "2    A & N ISLANDS\n",
       "3    A & N ISLANDS\n",
       "4    A & N ISLANDS\n",
       "Name: State, dtype: object"
      ]
     },
     "execution_count": 14,
     "metadata": {},
     "output_type": "execute_result"
    }
   ],
   "source": [
    "state.head()"
   ]
  },
  {
   "cell_type": "code",
   "execution_count": 15,
   "id": "e51bf52f-11f6-4fac-99a7-ce53e95b72f5",
   "metadata": {},
   "outputs": [
    {
     "data": {
      "text/plain": [
       "array(['A & N ISLANDS', 'ANDHRA PRADESH', 'ARUNACHAL PRADESH', 'ASSAM',\n",
       "       'BIHAR', 'CHANDIGARH', 'CHHATTISGARH', 'D & N HAVELI',\n",
       "       'DAMAN & DIU', 'DELHI (UT)', 'GOA', 'GUJARAT', 'HARYANA',\n",
       "       'HIMACHAL PRADESH', 'JAMMU & KASHMIR', 'JHARKHAND', 'KARNATAKA',\n",
       "       'KERALA', 'LAKSHADWEEP', 'MADHYA PRADESH', 'MAHARASHTRA',\n",
       "       'MANIPUR', 'MEGHALAYA', 'MIZORAM', 'NAGALAND', 'ODISHA',\n",
       "       'PUDUCHERRY', 'PUNJAB', 'RAJASTHAN', 'SIKKIM', 'TAMIL NADU',\n",
       "       'TOTAL (ALL INDIA)', 'TOTAL (STATES)', 'TOTAL (UTs)', 'TRIPURA',\n",
       "       'UTTAR PRADESH', 'UTTARAKHAND', 'WEST BENGAL'], dtype=object)"
      ]
     },
     "execution_count": 15,
     "metadata": {},
     "output_type": "execute_result"
    }
   ],
   "source": [
    "state.unique()"
   ]
  },
  {
   "cell_type": "markdown",
   "id": "2d9939ca-35c8-43d0-8eb6-df67b4aa9f9d",
   "metadata": {},
   "source": [
    "* As can be seen here we have, not just states, but uinon terrories & some extra data"
   ]
  },
  {
   "cell_type": "markdown",
   "id": "5f47c6f7-822d-4a11-84ba-2b5888bbf1f7",
   "metadata": {},
   "source": [
    "#### getting list of all states, union terrories, extra into seperate lists\n",
    "* by copy pasting from above"
   ]
  },
  {
   "cell_type": "code",
   "execution_count": 16,
   "id": "15f5d188-f9e7-47e1-9edf-c3be8fb8b67e",
   "metadata": {},
   "outputs": [],
   "source": [
    "state_list = [ 'ANDHRA PRADESH', 'ARUNACHAL PRADESH', 'ASSAM',\n",
    "       'BIHAR', 'CHHATTISGARH', 'GOA', 'GUJARAT', 'HARYANA',\n",
    "       'HIMACHAL PRADESH', 'JAMMU & KASHMIR', 'JHARKHAND', 'KARNATAKA',\n",
    "       'KERALA', 'MADHYA PRADESH', 'MAHARASHTRA',\n",
    "       'MANIPUR', 'MEGHALAYA', 'MIZORAM', 'NAGALAND', 'ODISHA', 'PUNJAB', 'RAJASTHAN', 'SIKKIM', 'TAMIL NADU', 'TRIPURA',\n",
    "       'UTTAR PRADESH', 'UTTARAKHAND', 'WEST BENGAL']\n",
    "UT_list = ['A & N ISLANDS', 'CHANDIGARH', 'D & N HAVELI',\n",
    "       'DAMAN & DIU', 'DELHI (UT)', 'LAKSHADWEEP',\n",
    "       'PUDUCHERRY']\n",
    "extra_list = ['TOTAL (ALL INDIA)', 'TOTAL (STATES)', 'TOTAL (UTs)']"
   ]
  },
  {
   "cell_type": "code",
   "execution_count": 17,
   "id": "11e94b74-c3da-471c-8b36-52218f83f206",
   "metadata": {},
   "outputs": [
    {
     "data": {
      "text/plain": [
       "(28, 7, 3)"
      ]
     },
     "execution_count": 17,
     "metadata": {},
     "output_type": "execute_result"
    }
   ],
   "source": [
    "len(state_list),len(UT_list),len(extra_list)"
   ]
  },
  {
   "cell_type": "markdown",
   "id": "2018caaa-8ca4-433c-8d59-e1d1551c7d20",
   "metadata": {},
   "source": [
    "* why states are just 28 ?\n",
    "* They missed TELANGANA"
   ]
  },
  {
   "cell_type": "markdown",
   "id": "59b768c5-12c7-4c12-8e4d-36fc5686957b",
   "metadata": {},
   "source": [
    "##### Later targets \n",
    "* dividing data into state_data / UT data / extra data\n",
    "* putting half of 'ARUNACHAL PRADESH' into new rows 'TELANGANA'"
   ]
  },
  {
   "cell_type": "markdown",
   "id": "4b4b2081-602d-4a1b-a699-6d5c540ad933",
   "metadata": {},
   "source": [
    "-----------------------Year"
   ]
  },
  {
   "cell_type": "code",
   "execution_count": 18,
   "id": "e513f6df-c048-4d1a-bb2c-b204af6ecd2d",
   "metadata": {},
   "outputs": [],
   "source": [
    "years = list(data[column_names[1]].unique())"
   ]
  },
  {
   "cell_type": "code",
   "execution_count": 19,
   "id": "a0d3e8fc-1291-4af7-9754-2e8eadb1d8e7",
   "metadata": {},
   "outputs": [
    {
     "data": {
      "text/plain": [
       "[2001, 2002, 2003, 2004, 2005, 2006, 2007, 2008, 2009, 2010, 2011, 2012]"
      ]
     },
     "execution_count": 19,
     "metadata": {},
     "output_type": "execute_result"
    }
   ],
   "source": [
    "years"
   ]
  },
  {
   "cell_type": "markdown",
   "id": "0bd40b00-44b2-4da2-9989-f27e089ec7bd",
   "metadata": {},
   "source": [
    "* Year contains data of 2001 - 2012\n",
    "* years is list type containing 2001-2012"
   ]
  },
  {
   "cell_type": "markdown",
   "id": "aa9c5410-ba16-4d07-8af4-b71c46b8d41c",
   "metadata": {},
   "source": [
    "-------------------Type_code"
   ]
  },
  {
   "cell_type": "code",
   "execution_count": 20,
   "id": "4a05fbe7-24ff-4777-a883-db4d32016d96",
   "metadata": {},
   "outputs": [],
   "source": [
    "info_type = list(data[column_names[2]].unique())"
   ]
  },
  {
   "cell_type": "code",
   "execution_count": 21,
   "id": "0351cbcb-a1d8-45aa-bd63-0b02775ba4f4",
   "metadata": {},
   "outputs": [
    {
     "data": {
      "text/plain": [
       "['Causes',\n",
       " 'Means_adopted',\n",
       " 'Professional_Profile',\n",
       " 'Education_Status',\n",
       " 'Social_Status']"
      ]
     },
     "execution_count": 21,
     "metadata": {},
     "output_type": "execute_result"
    }
   ],
   "source": [
    "info_type"
   ]
  },
  {
   "cell_type": "markdown",
   "id": "e3eccd56-d98b-4710-864c-175bff2dbac1",
   "metadata": {},
   "source": [
    "* We have 5 info_types\n",
    "* info_type is list"
   ]
  },
  {
   "cell_type": "markdown",
   "id": "ac94bf7c-5fc2-45f5-8865-0bf696a51359",
   "metadata": {},
   "source": [
    "-------------------info"
   ]
  },
  {
   "cell_type": "code",
   "execution_count": 22,
   "id": "3b353177-b473-4fc7-8fcd-53e156ac9c80",
   "metadata": {},
   "outputs": [
    {
     "data": {
      "text/plain": [
       "['Cancer',\n",
       " 'Divorce',\n",
       " 'Dowry Dispute',\n",
       " 'Ideological Causes/Hero Worshipping',\n",
       " 'Illness (Aids/STD)',\n",
       " 'Paralysis',\n",
       " 'Property Dispute',\n",
       " 'Suspected/Illicit Relation',\n",
       " 'By Consuming Insecticides',\n",
       " 'By Fire/Self Immolation',\n",
       " 'By Hanging',\n",
       " 'By Machine',\n",
       " 'By Other means (please specify)',\n",
       " 'By Overdose of sleeping pills',\n",
       " 'By Self Infliction of injury',\n",
       " 'By touching electric wires',\n",
       " 'House Wife',\n",
       " 'Others (Please Specify)',\n",
       " 'Public Sector Undertaking',\n",
       " 'Self-employed (Business activity)',\n",
       " 'Service (Government)',\n",
       " 'Bankruptcy or Sudden change in Economic Status',\n",
       " 'Cancellation/Non-Settlement of Marriage',\n",
       " 'Death of Dear Person',\n",
       " 'By coming under running vehicles/trains',\n",
       " 'By Fire-Arms',\n",
       " 'By Other means',\n",
       " 'Farming/Agriculture Activity',\n",
       " 'Retired Person',\n",
       " 'Failure in Examination',\n",
       " 'Fall in Social Reputation',\n",
       " 'Family Problems',\n",
       " 'Illegitimate Pregnancy',\n",
       " 'Other Prolonged Illness',\n",
       " 'Hr. Secondary/Intermediate/Pre-Universit',\n",
       " 'By Drowning',\n",
       " 'By Jumping from (Other sites)',\n",
       " 'By Over Alcoholism',\n",
       " 'Bankruptcy or Sudden change in Economic',\n",
       " 'Insanity/Mental Illness',\n",
       " 'Love Affairs',\n",
       " 'Other Causes (Please Specity)',\n",
       " 'Physical Abuse (Rape/Incest Etc.)',\n",
       " 'Poverty',\n",
       " 'Professional/Career Problem',\n",
       " 'Unemployment',\n",
       " 'Student',\n",
       " 'Drug Abuse/Addiction',\n",
       " 'By Jumping off Moving Vehicles/Trains',\n",
       " 'Unemployed',\n",
       " 'Never Married',\n",
       " 'Not having Children(Barrenness/Impotency',\n",
       " 'By Jumping from (Building)',\n",
       " 'Married',\n",
       " 'Service (Private)',\n",
       " 'Causes Not known',\n",
       " 'Not having Children (Barrenness/Impotency',\n",
       " 'Middle',\n",
       " 'Professional Activity',\n",
       " 'By Consuming Other Poison',\n",
       " 'Widowed/Widower',\n",
       " 'Diploma',\n",
       " 'Matriculate/Secondary',\n",
       " 'Seperated',\n",
       " 'Divorcee',\n",
       " 'No Education',\n",
       " 'Post Graduate and Above',\n",
       " 'Primary',\n",
       " 'Graduate']"
      ]
     },
     "execution_count": 22,
     "metadata": {},
     "output_type": "execute_result"
    }
   ],
   "source": [
    "info = list(data[column_names[3]].unique())\n",
    "info"
   ]
  },
  {
   "cell_type": "markdown",
   "id": "1e313f73-d617-4544-bf47-0b85a4b655fc",
   "metadata": {},
   "source": [
    "* info is linked to info-type\n",
    "* so creating dictionatry with info_type as keys, & respected info as values"
   ]
  },
  {
   "cell_type": "code",
   "execution_count": 23,
   "id": "eecf24b5-c053-418a-92fc-bfcdc237001b",
   "metadata": {},
   "outputs": [],
   "source": [
    "d = {}\n",
    "for i in info_type:\n",
    "    g = data[data['Type_code']==i]\n",
    "    g = g['Type'].unique()\n",
    "    for j in g:\n",
    "        d[i]=list(g)"
   ]
  },
  {
   "cell_type": "code",
   "execution_count": 24,
   "id": "43119dfc-07ce-4618-9703-498e66edaa2d",
   "metadata": {},
   "outputs": [
    {
     "data": {
      "text/plain": [
       "{'Causes': ['Cancer',\n",
       "  'Divorce',\n",
       "  'Dowry Dispute',\n",
       "  'Ideological Causes/Hero Worshipping',\n",
       "  'Illness (Aids/STD)',\n",
       "  'Paralysis',\n",
       "  'Property Dispute',\n",
       "  'Suspected/Illicit Relation',\n",
       "  'Bankruptcy or Sudden change in Economic Status',\n",
       "  'Cancellation/Non-Settlement of Marriage',\n",
       "  'Death of Dear Person',\n",
       "  'Failure in Examination',\n",
       "  'Fall in Social Reputation',\n",
       "  'Family Problems',\n",
       "  'Illegitimate Pregnancy',\n",
       "  'Other Prolonged Illness',\n",
       "  'Bankruptcy or Sudden change in Economic',\n",
       "  'Insanity/Mental Illness',\n",
       "  'Love Affairs',\n",
       "  'Other Causes (Please Specity)',\n",
       "  'Physical Abuse (Rape/Incest Etc.)',\n",
       "  'Poverty',\n",
       "  'Professional/Career Problem',\n",
       "  'Unemployment',\n",
       "  'Drug Abuse/Addiction',\n",
       "  'Not having Children(Barrenness/Impotency',\n",
       "  'Causes Not known',\n",
       "  'Not having Children (Barrenness/Impotency'],\n",
       " 'Means_adopted': ['By Consuming Insecticides',\n",
       "  'By Fire/Self Immolation',\n",
       "  'By Hanging',\n",
       "  'By Machine',\n",
       "  'By Other means (please specify)',\n",
       "  'By Overdose of sleeping pills',\n",
       "  'By Self Infliction of injury',\n",
       "  'By touching electric wires',\n",
       "  'By coming under running vehicles/trains',\n",
       "  'By Fire-Arms',\n",
       "  'By Other means',\n",
       "  'By Drowning',\n",
       "  'By Jumping from (Other sites)',\n",
       "  'By Over Alcoholism',\n",
       "  'By Jumping off Moving Vehicles/Trains',\n",
       "  'By Jumping from (Building)',\n",
       "  'By Consuming Other Poison'],\n",
       " 'Professional_Profile': ['House Wife',\n",
       "  'Others (Please Specify)',\n",
       "  'Public Sector Undertaking',\n",
       "  'Self-employed (Business activity)',\n",
       "  'Service (Government)',\n",
       "  'Farming/Agriculture Activity',\n",
       "  'Retired Person',\n",
       "  'Student',\n",
       "  'Unemployed',\n",
       "  'Service (Private)',\n",
       "  'Professional Activity'],\n",
       " 'Education_Status': ['Hr. Secondary/Intermediate/Pre-Universit',\n",
       "  'Middle',\n",
       "  'Diploma',\n",
       "  'Matriculate/Secondary',\n",
       "  'No Education',\n",
       "  'Post Graduate and Above',\n",
       "  'Primary',\n",
       "  'Graduate'],\n",
       " 'Social_Status': ['Never Married',\n",
       "  'Married',\n",
       "  'Widowed/Widower',\n",
       "  'Seperated',\n",
       "  'Divorcee']}"
      ]
     },
     "execution_count": 24,
     "metadata": {},
     "output_type": "execute_result"
    }
   ],
   "source": [
    "d"
   ]
  },
  {
   "cell_type": "markdown",
   "id": "5ef717e9-fd2d-4e36-a58c-c50358777f56",
   "metadata": {},
   "source": [
    "* there are duplicates in this"
   ]
  },
  {
   "cell_type": "markdown",
   "id": "da0a9904-9a35-41e8-909a-129314a59324",
   "metadata": {},
   "source": [
    "Under Causes ----------------------\n",
    "Bankruptcy or Sudden change in Economic -----\n",
    "Bankruptcy or Sudden change in Economic Status \n",
    "\n",
    "Under Causes ------------------------\n",
    "Not having Children (Barrenness/Impotency ------\n",
    "Not having Children(Barrenness/Impotency \n",
    "\n",
    "Under Causes -----------------------\n",
    "Causes Not known----\n",
    "Other Causes (Please Specity)\n",
    "\n",
    "Under Means_adopted ---------------\n",
    "By Other means (please specify)----\n",
    "By Other means"
   ]
  },
  {
   "cell_type": "markdown",
   "id": "9d84c25d-ccba-40b3-9925-bc0f3e79da47",
   "metadata": {},
   "source": [
    "* testing if replace can be possible"
   ]
  },
  {
   "cell_type": "code",
   "execution_count": 25,
   "id": "49e5ccaa-7ff6-42a4-87de-93e41fbeacbd",
   "metadata": {},
   "outputs": [],
   "source": [
    "p = data"
   ]
  },
  {
   "cell_type": "code",
   "execution_count": 26,
   "id": "e4af8290-4372-426c-b661-f8a5f7732f99",
   "metadata": {},
   "outputs": [
    {
     "data": {
      "text/html": [
       "<div>\n",
       "<style scoped>\n",
       "    .dataframe tbody tr th:only-of-type {\n",
       "        vertical-align: middle;\n",
       "    }\n",
       "\n",
       "    .dataframe tbody tr th {\n",
       "        vertical-align: top;\n",
       "    }\n",
       "\n",
       "    .dataframe thead th {\n",
       "        text-align: right;\n",
       "    }\n",
       "</style>\n",
       "<table border=\"1\" class=\"dataframe\">\n",
       "  <thead>\n",
       "    <tr style=\"text-align: right;\">\n",
       "      <th></th>\n",
       "      <th>State</th>\n",
       "      <th>Year</th>\n",
       "      <th>Type_code</th>\n",
       "      <th>Type</th>\n",
       "      <th>Gender</th>\n",
       "      <th>Age_group</th>\n",
       "      <th>Total</th>\n",
       "    </tr>\n",
       "  </thead>\n",
       "  <tbody>\n",
       "    <tr>\n",
       "      <th>0</th>\n",
       "      <td>A &amp; N ISLANDS</td>\n",
       "      <td>2001</td>\n",
       "      <td>Causes</td>\n",
       "      <td>Cancer</td>\n",
       "      <td>Male</td>\n",
       "      <td>15-29</td>\n",
       "      <td>0</td>\n",
       "    </tr>\n",
       "    <tr>\n",
       "      <th>1</th>\n",
       "      <td>A &amp; N ISLANDS</td>\n",
       "      <td>2001</td>\n",
       "      <td>Causes</td>\n",
       "      <td>Divorce</td>\n",
       "      <td>Male</td>\n",
       "      <td>60+</td>\n",
       "      <td>0</td>\n",
       "    </tr>\n",
       "    <tr>\n",
       "      <th>2</th>\n",
       "      <td>A &amp; N ISLANDS</td>\n",
       "      <td>2001</td>\n",
       "      <td>Causes</td>\n",
       "      <td>Dowry Dispute</td>\n",
       "      <td>Female</td>\n",
       "      <td>60+</td>\n",
       "      <td>0</td>\n",
       "    </tr>\n",
       "    <tr>\n",
       "      <th>3</th>\n",
       "      <td>A &amp; N ISLANDS</td>\n",
       "      <td>2001</td>\n",
       "      <td>Causes</td>\n",
       "      <td>Ideological Causes/Hero Worshipping</td>\n",
       "      <td>Female</td>\n",
       "      <td>60+</td>\n",
       "      <td>0</td>\n",
       "    </tr>\n",
       "    <tr>\n",
       "      <th>4</th>\n",
       "      <td>A &amp; N ISLANDS</td>\n",
       "      <td>2001</td>\n",
       "      <td>Causes</td>\n",
       "      <td>Illness (Aids/STD)</td>\n",
       "      <td>Female</td>\n",
       "      <td>0-14</td>\n",
       "      <td>0</td>\n",
       "    </tr>\n",
       "  </tbody>\n",
       "</table>\n",
       "</div>"
      ],
      "text/plain": [
       "           State  Year Type_code                                 Type  Gender  \\\n",
       "0  A & N ISLANDS  2001    Causes                               Cancer    Male   \n",
       "1  A & N ISLANDS  2001    Causes                              Divorce    Male   \n",
       "2  A & N ISLANDS  2001    Causes                        Dowry Dispute  Female   \n",
       "3  A & N ISLANDS  2001    Causes  Ideological Causes/Hero Worshipping  Female   \n",
       "4  A & N ISLANDS  2001    Causes                   Illness (Aids/STD)  Female   \n",
       "\n",
       "  Age_group  Total  \n",
       "0     15-29      0  \n",
       "1       60+      0  \n",
       "2       60+      0  \n",
       "3       60+      0  \n",
       "4      0-14      0  "
      ]
     },
     "execution_count": 26,
     "metadata": {},
     "output_type": "execute_result"
    }
   ],
   "source": [
    "p.head()"
   ]
  },
  {
   "cell_type": "code",
   "execution_count": 27,
   "id": "d4577f14-b6c0-4b1e-aea2-b5bc636e69b0",
   "metadata": {},
   "outputs": [
    {
     "data": {
      "text/plain": [
       "32755"
      ]
     },
     "execution_count": 27,
     "metadata": {},
     "output_type": "execute_result"
    }
   ],
   "source": [
    "p.Total[p['Type']=='Bankruptcy or Sudden change in Economic'].sum()"
   ]
  },
  {
   "cell_type": "code",
   "execution_count": 28,
   "id": "556f6018-07d1-4498-a5f3-75c762ec7888",
   "metadata": {},
   "outputs": [
    {
     "data": {
      "text/plain": [
       "2655"
      ]
     },
     "execution_count": 28,
     "metadata": {},
     "output_type": "execute_result"
    }
   ],
   "source": [
    "p.Total[p['Type']=='Bankruptcy or Sudden change in Economic Status'].sum()"
   ]
  },
  {
   "cell_type": "code",
   "execution_count": 29,
   "id": "39eb66c1-9604-4cff-ac8e-4771a4647a1f",
   "metadata": {},
   "outputs": [
    {
     "name": "stderr",
     "output_type": "stream",
     "text": [
      "C:\\Users\\Acer\\AppData\\Local\\Temp\\ipykernel_19168\\3958689813.py:1: SettingWithCopyWarning: \n",
      "A value is trying to be set on a copy of a slice from a DataFrame\n",
      "\n",
      "See the caveats in the documentation: https://pandas.pydata.org/pandas-docs/stable/user_guide/indexing.html#returning-a-view-versus-a-copy\n",
      "  p.Type[p['Type']=='Bankruptcy or Sudden change in Economic'] = 'Bankruptcy'\n"
     ]
    }
   ],
   "source": [
    "p.Type[p['Type']=='Bankruptcy or Sudden change in Economic'] = 'Bankruptcy'"
   ]
  },
  {
   "cell_type": "code",
   "execution_count": 30,
   "id": "05fcfefd-6211-4458-a13d-d025d168758b",
   "metadata": {},
   "outputs": [
    {
     "data": {
      "text/plain": [
       "32755"
      ]
     },
     "execution_count": 30,
     "metadata": {},
     "output_type": "execute_result"
    }
   ],
   "source": [
    "p.Total[p['Type']=='Bankruptcy'].sum()"
   ]
  },
  {
   "cell_type": "code",
   "execution_count": 31,
   "id": "218e5eb2-8cf6-4681-af99-48034a6a767e",
   "metadata": {},
   "outputs": [
    {
     "name": "stderr",
     "output_type": "stream",
     "text": [
      "C:\\Users\\Acer\\AppData\\Local\\Temp\\ipykernel_19168\\577234492.py:1: SettingWithCopyWarning: \n",
      "A value is trying to be set on a copy of a slice from a DataFrame\n",
      "\n",
      "See the caveats in the documentation: https://pandas.pydata.org/pandas-docs/stable/user_guide/indexing.html#returning-a-view-versus-a-copy\n",
      "  p.Type[p['Type']=='Bankruptcy or Sudden change in Economic Status'] = 'Bankruptcy'\n"
     ]
    }
   ],
   "source": [
    "p.Type[p['Type']=='Bankruptcy or Sudden change in Economic Status'] = 'Bankruptcy'"
   ]
  },
  {
   "cell_type": "code",
   "execution_count": 32,
   "id": "f2946e57-92a4-4330-a754-0f3b81421550",
   "metadata": {},
   "outputs": [
    {
     "data": {
      "text/plain": [
       "35410"
      ]
     },
     "execution_count": 32,
     "metadata": {},
     "output_type": "execute_result"
    }
   ],
   "source": [
    "p.Total[p['Type']=='Bankruptcy'].sum()"
   ]
  },
  {
   "cell_type": "code",
   "execution_count": 33,
   "id": "ce9aad23-f2d6-4413-8732-f0c469781e18",
   "metadata": {},
   "outputs": [
    {
     "data": {
      "text/plain": [
       "35410"
      ]
     },
     "execution_count": 33,
     "metadata": {},
     "output_type": "execute_result"
    }
   ],
   "source": [
    "2655+32755"
   ]
  },
  {
   "cell_type": "markdown",
   "id": "5f098d35-0e53-4050-b986-cb20dfe23c1d",
   "metadata": {},
   "source": [
    "* Yes change can be done\n",
    "* changing all errored terms"
   ]
  },
  {
   "cell_type": "code",
   "execution_count": 34,
   "id": "44c9867d-44bc-4703-9604-b9a6dcfd2bca",
   "metadata": {},
   "outputs": [
    {
     "data": {
      "text/html": [
       "<div>\n",
       "<style scoped>\n",
       "    .dataframe tbody tr th:only-of-type {\n",
       "        vertical-align: middle;\n",
       "    }\n",
       "\n",
       "    .dataframe tbody tr th {\n",
       "        vertical-align: top;\n",
       "    }\n",
       "\n",
       "    .dataframe thead th {\n",
       "        text-align: right;\n",
       "    }\n",
       "</style>\n",
       "<table border=\"1\" class=\"dataframe\">\n",
       "  <thead>\n",
       "    <tr style=\"text-align: right;\">\n",
       "      <th></th>\n",
       "      <th>State</th>\n",
       "      <th>Year</th>\n",
       "      <th>Type_code</th>\n",
       "      <th>Type</th>\n",
       "      <th>Gender</th>\n",
       "      <th>Age_group</th>\n",
       "      <th>Total</th>\n",
       "    </tr>\n",
       "  </thead>\n",
       "  <tbody>\n",
       "    <tr>\n",
       "      <th>0</th>\n",
       "      <td>A &amp; N ISLANDS</td>\n",
       "      <td>2001</td>\n",
       "      <td>Causes</td>\n",
       "      <td>Cancer</td>\n",
       "      <td>Male</td>\n",
       "      <td>15-29</td>\n",
       "      <td>0</td>\n",
       "    </tr>\n",
       "    <tr>\n",
       "      <th>1</th>\n",
       "      <td>A &amp; N ISLANDS</td>\n",
       "      <td>2001</td>\n",
       "      <td>Causes</td>\n",
       "      <td>Divorce</td>\n",
       "      <td>Male</td>\n",
       "      <td>60+</td>\n",
       "      <td>0</td>\n",
       "    </tr>\n",
       "    <tr>\n",
       "      <th>2</th>\n",
       "      <td>A &amp; N ISLANDS</td>\n",
       "      <td>2001</td>\n",
       "      <td>Causes</td>\n",
       "      <td>Dowry Dispute</td>\n",
       "      <td>Female</td>\n",
       "      <td>60+</td>\n",
       "      <td>0</td>\n",
       "    </tr>\n",
       "    <tr>\n",
       "      <th>3</th>\n",
       "      <td>A &amp; N ISLANDS</td>\n",
       "      <td>2001</td>\n",
       "      <td>Causes</td>\n",
       "      <td>Ideological Causes/Hero Worshipping</td>\n",
       "      <td>Female</td>\n",
       "      <td>60+</td>\n",
       "      <td>0</td>\n",
       "    </tr>\n",
       "    <tr>\n",
       "      <th>4</th>\n",
       "      <td>A &amp; N ISLANDS</td>\n",
       "      <td>2001</td>\n",
       "      <td>Causes</td>\n",
       "      <td>Illness (Aids/STD)</td>\n",
       "      <td>Female</td>\n",
       "      <td>0-14</td>\n",
       "      <td>0</td>\n",
       "    </tr>\n",
       "  </tbody>\n",
       "</table>\n",
       "</div>"
      ],
      "text/plain": [
       "           State  Year Type_code                                 Type  Gender  \\\n",
       "0  A & N ISLANDS  2001    Causes                               Cancer    Male   \n",
       "1  A & N ISLANDS  2001    Causes                              Divorce    Male   \n",
       "2  A & N ISLANDS  2001    Causes                        Dowry Dispute  Female   \n",
       "3  A & N ISLANDS  2001    Causes  Ideological Causes/Hero Worshipping  Female   \n",
       "4  A & N ISLANDS  2001    Causes                   Illness (Aids/STD)  Female   \n",
       "\n",
       "  Age_group  Total  \n",
       "0     15-29      0  \n",
       "1       60+      0  \n",
       "2       60+      0  \n",
       "3       60+      0  \n",
       "4      0-14      0  "
      ]
     },
     "execution_count": 34,
     "metadata": {},
     "output_type": "execute_result"
    }
   ],
   "source": [
    "data.head()"
   ]
  },
  {
   "cell_type": "code",
   "execution_count": 35,
   "id": "4d78756d-5446-432f-a13d-e4cb69c25445",
   "metadata": {},
   "outputs": [
    {
     "name": "stderr",
     "output_type": "stream",
     "text": [
      "C:\\Users\\Acer\\AppData\\Local\\Temp\\ipykernel_19168\\2916552216.py:1: SettingWithCopyWarning: \n",
      "A value is trying to be set on a copy of a slice from a DataFrame\n",
      "\n",
      "See the caveats in the documentation: https://pandas.pydata.org/pandas-docs/stable/user_guide/indexing.html#returning-a-view-versus-a-copy\n",
      "  data.Type[p['Type']=='Bankruptcy or Sudden change in Economic Status'] = 'Bankruptcy'\n",
      "C:\\Users\\Acer\\AppData\\Local\\Temp\\ipykernel_19168\\2916552216.py:2: SettingWithCopyWarning: \n",
      "A value is trying to be set on a copy of a slice from a DataFrame\n",
      "\n",
      "See the caveats in the documentation: https://pandas.pydata.org/pandas-docs/stable/user_guide/indexing.html#returning-a-view-versus-a-copy\n",
      "  data.Type[p['Type']=='Bankruptcy or Sudden change in Economic'] = 'Bankruptcy'\n",
      "C:\\Users\\Acer\\AppData\\Local\\Temp\\ipykernel_19168\\2916552216.py:3: SettingWithCopyWarning: \n",
      "A value is trying to be set on a copy of a slice from a DataFrame\n",
      "\n",
      "See the caveats in the documentation: https://pandas.pydata.org/pandas-docs/stable/user_guide/indexing.html#returning-a-view-versus-a-copy\n",
      "  data.Type[p['Type']=='Not having Children(Barrenness/Impotency'] = 'Impotency'\n",
      "C:\\Users\\Acer\\AppData\\Local\\Temp\\ipykernel_19168\\2916552216.py:4: SettingWithCopyWarning: \n",
      "A value is trying to be set on a copy of a slice from a DataFrame\n",
      "\n",
      "See the caveats in the documentation: https://pandas.pydata.org/pandas-docs/stable/user_guide/indexing.html#returning-a-view-versus-a-copy\n",
      "  data.Type[p['Type']=='Not having Children (Barrenness/Impotency '] = 'Impotency'\n",
      "C:\\Users\\Acer\\AppData\\Local\\Temp\\ipykernel_19168\\2916552216.py:5: SettingWithCopyWarning: \n",
      "A value is trying to be set on a copy of a slice from a DataFrame\n",
      "\n",
      "See the caveats in the documentation: https://pandas.pydata.org/pandas-docs/stable/user_guide/indexing.html#returning-a-view-versus-a-copy\n",
      "  data.Type[p['Type']=='Not having Children (Barrenness/Impotency']='Impotency'\n",
      "C:\\Users\\Acer\\AppData\\Local\\Temp\\ipykernel_19168\\2916552216.py:6: SettingWithCopyWarning: \n",
      "A value is trying to be set on a copy of a slice from a DataFrame\n",
      "\n",
      "See the caveats in the documentation: https://pandas.pydata.org/pandas-docs/stable/user_guide/indexing.html#returning-a-view-versus-a-copy\n",
      "  data.Type[p['Type']=='Causes Not known'] = 'Other Causes'\n",
      "C:\\Users\\Acer\\AppData\\Local\\Temp\\ipykernel_19168\\2916552216.py:7: SettingWithCopyWarning: \n",
      "A value is trying to be set on a copy of a slice from a DataFrame\n",
      "\n",
      "See the caveats in the documentation: https://pandas.pydata.org/pandas-docs/stable/user_guide/indexing.html#returning-a-view-versus-a-copy\n",
      "  data.Type[p['Type']=='Other Causes (Please Specity)'] = 'Other Causes'\n",
      "C:\\Users\\Acer\\AppData\\Local\\Temp\\ipykernel_19168\\2916552216.py:8: SettingWithCopyWarning: \n",
      "A value is trying to be set on a copy of a slice from a DataFrame\n",
      "\n",
      "See the caveats in the documentation: https://pandas.pydata.org/pandas-docs/stable/user_guide/indexing.html#returning-a-view-versus-a-copy\n",
      "  data.Type[p['Type']=='By Other means (please specify)'] = 'By Other means'\n"
     ]
    }
   ],
   "source": [
    "data.Type[p['Type']=='Bankruptcy or Sudden change in Economic Status'] = 'Bankruptcy'\n",
    "data.Type[p['Type']=='Bankruptcy or Sudden change in Economic'] = 'Bankruptcy'\n",
    "data.Type[p['Type']=='Not having Children(Barrenness/Impotency'] = 'Impotency'\n",
    "data.Type[p['Type']=='Not having Children (Barrenness/Impotency '] = 'Impotency'\n",
    "data.Type[p['Type']=='Not having Children (Barrenness/Impotency']='Impotency'\n",
    "data.Type[p['Type']=='Causes Not known'] = 'Other Causes'\n",
    "data.Type[p['Type']=='Other Causes (Please Specity)'] = 'Other Causes'\n",
    "data.Type[p['Type']=='By Other means (please specify)'] = 'By Other means'\n"
   ]
  },
  {
   "cell_type": "markdown",
   "id": "d5f2786b-b3d3-49eb-9255-75678efad2e4",
   "metadata": {},
   "source": [
    "* creating nwe dictionary d"
   ]
  },
  {
   "cell_type": "code",
   "execution_count": 36,
   "id": "021d196e-0110-46cd-84c8-e38fc7264a2c",
   "metadata": {},
   "outputs": [],
   "source": [
    "d = {}\n",
    "for i in info_type:\n",
    "    g = data[data['Type_code']==i]\n",
    "    g = g['Type'].unique()\n",
    "    for j in g:\n",
    "        d[i]=list(g)"
   ]
  },
  {
   "cell_type": "code",
   "execution_count": 37,
   "id": "ee2258da-7d2f-4f23-b5b8-62406df14ec4",
   "metadata": {},
   "outputs": [
    {
     "data": {
      "text/plain": [
       "{'Causes': ['Cancer',\n",
       "  'Divorce',\n",
       "  'Dowry Dispute',\n",
       "  'Ideological Causes/Hero Worshipping',\n",
       "  'Illness (Aids/STD)',\n",
       "  'Paralysis',\n",
       "  'Property Dispute',\n",
       "  'Suspected/Illicit Relation',\n",
       "  'Bankruptcy',\n",
       "  'Cancellation/Non-Settlement of Marriage',\n",
       "  'Death of Dear Person',\n",
       "  'Failure in Examination',\n",
       "  'Fall in Social Reputation',\n",
       "  'Family Problems',\n",
       "  'Illegitimate Pregnancy',\n",
       "  'Other Prolonged Illness',\n",
       "  'Insanity/Mental Illness',\n",
       "  'Love Affairs',\n",
       "  'Other Causes',\n",
       "  'Physical Abuse (Rape/Incest Etc.)',\n",
       "  'Poverty',\n",
       "  'Professional/Career Problem',\n",
       "  'Unemployment',\n",
       "  'Drug Abuse/Addiction',\n",
       "  'Impotency'],\n",
       " 'Means_adopted': ['By Consuming Insecticides',\n",
       "  'By Fire/Self Immolation',\n",
       "  'By Hanging',\n",
       "  'By Machine',\n",
       "  'By Other means',\n",
       "  'By Overdose of sleeping pills',\n",
       "  'By Self Infliction of injury',\n",
       "  'By touching electric wires',\n",
       "  'By coming under running vehicles/trains',\n",
       "  'By Fire-Arms',\n",
       "  'By Drowning',\n",
       "  'By Jumping from (Other sites)',\n",
       "  'By Over Alcoholism',\n",
       "  'By Jumping off Moving Vehicles/Trains',\n",
       "  'By Jumping from (Building)',\n",
       "  'By Consuming Other Poison'],\n",
       " 'Professional_Profile': ['House Wife',\n",
       "  'Others (Please Specify)',\n",
       "  'Public Sector Undertaking',\n",
       "  'Self-employed (Business activity)',\n",
       "  'Service (Government)',\n",
       "  'Farming/Agriculture Activity',\n",
       "  'Retired Person',\n",
       "  'Student',\n",
       "  'Unemployed',\n",
       "  'Service (Private)',\n",
       "  'Professional Activity'],\n",
       " 'Education_Status': ['Hr. Secondary/Intermediate/Pre-Universit',\n",
       "  'Middle',\n",
       "  'Diploma',\n",
       "  'Matriculate/Secondary',\n",
       "  'No Education',\n",
       "  'Post Graduate and Above',\n",
       "  'Primary',\n",
       "  'Graduate'],\n",
       " 'Social_Status': ['Never Married',\n",
       "  'Married',\n",
       "  'Widowed/Widower',\n",
       "  'Seperated',\n",
       "  'Divorcee']}"
      ]
     },
     "execution_count": 37,
     "metadata": {},
     "output_type": "execute_result"
    }
   ],
   "source": [
    "d"
   ]
  },
  {
   "cell_type": "markdown",
   "id": "54ae82a4-c681-4df9-bb4c-45e9a536eb1b",
   "metadata": {},
   "source": [
    "* all duplicates removed"
   ]
  },
  {
   "cell_type": "markdown",
   "id": "88fe7d9c-2109-40ae-a0b2-503757171f9a",
   "metadata": {},
   "source": [
    "-----------------------Gender"
   ]
  },
  {
   "cell_type": "code",
   "execution_count": 38,
   "id": "9d1b8d95-7771-470e-a401-e97074eb886f",
   "metadata": {},
   "outputs": [
    {
     "data": {
      "text/plain": [
       "['Male', 'Female']"
      ]
     },
     "execution_count": 38,
     "metadata": {},
     "output_type": "execute_result"
    }
   ],
   "source": [
    "genders = list(data[column_names[4]].unique())\n",
    "genders"
   ]
  },
  {
   "cell_type": "markdown",
   "id": "ba39490b-e42d-45d1-aef3-85471f60baed",
   "metadata": {},
   "source": [
    "* duplicates are removed from data"
   ]
  },
  {
   "cell_type": "markdown",
   "id": "77171d8c-1545-44ec-8537-660ecbfd4600",
   "metadata": {},
   "source": [
    "------------------------Age_group"
   ]
  },
  {
   "cell_type": "code",
   "execution_count": 39,
   "id": "83610b8c-1152-43e0-b1e3-297ee87375ed",
   "metadata": {},
   "outputs": [
    {
     "data": {
      "text/plain": [
       "['15-29', '60+', '0-14', '45-59', '30-44', '0-100+']"
      ]
     },
     "execution_count": 39,
     "metadata": {},
     "output_type": "execute_result"
    }
   ],
   "source": [
    "age = list(data[column_names[5]].unique())\n",
    "age"
   ]
  },
  {
   "cell_type": "markdown",
   "id": "721f79e2-d644-4eb5-80cb-f6319d652315",
   "metadata": {},
   "source": [
    "* How can there be '0-100' if others exist\n",
    "* checking out data with '0-100'"
   ]
  },
  {
   "cell_type": "code",
   "execution_count": 40,
   "id": "ffe1bcfe-19c0-4139-85b3-fad7d6f9d00d",
   "metadata": {},
   "outputs": [
    {
     "data": {
      "text/plain": [
       "array(['Education_Status', 'Social_Status'], dtype=object)"
      ]
     },
     "execution_count": 40,
     "metadata": {},
     "output_type": "execute_result"
    }
   ],
   "source": [
    "data[data['Age_group']=='0-100+'].Type_code.unique()"
   ]
  },
  {
   "cell_type": "code",
   "execution_count": 41,
   "id": "da68fa41-6c54-4718-9a33-676c0fa39398",
   "metadata": {},
   "outputs": [
    {
     "data": {
      "text/plain": [
       "array(['Causes', 'Means_adopted', 'Professional_Profile'], dtype=object)"
      ]
     },
     "execution_count": 41,
     "metadata": {},
     "output_type": "execute_result"
    }
   ],
   "source": [
    "data[data['Age_group']=='0-14'].Type_code.unique()"
   ]
  },
  {
   "cell_type": "code",
   "execution_count": 42,
   "id": "6fed7c32-30f0-4319-8dcc-f214f09e3109",
   "metadata": {},
   "outputs": [
    {
     "data": {
      "text/plain": [
       "array(['0-100+'], dtype=object)"
      ]
     },
     "execution_count": 42,
     "metadata": {},
     "output_type": "execute_result"
    }
   ],
   "source": [
    "data[data['Type_code']=='Education_Status'].Age_group.unique()"
   ]
  },
  {
   "cell_type": "code",
   "execution_count": 43,
   "id": "4f404f43-c068-42d6-8cb5-c4e07a2bc582",
   "metadata": {},
   "outputs": [
    {
     "data": {
      "text/plain": [
       "array(['0-100+'], dtype=object)"
      ]
     },
     "execution_count": 43,
     "metadata": {},
     "output_type": "execute_result"
    }
   ],
   "source": [
    "data[data['Type_code']=='Social_Status'].Age_group.unique()"
   ]
  },
  {
   "cell_type": "code",
   "execution_count": 44,
   "id": "dc114b72-871a-4f64-8649-0fff8161b794",
   "metadata": {},
   "outputs": [
    {
     "data": {
      "text/plain": [
       "array(['15-29', '60+', '0-14', '45-59', '30-44'], dtype=object)"
      ]
     },
     "execution_count": 44,
     "metadata": {},
     "output_type": "execute_result"
    }
   ],
   "source": [
    "data[data['Type_code']=='Causes'].Age_group.unique()"
   ]
  },
  {
   "cell_type": "code",
   "execution_count": 45,
   "id": "56c40d72-4926-4f75-8023-ec9380891284",
   "metadata": {},
   "outputs": [
    {
     "data": {
      "text/plain": [
       "array(['0-14', '30-44', '45-59', '60+', '15-29'], dtype=object)"
      ]
     },
     "execution_count": 45,
     "metadata": {},
     "output_type": "execute_result"
    }
   ],
   "source": [
    "data[data['Type_code']=='Means_adopted'].Age_group.unique()"
   ]
  },
  {
   "cell_type": "code",
   "execution_count": 46,
   "id": "1c9d67c2-01ae-40fd-ba55-b8242e9bceb1",
   "metadata": {},
   "outputs": [
    {
     "data": {
      "text/plain": [
       "array(['60+', '0-14', '30-44', '15-29', '45-59'], dtype=object)"
      ]
     },
     "execution_count": 46,
     "metadata": {},
     "output_type": "execute_result"
    }
   ],
   "source": [
    "data[data['Type_code']=='Professional_Profile'].Age_group.unique()"
   ]
  },
  {
   "cell_type": "markdown",
   "id": "e5c2d2f4-8a76-4a26-a489-8af8b85530a2",
   "metadata": {},
   "source": [
    "* '0-100' is used for 'Education_Status', 'Social_Status'\n",
    "* other are used for 'Causes', 'Means_adopted', 'Professional_Profile'\n",
    "##### using 'Professional_Profile' & 'Causes' if we link it with age group , we can remove false data"
   ]
  },
  {
   "cell_type": "markdown",
   "id": "65356d67-1307-431d-a3f4-83269cbcd55f",
   "metadata": {},
   "source": [
    "------------------Total\n",
    "* checking if text, blank, fraction exist"
   ]
  },
  {
   "cell_type": "code",
   "execution_count": 47,
   "id": "2a8221e9-6b3c-4ce0-81c8-1d6d1c5788eb",
   "metadata": {},
   "outputs": [],
   "source": [
    "total_list = list(data.Total)"
   ]
  },
  {
   "cell_type": "code",
   "execution_count": 48,
   "id": "2a1ffae2-33da-4bf3-9e3d-58940fcda84f",
   "metadata": {},
   "outputs": [
    {
     "data": {
      "text/plain": [
       "237519"
      ]
     },
     "execution_count": 48,
     "metadata": {},
     "output_type": "execute_result"
    }
   ],
   "source": [
    "len(total_list)"
   ]
  },
  {
   "cell_type": "code",
   "execution_count": 49,
   "id": "f96668dc-2fa5-465e-9cde-bfe504517ef5",
   "metadata": {},
   "outputs": [
    {
     "data": {
      "text/plain": [
       "(237519, 7)"
      ]
     },
     "execution_count": 49,
     "metadata": {},
     "output_type": "execute_result"
    }
   ],
   "source": [
    "data.shape"
   ]
  },
  {
   "cell_type": "code",
   "execution_count": 50,
   "id": "9d87ee20-3c86-442b-b689-c01a0e756222",
   "metadata": {},
   "outputs": [],
   "source": [
    "for i in range(237519):\n",
    "    if type(total_list[i])==str:\n",
    "        print('text detected')\n",
    "    elif type(total_list[i])==None:\n",
    "        print('blank detected')"
   ]
  },
  {
   "cell_type": "code",
   "execution_count": 51,
   "id": "84a59956-47b7-470c-a558-47860d3e34c4",
   "metadata": {},
   "outputs": [],
   "source": [
    "a = []\n",
    "j = 0\n",
    "for i in total_list:\n",
    "    a.append(type(total_list[j]))\n",
    "    j+=1\n",
    "# now a contains list of type in total_list"
   ]
  },
  {
   "cell_type": "code",
   "execution_count": 52,
   "id": "1d9b406a-1291-4d93-ab70-54f0f3483e23",
   "metadata": {},
   "outputs": [
    {
     "data": {
      "text/plain": [
       "237519"
      ]
     },
     "execution_count": 52,
     "metadata": {},
     "output_type": "execute_result"
    }
   ],
   "source": [
    "len(a)"
   ]
  },
  {
   "cell_type": "code",
   "execution_count": 53,
   "id": "8b68fe24-2f9a-4841-9c8d-6e7297de963c",
   "metadata": {},
   "outputs": [
    {
     "data": {
      "text/plain": [
       "{int}"
      ]
     },
     "execution_count": 53,
     "metadata": {},
     "output_type": "execute_result"
    }
   ],
   "source": [
    "b = set(a)\n",
    "b"
   ]
  },
  {
   "cell_type": "markdown",
   "id": "cddf8db8-ddcb-4cef-9301-b6e0b8a467d7",
   "metadata": {},
   "source": [
    "* a contains just int"
   ]
  },
  {
   "cell_type": "code",
   "execution_count": 54,
   "id": "4b26e0ec-bf53-43a0-a643-32395e5cf9bb",
   "metadata": {},
   "outputs": [
    {
     "data": {
      "text/plain": [
       "int"
      ]
     },
     "execution_count": 54,
     "metadata": {},
     "output_type": "execute_result"
    }
   ],
   "source": [
    "a[0]"
   ]
  },
  {
   "cell_type": "code",
   "execution_count": 55,
   "id": "e5b095b5-decf-48cd-9d2b-d3ab2d72ed60",
   "metadata": {},
   "outputs": [
    {
     "data": {
      "text/plain": [
       "63343"
      ]
     },
     "execution_count": 55,
     "metadata": {},
     "output_type": "execute_result"
    }
   ],
   "source": [
    "max = 0\n",
    "for i in range(237519):\n",
    "    if max < total_list[i] :\n",
    "        max = total_list[i]\n",
    "max"
   ]
  },
  {
   "cell_type": "code",
   "execution_count": 56,
   "id": "06229511-8908-40a2-a4bf-30cdfa123b66",
   "metadata": {
    "scrolled": true,
    "tags": []
   },
   "outputs": [],
   "source": [
    "for i in total_list :\n",
    "    if (i-int(i))!=0:\n",
    "        print('fraction found')\n",
    "    "
   ]
  },
  {
   "cell_type": "markdown",
   "id": "5f1280d7-71c3-4348-8596-ebb7e5208889",
   "metadata": {},
   "source": [
    "* No errors found in 'Total' column"
   ]
  },
  {
   "cell_type": "markdown",
   "id": "1895bc10-1070-4cd3-8b8a-f2b4804adc64",
   "metadata": {},
   "source": [
    "#### checking out fake data with  'Professional_Profile' & age group"
   ]
  },
  {
   "cell_type": "code",
   "execution_count": 57,
   "id": "4e376abd-4697-4783-a820-4edbdec8a947",
   "metadata": {},
   "outputs": [
    {
     "data": {
      "text/html": [
       "<div>\n",
       "<style scoped>\n",
       "    .dataframe tbody tr th:only-of-type {\n",
       "        vertical-align: middle;\n",
       "    }\n",
       "\n",
       "    .dataframe tbody tr th {\n",
       "        vertical-align: top;\n",
       "    }\n",
       "\n",
       "    .dataframe thead th {\n",
       "        text-align: right;\n",
       "    }\n",
       "</style>\n",
       "<table border=\"1\" class=\"dataframe\">\n",
       "  <thead>\n",
       "    <tr style=\"text-align: right;\">\n",
       "      <th></th>\n",
       "      <th>State</th>\n",
       "      <th>Year</th>\n",
       "      <th>Type_code</th>\n",
       "      <th>Type</th>\n",
       "      <th>Gender</th>\n",
       "      <th>Age_group</th>\n",
       "      <th>Total</th>\n",
       "    </tr>\n",
       "  </thead>\n",
       "  <tbody>\n",
       "    <tr>\n",
       "      <th>0</th>\n",
       "      <td>A &amp; N ISLANDS</td>\n",
       "      <td>2001</td>\n",
       "      <td>Causes</td>\n",
       "      <td>Cancer</td>\n",
       "      <td>Male</td>\n",
       "      <td>15-29</td>\n",
       "      <td>0</td>\n",
       "    </tr>\n",
       "    <tr>\n",
       "      <th>1</th>\n",
       "      <td>A &amp; N ISLANDS</td>\n",
       "      <td>2001</td>\n",
       "      <td>Causes</td>\n",
       "      <td>Divorce</td>\n",
       "      <td>Male</td>\n",
       "      <td>60+</td>\n",
       "      <td>0</td>\n",
       "    </tr>\n",
       "    <tr>\n",
       "      <th>2</th>\n",
       "      <td>A &amp; N ISLANDS</td>\n",
       "      <td>2001</td>\n",
       "      <td>Causes</td>\n",
       "      <td>Dowry Dispute</td>\n",
       "      <td>Female</td>\n",
       "      <td>60+</td>\n",
       "      <td>0</td>\n",
       "    </tr>\n",
       "    <tr>\n",
       "      <th>3</th>\n",
       "      <td>A &amp; N ISLANDS</td>\n",
       "      <td>2001</td>\n",
       "      <td>Causes</td>\n",
       "      <td>Ideological Causes/Hero Worshipping</td>\n",
       "      <td>Female</td>\n",
       "      <td>60+</td>\n",
       "      <td>0</td>\n",
       "    </tr>\n",
       "    <tr>\n",
       "      <th>4</th>\n",
       "      <td>A &amp; N ISLANDS</td>\n",
       "      <td>2001</td>\n",
       "      <td>Causes</td>\n",
       "      <td>Illness (Aids/STD)</td>\n",
       "      <td>Female</td>\n",
       "      <td>0-14</td>\n",
       "      <td>0</td>\n",
       "    </tr>\n",
       "  </tbody>\n",
       "</table>\n",
       "</div>"
      ],
      "text/plain": [
       "           State  Year Type_code                                 Type  Gender  \\\n",
       "0  A & N ISLANDS  2001    Causes                               Cancer    Male   \n",
       "1  A & N ISLANDS  2001    Causes                              Divorce    Male   \n",
       "2  A & N ISLANDS  2001    Causes                        Dowry Dispute  Female   \n",
       "3  A & N ISLANDS  2001    Causes  Ideological Causes/Hero Worshipping  Female   \n",
       "4  A & N ISLANDS  2001    Causes                   Illness (Aids/STD)  Female   \n",
       "\n",
       "  Age_group  Total  \n",
       "0     15-29      0  \n",
       "1       60+      0  \n",
       "2       60+      0  \n",
       "3       60+      0  \n",
       "4      0-14      0  "
      ]
     },
     "execution_count": 57,
     "metadata": {},
     "output_type": "execute_result"
    }
   ],
   "source": [
    "data.head()"
   ]
  },
  {
   "cell_type": "code",
   "execution_count": 58,
   "id": "f71cf812-c277-4f7a-9de9-7198028bf6c5",
   "metadata": {},
   "outputs": [
    {
     "name": "stderr",
     "output_type": "stream",
     "text": [
      "C:\\Users\\Acer\\AppData\\Local\\Temp\\ipykernel_19168\\66376505.py:1: UserWarning: Boolean Series key will be reindexed to match DataFrame index.\n",
      "  data[['Type_code','Type','Age_group']][data['Type_code']=='Professional_Profile'][data['Age_group']=='0-14']\n"
     ]
    },
    {
     "data": {
      "text/html": [
       "<div>\n",
       "<style scoped>\n",
       "    .dataframe tbody tr th:only-of-type {\n",
       "        vertical-align: middle;\n",
       "    }\n",
       "\n",
       "    .dataframe tbody tr th {\n",
       "        vertical-align: top;\n",
       "    }\n",
       "\n",
       "    .dataframe thead th {\n",
       "        text-align: right;\n",
       "    }\n",
       "</style>\n",
       "<table border=\"1\" class=\"dataframe\">\n",
       "  <thead>\n",
       "    <tr style=\"text-align: right;\">\n",
       "      <th></th>\n",
       "      <th>Type_code</th>\n",
       "      <th>Type</th>\n",
       "      <th>Age_group</th>\n",
       "    </tr>\n",
       "  </thead>\n",
       "  <tbody>\n",
       "    <tr>\n",
       "      <th>17</th>\n",
       "      <td>Professional_Profile</td>\n",
       "      <td>Others (Please Specify)</td>\n",
       "      <td>0-14</td>\n",
       "    </tr>\n",
       "    <tr>\n",
       "      <th>59</th>\n",
       "      <td>Professional_Profile</td>\n",
       "      <td>Farming/Agriculture Activity</td>\n",
       "      <td>0-14</td>\n",
       "    </tr>\n",
       "    <tr>\n",
       "      <th>96</th>\n",
       "      <td>Professional_Profile</td>\n",
       "      <td>Student</td>\n",
       "      <td>0-14</td>\n",
       "    </tr>\n",
       "    <tr>\n",
       "      <th>106</th>\n",
       "      <td>Professional_Profile</td>\n",
       "      <td>Unemployed</td>\n",
       "      <td>0-14</td>\n",
       "    </tr>\n",
       "    <tr>\n",
       "      <th>124</th>\n",
       "      <td>Professional_Profile</td>\n",
       "      <td>Service (Government)</td>\n",
       "      <td>0-14</td>\n",
       "    </tr>\n",
       "    <tr>\n",
       "      <th>...</th>\n",
       "      <td>...</td>\n",
       "      <td>...</td>\n",
       "      <td>...</td>\n",
       "    </tr>\n",
       "    <tr>\n",
       "      <th>237376</th>\n",
       "      <td>Professional_Profile</td>\n",
       "      <td>Service (Private)</td>\n",
       "      <td>0-14</td>\n",
       "    </tr>\n",
       "    <tr>\n",
       "      <th>237418</th>\n",
       "      <td>Professional_Profile</td>\n",
       "      <td>Self-employed (Business activity)</td>\n",
       "      <td>0-14</td>\n",
       "    </tr>\n",
       "    <tr>\n",
       "      <th>237450</th>\n",
       "      <td>Professional_Profile</td>\n",
       "      <td>Others (Please Specify)</td>\n",
       "      <td>0-14</td>\n",
       "    </tr>\n",
       "    <tr>\n",
       "      <th>237466</th>\n",
       "      <td>Professional_Profile</td>\n",
       "      <td>Self-employed (Business activity)</td>\n",
       "      <td>0-14</td>\n",
       "    </tr>\n",
       "    <tr>\n",
       "      <th>237515</th>\n",
       "      <td>Professional_Profile</td>\n",
       "      <td>Self-employed (Business activity)</td>\n",
       "      <td>0-14</td>\n",
       "    </tr>\n",
       "  </tbody>\n",
       "</table>\n",
       "<p>9747 rows × 3 columns</p>\n",
       "</div>"
      ],
      "text/plain": [
       "                   Type_code                               Type Age_group\n",
       "17      Professional_Profile            Others (Please Specify)      0-14\n",
       "59      Professional_Profile       Farming/Agriculture Activity      0-14\n",
       "96      Professional_Profile                            Student      0-14\n",
       "106     Professional_Profile                         Unemployed      0-14\n",
       "124     Professional_Profile               Service (Government)      0-14\n",
       "...                      ...                                ...       ...\n",
       "237376  Professional_Profile                  Service (Private)      0-14\n",
       "237418  Professional_Profile  Self-employed (Business activity)      0-14\n",
       "237450  Professional_Profile            Others (Please Specify)      0-14\n",
       "237466  Professional_Profile  Self-employed (Business activity)      0-14\n",
       "237515  Professional_Profile  Self-employed (Business activity)      0-14\n",
       "\n",
       "[9747 rows x 3 columns]"
      ]
     },
     "execution_count": 58,
     "metadata": {},
     "output_type": "execute_result"
    }
   ],
   "source": [
    "data[['Type_code','Type','Age_group']][data['Type_code']=='Professional_Profile'][data['Age_group']=='0-14']"
   ]
  },
  {
   "cell_type": "code",
   "execution_count": 59,
   "id": "54c66fb4-e588-4750-903e-6ca4cc111adf",
   "metadata": {},
   "outputs": [
    {
     "name": "stderr",
     "output_type": "stream",
     "text": [
      "C:\\Users\\Acer\\AppData\\Local\\Temp\\ipykernel_19168\\3694067583.py:1: UserWarning: Boolean Series key will be reindexed to match DataFrame index.\n",
      "  data[['Type_code','Type','Age_group']][data['Type_code']=='Professional_Profile'][data['Age_group']=='0-14'].Type.unique()\n"
     ]
    },
    {
     "data": {
      "text/plain": [
       "array(['Others (Please Specify)', 'Farming/Agriculture Activity',\n",
       "       'Student', 'Unemployed', 'Service (Government)',\n",
       "       'Professional Activity', 'Self-employed (Business activity)',\n",
       "       'Retired Person', 'Public Sector Undertaking', 'Service (Private)',\n",
       "       'House Wife'], dtype=object)"
      ]
     },
     "execution_count": 59,
     "metadata": {},
     "output_type": "execute_result"
    }
   ],
   "source": [
    "data[['Type_code','Type','Age_group']][data['Type_code']=='Professional_Profile'][data['Age_group']=='0-14'].Type.unique()"
   ]
  },
  {
   "cell_type": "markdown",
   "id": "2e77eef0-967b-4cb5-b891-6d1505b71501",
   "metadata": {},
   "source": [
    "#### !!!! some error is here, how can (0-14) be \n",
    "'Retired Person', 'Public Sector Undertaking', 'Service (Private)','House Wife'"
   ]
  },
  {
   "cell_type": "markdown",
   "id": "d833588d-26f7-49bb-95ee-7e111ac2c7d5",
   "metadata": {},
   "source": [
    "#### checking out frequency of this error"
   ]
  },
  {
   "cell_type": "code",
   "execution_count": 60,
   "id": "cedb5dd5-aa03-4121-9aaf-8621a4adbe23",
   "metadata": {},
   "outputs": [
    {
     "data": {
      "text/plain": [
       "(array(['House Wife', 'Others (Please Specify)',\n",
       "        'Public Sector Undertaking', 'Self-employed (Business activity)',\n",
       "        'Service (Government)', 'Farming/Agriculture Activity',\n",
       "        'Retired Person', 'Student', 'Unemployed', 'Service (Private)',\n",
       "        'Professional Activity'], dtype=object),\n",
       " 11)"
      ]
     },
     "execution_count": 60,
     "metadata": {},
     "output_type": "execute_result"
    }
   ],
   "source": [
    "professions = data[data['Type_code']=='Professional_Profile'].Type.unique()\n",
    "professions , len(professions)"
   ]
  },
  {
   "cell_type": "code",
   "execution_count": 61,
   "id": "831e0c6a-b04b-4d7e-8c78-eccea2bcdca6",
   "metadata": {},
   "outputs": [
    {
     "data": {
      "text/plain": [
       "'House Wife'"
      ]
     },
     "execution_count": 61,
     "metadata": {},
     "output_type": "execute_result"
    }
   ],
   "source": [
    "professions[0]"
   ]
  },
  {
   "cell_type": "code",
   "execution_count": 62,
   "id": "56710043-8000-4590-98eb-7227d02a4ddb",
   "metadata": {},
   "outputs": [
    {
     "data": {
      "text/plain": [
       "array(['60+', '0-14', '30-44', '15-29', '45-59'], dtype=object)"
      ]
     },
     "execution_count": 62,
     "metadata": {},
     "output_type": "execute_result"
    }
   ],
   "source": [
    "age_bracket = data[data['Type_code']=='Professional_Profile'].Age_group.unique()\n",
    "age_bracket"
   ]
  },
  {
   "cell_type": "code",
   "execution_count": 63,
   "id": "84d6b774-5cf1-4af0-aa48-f9ee929fb2e4",
   "metadata": {},
   "outputs": [
    {
     "name": "stderr",
     "output_type": "stream",
     "text": [
      "C:\\Users\\Acer\\AppData\\Local\\Temp\\ipykernel_19168\\1150050072.py:3: UserWarning: Boolean Series key will be reindexed to match DataFrame index.\n",
      "  c = data[data['Type_code']=='Professional_Profile'][data['Type']=='House Wife'][data['Age_group']==i].Total.sum()\n"
     ]
    },
    {
     "data": {
      "text/plain": [
       "[17044, 569, 96636, 127415, 43579]"
      ]
     },
     "execution_count": 63,
     "metadata": {},
     "output_type": "execute_result"
    }
   ],
   "source": [
    "counts = []\n",
    "for i in age_bracket:\n",
    "    c = data[data['Type_code']=='Professional_Profile'][data['Type']=='House Wife'][data['Age_group']==i].Total.sum()\n",
    "    counts.append(c)\n",
    "counts"
   ]
  },
  {
   "cell_type": "code",
   "execution_count": 64,
   "id": "b3c71bca-eb91-40bf-9099-03ae6759fd52",
   "metadata": {},
   "outputs": [
    {
     "data": {
      "text/plain": [
       "<BarContainer object of 5 artists>"
      ]
     },
     "execution_count": 64,
     "metadata": {},
     "output_type": "execute_result"
    },
    {
     "data": {
      "image/png": "[encoded data removed]",
      "text/plain": [
       "<Figure size 432x288 with 1 Axes>"
      ]
     },
     "metadata": {
      "needs_background": "light"
     },
     "output_type": "display_data"
    }
   ],
   "source": [
    "plt.bar(age_bracket,counts)"
   ]
  },
  {
   "cell_type": "code",
   "execution_count": 65,
   "id": "1860bfe8-4ac1-4783-82b8-bea7047ded4e",
   "metadata": {},
   "outputs": [
    {
     "data": {
      "text/plain": [
       "285243"
      ]
     },
     "execution_count": 65,
     "metadata": {},
     "output_type": "execute_result"
    }
   ],
   "source": [
    "sum = 0\n",
    "for i in counts:\n",
    "    sum = sum + i\n",
    "sum"
   ]
  },
  {
   "cell_type": "code",
   "execution_count": 66,
   "id": "c9b0bdbe-cf6e-422b-8219-97eac7de1baa",
   "metadata": {},
   "outputs": [
    {
     "data": {
      "text/plain": [
       "[5.98, 0.2, 33.88, 44.67, 15.28]"
      ]
     },
     "execution_count": 66,
     "metadata": {},
     "output_type": "execute_result"
    }
   ],
   "source": [
    "percentage =[1,2,3,4,5]\n",
    "for i in range(5):\n",
    "    percentage[i] = round(counts[i]*100/sum,2)\n",
    "percentage"
   ]
  },
  {
   "cell_type": "markdown",
   "id": "b2bec926-f817-4333-878b-93d1ca7f4b35",
   "metadata": {},
   "source": [
    "* negligible error of 0.2% in '0-14'"
   ]
  },
  {
   "cell_type": "code",
   "execution_count": 67,
   "id": "6d07465a-d7d5-4677-a95f-c0c3462c01c2",
   "metadata": {},
   "outputs": [
    {
     "name": "stderr",
     "output_type": "stream",
     "text": [
      "C:\\Users\\Acer\\AppData\\Local\\Temp\\ipykernel_19168\\1128720726.py:3: UserWarning: Boolean Series key will be reindexed to match DataFrame index.\n",
      "  c = data[data['Type_code']=='Professional_Profile'][data['Age_group']==i].Total.sum()\n"
     ]
    },
    {
     "data": {
      "text/plain": [
       "[114940, 32616, 488628, 509643, 293416]"
      ]
     },
     "execution_count": 67,
     "metadata": {},
     "output_type": "execute_result"
    }
   ],
   "source": [
    "counts = []\n",
    "for i in age_bracket:\n",
    "    c = data[data['Type_code']=='Professional_Profile'][data['Age_group']==i].Total.sum()\n",
    "    counts.append(c)\n",
    "counts"
   ]
  },
  {
   "cell_type": "code",
   "execution_count": 68,
   "id": "900cfdb6-2627-4848-acb4-4843f2f2c7aa",
   "metadata": {},
   "outputs": [
    {
     "data": {
      "text/plain": [
       "1439243"
      ]
     },
     "execution_count": 68,
     "metadata": {},
     "output_type": "execute_result"
    }
   ],
   "source": [
    "sum = 0\n",
    "for i in range(5):\n",
    "    sum = sum + counts[i]\n",
    "sum"
   ]
  },
  {
   "cell_type": "code",
   "execution_count": 69,
   "id": "6c31c052-1a9d-4351-a78b-df0da949a159",
   "metadata": {},
   "outputs": [
    {
     "data": {
      "text/plain": [
       "[7.99, 2.27, 33.95, 35.41, 20.39]"
      ]
     },
     "execution_count": 69,
     "metadata": {},
     "output_type": "execute_result"
    }
   ],
   "source": [
    "for i in range(5):\n",
    "    counts[i] = round(counts[i]*100/sum,2)\n",
    "counts"
   ]
  },
  {
   "cell_type": "markdown",
   "id": "4170b742-ca8b-4192-9634-29d5a168e3af",
   "metadata": {},
   "source": [
    "* 0-14 composire of 2.27% fo people under 'Professional_Profile'"
   ]
  },
  {
   "cell_type": "code",
   "execution_count": 70,
   "id": "5fb6b1ab-02d7-4e1d-9439-fea40a436743",
   "metadata": {},
   "outputs": [
    {
     "data": {
      "text/plain": [
       "'Public Sector Undertaking'"
      ]
     },
     "execution_count": 70,
     "metadata": {},
     "output_type": "execute_result"
    }
   ],
   "source": [
    "professions[2]"
   ]
  },
  {
   "cell_type": "code",
   "execution_count": 71,
   "id": "5bce857f-106a-4a4d-9001-8d1bed3724a9",
   "metadata": {},
   "outputs": [
    {
     "name": "stderr",
     "output_type": "stream",
     "text": [
      "C:\\Users\\Acer\\AppData\\Local\\Temp\\ipykernel_19168\\3085667358.py:3: UserWarning: Boolean Series key will be reindexed to match DataFrame index.\n",
      "  c = data[data['Type_code']=='Professional_Profile'][data['Type']=='Public Sector Undertaking'][data['Age_group']==i].Total.sum()\n"
     ]
    },
    {
     "data": {
      "text/plain": [
       "[1155, 63, 12145, 9465, 7958]"
      ]
     },
     "execution_count": 71,
     "metadata": {},
     "output_type": "execute_result"
    }
   ],
   "source": [
    "counts = []\n",
    "for i in age_bracket:\n",
    "    c = data[data['Type_code']=='Professional_Profile'][data['Type']=='Public Sector Undertaking'][data['Age_group']==i].Total.sum()\n",
    "    counts.append(c)\n",
    "counts"
   ]
  },
  {
   "cell_type": "markdown",
   "id": "77dc3a63-4bab-4b34-8d49-57f77d6d378c",
   "metadata": {},
   "source": [
    "* 63 is too small to neglect"
   ]
  },
  {
   "cell_type": "code",
   "execution_count": 72,
   "id": "b21e0c0d-b44b-46b2-8ff3-65120f3a3533",
   "metadata": {},
   "outputs": [
    {
     "data": {
      "text/plain": [
       "'Self-employed (Business activity)'"
      ]
     },
     "execution_count": 72,
     "metadata": {},
     "output_type": "execute_result"
    }
   ],
   "source": [
    "professions[3]"
   ]
  },
  {
   "cell_type": "code",
   "execution_count": 73,
   "id": "e2646b2e-f779-4b8e-a44d-3ba305ab5a62",
   "metadata": {},
   "outputs": [
    {
     "name": "stderr",
     "output_type": "stream",
     "text": [
      "C:\\Users\\Acer\\AppData\\Local\\Temp\\ipykernel_19168\\482434411.py:3: UserWarning: Boolean Series key will be reindexed to match DataFrame index.\n",
      "  c = data[data['Type_code']=='Professional_Profile'][data['Type']=='Self-employed (Business activity)'][data['Age_group']==i].Total.sum()\n"
     ]
    },
    {
     "data": {
      "text/plain": [
       "[4984, 253, 32179, 20291, 20405]"
      ]
     },
     "execution_count": 73,
     "metadata": {},
     "output_type": "execute_result"
    }
   ],
   "source": [
    "counts = []\n",
    "for i in age_bracket:\n",
    "    c = data[data['Type_code']=='Professional_Profile'][data['Type']=='Self-employed (Business activity)'][data['Age_group']==i].Total.sum()\n",
    "    counts.append(c)\n",
    "counts"
   ]
  },
  {
   "cell_type": "markdown",
   "id": "4afb0782-3c4d-4718-95f9-ee9e726f0379",
   "metadata": {},
   "source": [
    "* 253 is small error"
   ]
  },
  {
   "cell_type": "code",
   "execution_count": 74,
   "id": "571650eb-5d7a-42c5-879d-6154a3f55cf7",
   "metadata": {},
   "outputs": [
    {
     "data": {
      "text/plain": [
       "'Service (Government)'"
      ]
     },
     "execution_count": 74,
     "metadata": {},
     "output_type": "execute_result"
    }
   ],
   "source": [
    "professions[4]"
   ]
  },
  {
   "cell_type": "code",
   "execution_count": 75,
   "id": "6fd43d94-76d4-46e8-9ca7-b06065037ee5",
   "metadata": {},
   "outputs": [
    {
     "name": "stderr",
     "output_type": "stream",
     "text": [
      "C:\\Users\\Acer\\AppData\\Local\\Temp\\ipykernel_19168\\2333392485.py:3: UserWarning: Boolean Series key will be reindexed to match DataFrame index.\n",
      "  c = data[data['Type_code']=='Professional_Profile'][data['Type']=='Service (Government)'][data['Age_group']==i].Total.sum()\n"
     ]
    },
    {
     "data": {
      "text/plain": [
       "[290, 15, 10142, 5911, 6967]"
      ]
     },
     "execution_count": 75,
     "metadata": {},
     "output_type": "execute_result"
    }
   ],
   "source": [
    "counts = []\n",
    "for i in age_bracket:\n",
    "    c = data[data['Type_code']=='Professional_Profile'][data['Type']=='Service (Government)'][data['Age_group']==i].Total.sum()\n",
    "    counts.append(c)\n",
    "counts"
   ]
  },
  {
   "cell_type": "markdown",
   "id": "f540f5da-d3e6-4ac5-8a25-4fb4737b11d0",
   "metadata": {},
   "source": [
    "* 15 is small error can be ignored"
   ]
  },
  {
   "cell_type": "code",
   "execution_count": 76,
   "id": "0efef6e3-e5fa-4151-92c8-b80225b99268",
   "metadata": {},
   "outputs": [
    {
     "data": {
      "text/plain": [
       "'Farming/Agriculture Activity'"
      ]
     },
     "execution_count": 76,
     "metadata": {},
     "output_type": "execute_result"
    }
   ],
   "source": [
    "professions[5]"
   ]
  },
  {
   "cell_type": "code",
   "execution_count": 77,
   "id": "5f0496fa-196a-4324-b33e-24e29cea1470",
   "metadata": {},
   "outputs": [
    {
     "name": "stderr",
     "output_type": "stream",
     "text": [
      "C:\\Users\\Acer\\AppData\\Local\\Temp\\ipykernel_19168\\1885043712.py:3: UserWarning: Boolean Series key will be reindexed to match DataFrame index.\n",
      "  c = data[data['Type_code']=='Professional_Profile'][data['Type']=='Farming/Agriculture Activity'][data['Age_group']==i].Total.sum()\n"
     ]
    },
    {
     "data": {
      "text/plain": [
       "[20382, 1041, 73634, 52700, 50166]"
      ]
     },
     "execution_count": 77,
     "metadata": {},
     "output_type": "execute_result"
    }
   ],
   "source": [
    "counts = []\n",
    "for i in age_bracket:\n",
    "    c = data[data['Type_code']=='Professional_Profile'][data['Type']=='Farming/Agriculture Activity'][data['Age_group']==i].Total.sum()\n",
    "    counts.append(c)\n",
    "counts"
   ]
  },
  {
   "cell_type": "markdown",
   "id": "2b8ee061-3748-449d-9c67-550907277b5d",
   "metadata": {},
   "source": [
    "* even though 1041 is a big number but it is not error, cause it is common for '0-14' to work in farming industry"
   ]
  },
  {
   "cell_type": "code",
   "execution_count": 78,
   "id": "8471391c-607e-4830-ac81-458fd118858f",
   "metadata": {},
   "outputs": [
    {
     "data": {
      "text/plain": [
       "'Retired Person'"
      ]
     },
     "execution_count": 78,
     "metadata": {},
     "output_type": "execute_result"
    }
   ],
   "source": [
    "professions[6]"
   ]
  },
  {
   "cell_type": "code",
   "execution_count": 79,
   "id": "fda10a6c-a5b1-4481-976e-a2bb3fc76989",
   "metadata": {},
   "outputs": [
    {
     "name": "stderr",
     "output_type": "stream",
     "text": [
      "C:\\Users\\Acer\\AppData\\Local\\Temp\\ipykernel_19168\\3429497172.py:3: UserWarning: Boolean Series key will be reindexed to match DataFrame index.\n",
      "  c = data[data['Type_code']=='Professional_Profile'][data['Type']=='Retired Person'][data['Age_group']==i].Total.sum()\n"
     ]
    },
    {
     "data": {
      "text/plain": [
       "[8360, 9, 475, 285, 2205]"
      ]
     },
     "execution_count": 79,
     "metadata": {},
     "output_type": "execute_result"
    }
   ],
   "source": [
    "counts = []\n",
    "for i in age_bracket:\n",
    "    c = data[data['Type_code']=='Professional_Profile'][data['Type']=='Retired Person'][data['Age_group']==i].Total.sum()\n",
    "    counts.append(c)\n",
    "counts"
   ]
  },
  {
   "cell_type": "code",
   "execution_count": 80,
   "id": "6cf34ecb-3abf-4930-abe8-7f33e41757d5",
   "metadata": {},
   "outputs": [
    {
     "data": {
      "text/plain": [
       "array(['60+', '0-14', '30-44', '15-29', '45-59'], dtype=object)"
      ]
     },
     "execution_count": 80,
     "metadata": {},
     "output_type": "execute_result"
    }
   ],
   "source": [
    "age_bracket"
   ]
  },
  {
   "cell_type": "markdown",
   "id": "c1f5b9eb-39dd-46be-bef1-f7d2dd30c895",
   "metadata": {},
   "source": [
    "* not too much of error is here"
   ]
  },
  {
   "cell_type": "code",
   "execution_count": 81,
   "id": "dc77e10e-7629-4185-9caf-7e61f2abf053",
   "metadata": {},
   "outputs": [
    {
     "data": {
      "text/plain": [
       "'Student'"
      ]
     },
     "execution_count": 81,
     "metadata": {},
     "output_type": "execute_result"
    }
   ],
   "source": [
    "professions[7]"
   ]
  },
  {
   "cell_type": "code",
   "execution_count": 82,
   "id": "49235884-c412-4b14-a3bd-589058564edd",
   "metadata": {},
   "outputs": [
    {
     "name": "stderr",
     "output_type": "stream",
     "text": [
      "C:\\Users\\Acer\\AppData\\Local\\Temp\\ipykernel_19168\\1245001618.py:3: UserWarning: Boolean Series key will be reindexed to match DataFrame index.\n",
      "  c = data[data['Type_code']=='Professional_Profile'][data['Type']=='Student'][data['Age_group']==i].Total.sum()\n"
     ]
    },
    {
     "data": {
      "text/plain": [
       "[45, 14619, 3113, 56219, 327]"
      ]
     },
     "execution_count": 82,
     "metadata": {},
     "output_type": "execute_result"
    }
   ],
   "source": [
    "counts = []\n",
    "for i in age_bracket:\n",
    "    c = data[data['Type_code']=='Professional_Profile'][data['Type']=='Student'][data['Age_group']==i].Total.sum()\n",
    "    counts.append(c)\n",
    "counts"
   ]
  },
  {
   "cell_type": "markdown",
   "id": "854a6ee2-96b3-47a4-9da9-2015407884c4",
   "metadata": {},
   "source": [
    "* No problem in students"
   ]
  },
  {
   "cell_type": "code",
   "execution_count": 83,
   "id": "6a10eb42-9fab-4170-b064-4200d7dfc234",
   "metadata": {},
   "outputs": [
    {
     "data": {
      "text/plain": [
       "'Unemployed'"
      ]
     },
     "execution_count": 83,
     "metadata": {},
     "output_type": "execute_result"
    }
   ],
   "source": [
    "professions[8]"
   ]
  },
  {
   "cell_type": "code",
   "execution_count": 84,
   "id": "c6cb71dc-45f4-4e02-a81d-f7a7b53f9493",
   "metadata": {},
   "outputs": [
    {
     "data": {
      "text/plain": [
       "'Service (Private)'"
      ]
     },
     "execution_count": 84,
     "metadata": {},
     "output_type": "execute_result"
    }
   ],
   "source": [
    "professions[9]"
   ]
  },
  {
   "cell_type": "code",
   "execution_count": 85,
   "id": "13c9b934-9036-4afc-b07b-c0ca7af25328",
   "metadata": {},
   "outputs": [
    {
     "name": "stderr",
     "output_type": "stream",
     "text": [
      "C:\\Users\\Acer\\AppData\\Local\\Temp\\ipykernel_19168\\1946107585.py:3: UserWarning: Boolean Series key will be reindexed to match DataFrame index.\n",
      "  c = data[data['Type_code']=='Professional_Profile'][data['Type']=='Service (Private)'][data['Age_group']==i].Total.sum()\n"
     ]
    },
    {
     "data": {
      "text/plain": [
       "[4161, 344, 46080, 39168, 25719]"
      ]
     },
     "execution_count": 85,
     "metadata": {},
     "output_type": "execute_result"
    }
   ],
   "source": [
    "counts = []\n",
    "for i in age_bracket:\n",
    "    c = data[data['Type_code']=='Professional_Profile'][data['Type']=='Service (Private)'][data['Age_group']==i].Total.sum()\n",
    "    counts.append(c)\n",
    "counts"
   ]
  },
  {
   "cell_type": "markdown",
   "id": "8365625c-742a-4d80-b60e-aa781cc44216",
   "metadata": {},
   "source": [
    "* small error"
   ]
  },
  {
   "cell_type": "code",
   "execution_count": 86,
   "id": "662a8c35-63b7-418c-9deb-3553e3021d74",
   "metadata": {},
   "outputs": [
    {
     "data": {
      "text/plain": [
       "'Professional Activity'"
      ]
     },
     "execution_count": 86,
     "metadata": {},
     "output_type": "execute_result"
    }
   ],
   "source": [
    "professions[10]"
   ]
  },
  {
   "cell_type": "markdown",
   "id": "874ed7f0-4368-446f-acde-2b88b6c57243",
   "metadata": {},
   "source": [
    "#### checking gender-errors\n",
    "* matching Type with gender"
   ]
  },
  {
   "cell_type": "code",
   "execution_count": 87,
   "id": "a132e60b-8606-4271-88f0-dbaaca068736",
   "metadata": {},
   "outputs": [
    {
     "data": {
      "text/html": [
       "<div>\n",
       "<style scoped>\n",
       "    .dataframe tbody tr th:only-of-type {\n",
       "        vertical-align: middle;\n",
       "    }\n",
       "\n",
       "    .dataframe tbody tr th {\n",
       "        vertical-align: top;\n",
       "    }\n",
       "\n",
       "    .dataframe thead th {\n",
       "        text-align: right;\n",
       "    }\n",
       "</style>\n",
       "<table border=\"1\" class=\"dataframe\">\n",
       "  <thead>\n",
       "    <tr style=\"text-align: right;\">\n",
       "      <th></th>\n",
       "      <th>State</th>\n",
       "      <th>Year</th>\n",
       "      <th>Type_code</th>\n",
       "      <th>Type</th>\n",
       "      <th>Gender</th>\n",
       "      <th>Age_group</th>\n",
       "      <th>Total</th>\n",
       "    </tr>\n",
       "  </thead>\n",
       "  <tbody>\n",
       "    <tr>\n",
       "      <th>0</th>\n",
       "      <td>A &amp; N ISLANDS</td>\n",
       "      <td>2001</td>\n",
       "      <td>Causes</td>\n",
       "      <td>Cancer</td>\n",
       "      <td>Male</td>\n",
       "      <td>15-29</td>\n",
       "      <td>0</td>\n",
       "    </tr>\n",
       "    <tr>\n",
       "      <th>1</th>\n",
       "      <td>A &amp; N ISLANDS</td>\n",
       "      <td>2001</td>\n",
       "      <td>Causes</td>\n",
       "      <td>Divorce</td>\n",
       "      <td>Male</td>\n",
       "      <td>60+</td>\n",
       "      <td>0</td>\n",
       "    </tr>\n",
       "  </tbody>\n",
       "</table>\n",
       "</div>"
      ],
      "text/plain": [
       "           State  Year Type_code     Type Gender Age_group  Total\n",
       "0  A & N ISLANDS  2001    Causes   Cancer   Male     15-29      0\n",
       "1  A & N ISLANDS  2001    Causes  Divorce   Male       60+      0"
      ]
     },
     "execution_count": 87,
     "metadata": {},
     "output_type": "execute_result"
    }
   ],
   "source": [
    "data.head(2)"
   ]
  },
  {
   "cell_type": "code",
   "execution_count": 88,
   "id": "0fcfeaaf-63f5-4151-a7ba-88bcfe8330b6",
   "metadata": {},
   "outputs": [
    {
     "data": {
      "text/plain": [
       "array(['Cancer', 'Divorce', 'Paralysis', 'Property Dispute', 'By Machine',\n",
       "       'By Overdose of sleeping pills', 'By Self Infliction of injury',\n",
       "       'By touching electric wires', 'House Wife',\n",
       "       'Others (Please Specify)', 'Bankruptcy',\n",
       "       'Cancellation/Non-Settlement of Marriage', 'Death of Dear Person',\n",
       "       'Ideological Causes/Hero Worshipping',\n",
       "       'Suspected/Illicit Relation', 'By Fire-Arms', 'By Other means',\n",
       "       'Farming/Agriculture Activity', 'Retired Person',\n",
       "       'Service (Government)', 'Fall in Social Reputation',\n",
       "       'Family Problems', 'Illness (Aids/STD)',\n",
       "       'By Consuming Insecticides', 'Other Prolonged Illness',\n",
       "       'By Drowning', 'By Jumping from (Other sites)',\n",
       "       'By Over Alcoholism', 'Failure in Examination',\n",
       "       'Illegitimate Pregnancy', 'Insanity/Mental Illness',\n",
       "       'Love Affairs', 'Other Causes',\n",
       "       'Physical Abuse (Rape/Incest Etc.)', 'Poverty',\n",
       "       'Professional/Career Problem', 'Unemployment', 'Student',\n",
       "       'Drug Abuse/Addiction', 'By Jumping off Moving Vehicles/Trains',\n",
       "       'Dowry Dispute', 'Impotency',\n",
       "       'By coming under running vehicles/trains',\n",
       "       'By Fire/Self Immolation', 'Service (Private)',\n",
       "       'Hr. Secondary/Intermediate/Pre-Universit', 'Middle',\n",
       "       'Professional Activity', 'Self-employed (Business activity)',\n",
       "       'By Consuming Other Poison', 'Widowed/Widower', 'By Hanging',\n",
       "       'Unemployed', 'Matriculate/Secondary', 'Public Sector Undertaking',\n",
       "       'By Jumping from (Building)', 'Divorcee', 'No Education',\n",
       "       'Post Graduate and Above', 'Never Married', 'Diploma', 'Primary',\n",
       "       'Seperated', 'Graduate', 'Married'], dtype=object)"
      ]
     },
     "execution_count": 88,
     "metadata": {},
     "output_type": "execute_result"
    }
   ],
   "source": [
    "data[data['Gender']=='Male'].Type.unique()"
   ]
  },
  {
   "cell_type": "code",
   "execution_count": 89,
   "id": "33351e60-8aae-4fb4-9985-9591eb10ea23",
   "metadata": {},
   "outputs": [
    {
     "name": "stderr",
     "output_type": "stream",
     "text": [
      "C:\\Users\\Acer\\AppData\\Local\\Temp\\ipykernel_19168\\787656446.py:1: UserWarning: Boolean Series key will be reindexed to match DataFrame index.\n",
      "  data[data['Gender']=='Male'][data['Type']=='House Wife']\n"
     ]
    },
    {
     "data": {
      "text/html": [
       "<div>\n",
       "<style scoped>\n",
       "    .dataframe tbody tr th:only-of-type {\n",
       "        vertical-align: middle;\n",
       "    }\n",
       "\n",
       "    .dataframe tbody tr th {\n",
       "        vertical-align: top;\n",
       "    }\n",
       "\n",
       "    .dataframe thead th {\n",
       "        text-align: right;\n",
       "    }\n",
       "</style>\n",
       "<table border=\"1\" class=\"dataframe\">\n",
       "  <thead>\n",
       "    <tr style=\"text-align: right;\">\n",
       "      <th></th>\n",
       "      <th>State</th>\n",
       "      <th>Year</th>\n",
       "      <th>Type_code</th>\n",
       "      <th>Type</th>\n",
       "      <th>Gender</th>\n",
       "      <th>Age_group</th>\n",
       "      <th>Total</th>\n",
       "    </tr>\n",
       "  </thead>\n",
       "  <tbody>\n",
       "    <tr>\n",
       "      <th>16</th>\n",
       "      <td>A &amp; N ISLANDS</td>\n",
       "      <td>2001</td>\n",
       "      <td>Professional_Profile</td>\n",
       "      <td>House Wife</td>\n",
       "      <td>Male</td>\n",
       "      <td>60+</td>\n",
       "      <td>0</td>\n",
       "    </tr>\n",
       "    <tr>\n",
       "      <th>122</th>\n",
       "      <td>A &amp; N ISLANDS</td>\n",
       "      <td>2003</td>\n",
       "      <td>Professional_Profile</td>\n",
       "      <td>House Wife</td>\n",
       "      <td>Male</td>\n",
       "      <td>45-59</td>\n",
       "      <td>0</td>\n",
       "    </tr>\n",
       "    <tr>\n",
       "      <th>602</th>\n",
       "      <td>A &amp; N ISLANDS</td>\n",
       "      <td>2003</td>\n",
       "      <td>Professional_Profile</td>\n",
       "      <td>House Wife</td>\n",
       "      <td>Male</td>\n",
       "      <td>15-29</td>\n",
       "      <td>0</td>\n",
       "    </tr>\n",
       "    <tr>\n",
       "      <th>655</th>\n",
       "      <td>A &amp; N ISLANDS</td>\n",
       "      <td>2001</td>\n",
       "      <td>Professional_Profile</td>\n",
       "      <td>House Wife</td>\n",
       "      <td>Male</td>\n",
       "      <td>45-59</td>\n",
       "      <td>0</td>\n",
       "    </tr>\n",
       "    <tr>\n",
       "      <th>756</th>\n",
       "      <td>A &amp; N ISLANDS</td>\n",
       "      <td>2002</td>\n",
       "      <td>Professional_Profile</td>\n",
       "      <td>House Wife</td>\n",
       "      <td>Male</td>\n",
       "      <td>30-44</td>\n",
       "      <td>0</td>\n",
       "    </tr>\n",
       "    <tr>\n",
       "      <th>...</th>\n",
       "      <td>...</td>\n",
       "      <td>...</td>\n",
       "      <td>...</td>\n",
       "      <td>...</td>\n",
       "      <td>...</td>\n",
       "      <td>...</td>\n",
       "      <td>...</td>\n",
       "    </tr>\n",
       "    <tr>\n",
       "      <th>237202</th>\n",
       "      <td>UTTARAKHAND</td>\n",
       "      <td>2007</td>\n",
       "      <td>Professional_Profile</td>\n",
       "      <td>House Wife</td>\n",
       "      <td>Male</td>\n",
       "      <td>0-14</td>\n",
       "      <td>0</td>\n",
       "    </tr>\n",
       "    <tr>\n",
       "      <th>237256</th>\n",
       "      <td>UTTARAKHAND</td>\n",
       "      <td>2010</td>\n",
       "      <td>Professional_Profile</td>\n",
       "      <td>House Wife</td>\n",
       "      <td>Male</td>\n",
       "      <td>15-29</td>\n",
       "      <td>0</td>\n",
       "    </tr>\n",
       "    <tr>\n",
       "      <th>237353</th>\n",
       "      <td>WEST BENGAL</td>\n",
       "      <td>2003</td>\n",
       "      <td>Professional_Profile</td>\n",
       "      <td>House Wife</td>\n",
       "      <td>Male</td>\n",
       "      <td>15-29</td>\n",
       "      <td>0</td>\n",
       "    </tr>\n",
       "    <tr>\n",
       "      <th>237417</th>\n",
       "      <td>WEST BENGAL</td>\n",
       "      <td>2006</td>\n",
       "      <td>Professional_Profile</td>\n",
       "      <td>House Wife</td>\n",
       "      <td>Male</td>\n",
       "      <td>15-29</td>\n",
       "      <td>0</td>\n",
       "    </tr>\n",
       "    <tr>\n",
       "      <th>237465</th>\n",
       "      <td>WEST BENGAL</td>\n",
       "      <td>2009</td>\n",
       "      <td>Professional_Profile</td>\n",
       "      <td>House Wife</td>\n",
       "      <td>Male</td>\n",
       "      <td>15-29</td>\n",
       "      <td>0</td>\n",
       "    </tr>\n",
       "  </tbody>\n",
       "</table>\n",
       "<p>2100 rows × 7 columns</p>\n",
       "</div>"
      ],
      "text/plain": [
       "                State  Year             Type_code        Type Gender  \\\n",
       "16      A & N ISLANDS  2001  Professional_Profile  House Wife   Male   \n",
       "122     A & N ISLANDS  2003  Professional_Profile  House Wife   Male   \n",
       "602     A & N ISLANDS  2003  Professional_Profile  House Wife   Male   \n",
       "655     A & N ISLANDS  2001  Professional_Profile  House Wife   Male   \n",
       "756     A & N ISLANDS  2002  Professional_Profile  House Wife   Male   \n",
       "...               ...   ...                   ...         ...    ...   \n",
       "237202    UTTARAKHAND  2007  Professional_Profile  House Wife   Male   \n",
       "237256    UTTARAKHAND  2010  Professional_Profile  House Wife   Male   \n",
       "237353    WEST BENGAL  2003  Professional_Profile  House Wife   Male   \n",
       "237417    WEST BENGAL  2006  Professional_Profile  House Wife   Male   \n",
       "237465    WEST BENGAL  2009  Professional_Profile  House Wife   Male   \n",
       "\n",
       "       Age_group  Total  \n",
       "16           60+      0  \n",
       "122        45-59      0  \n",
       "602        15-29      0  \n",
       "655        45-59      0  \n",
       "756        30-44      0  \n",
       "...          ...    ...  \n",
       "237202      0-14      0  \n",
       "237256     15-29      0  \n",
       "237353     15-29      0  \n",
       "237417     15-29      0  \n",
       "237465     15-29      0  \n",
       "\n",
       "[2100 rows x 7 columns]"
      ]
     },
     "execution_count": 89,
     "metadata": {},
     "output_type": "execute_result"
    }
   ],
   "source": [
    "data[data['Gender']=='Male'][data['Type']=='House Wife']"
   ]
  },
  {
   "cell_type": "code",
   "execution_count": 90,
   "id": "d30c2535-4ca9-4638-9a28-2742ed9d722e",
   "metadata": {},
   "outputs": [
    {
     "name": "stderr",
     "output_type": "stream",
     "text": [
      "C:\\Users\\Acer\\AppData\\Local\\Temp\\ipykernel_19168\\3076418222.py:1: UserWarning: Boolean Series key will be reindexed to match DataFrame index.\n",
      "  data[data['Gender']=='Male'][data['Type']=='House Wife'].Total.sum()\n"
     ]
    },
    {
     "data": {
      "text/plain": [
       "0"
      ]
     },
     "execution_count": 90,
     "metadata": {},
     "output_type": "execute_result"
    }
   ],
   "source": [
    "data[data['Gender']=='Male'][data['Type']=='House Wife'].Total.sum()"
   ]
  },
  {
   "cell_type": "markdown",
   "id": "ad6d6461-caf0-414a-9965-f2baa433eba7",
   "metadata": {},
   "source": [
    "#### !!!! House-wife & Male sum of this combination is 0"
   ]
  },
  {
   "cell_type": "code",
   "execution_count": 91,
   "id": "c8be8538-9b0e-4b79-bece-934fc974b95e",
   "metadata": {},
   "outputs": [
    {
     "data": {
      "text/plain": [
       "array(['Dowry Dispute', 'Ideological Causes/Hero Worshipping',\n",
       "       'Illness (Aids/STD)', 'Suspected/Illicit Relation',\n",
       "       'By Consuming Insecticides', 'By Fire/Self Immolation',\n",
       "       'By Hanging', 'By Other means', 'Public Sector Undertaking',\n",
       "       'Self-employed (Business activity)', 'Service (Government)',\n",
       "       'Paralysis', 'By coming under running vehicles/trains',\n",
       "       'By Self Infliction of injury', 'Farming/Agriculture Activity',\n",
       "       'Divorce', 'Failure in Examination', 'Illegitimate Pregnancy',\n",
       "       'Property Dispute', 'By Machine',\n",
       "       'Hr. Secondary/Intermediate/Pre-Universit', 'Bankruptcy',\n",
       "       'Cancellation/Non-Settlement of Marriage',\n",
       "       'By Overdose of sleeping pills', 'Family Problems', 'Unemployed',\n",
       "       'Never Married', 'Death of Dear Person', 'Drug Abuse/Addiction',\n",
       "       'Other Prolonged Illness', 'Poverty', 'By Jumping from (Building)',\n",
       "       'By Over Alcoholism', 'House Wife', 'Married', 'Cancer',\n",
       "       'Other Causes', 'Physical Abuse (Rape/Incest Etc.)', 'Impotency',\n",
       "       'By Jumping from (Other sites)', 'By touching electric wires',\n",
       "       'Love Affairs', 'Others (Please Specify)', 'By Drowning',\n",
       "       'Professional Activity', 'Service (Private)', 'Retired Person',\n",
       "       'Student', 'Fall in Social Reputation', 'Insanity/Mental Illness',\n",
       "       'Diploma', 'By Consuming Other Poison',\n",
       "       'Professional/Career Problem', 'Unemployment',\n",
       "       'By Jumping off Moving Vehicles/Trains', 'Seperated',\n",
       "       'Widowed/Widower', 'Middle', 'Divorcee', 'Matriculate/Secondary',\n",
       "       'No Education', 'Post Graduate and Above', 'By Fire-Arms',\n",
       "       'Graduate', 'Primary'], dtype=object)"
      ]
     },
     "execution_count": 91,
     "metadata": {},
     "output_type": "execute_result"
    }
   ],
   "source": [
    "data[data['Gender']=='Female'].Type.unique()"
   ]
  },
  {
   "cell_type": "markdown",
   "id": "1c9fa0c4-8665-471f-993d-2640926134a9",
   "metadata": {},
   "source": [
    "* no error here"
   ]
  },
  {
   "cell_type": "markdown",
   "id": "3c62f653-b556-47ce-97d5-7fbfc20d943a",
   "metadata": {},
   "source": [
    "### breaking down data into state_data / UT_data / extra_data\n",
    "* also adding 'TELANGANA' ot it"
   ]
  },
  {
   "cell_type": "code",
   "execution_count": 92,
   "id": "bc0d54ac-1ef6-4800-bcf5-c11c4b922dc8",
   "metadata": {},
   "outputs": [
    {
     "data": {
      "text/plain": [
       "['ANDHRA PRADESH',\n",
       " 'ARUNACHAL PRADESH',\n",
       " 'ASSAM',\n",
       " 'BIHAR',\n",
       " 'CHHATTISGARH',\n",
       " 'GOA',\n",
       " 'GUJARAT',\n",
       " 'HARYANA',\n",
       " 'HIMACHAL PRADESH',\n",
       " 'JAMMU & KASHMIR',\n",
       " 'JHARKHAND',\n",
       " 'KARNATAKA',\n",
       " 'KERALA',\n",
       " 'MADHYA PRADESH',\n",
       " 'MAHARASHTRA',\n",
       " 'MANIPUR',\n",
       " 'MEGHALAYA',\n",
       " 'MIZORAM',\n",
       " 'NAGALAND',\n",
       " 'ODISHA',\n",
       " 'PUNJAB',\n",
       " 'RAJASTHAN',\n",
       " 'SIKKIM',\n",
       " 'TAMIL NADU',\n",
       " 'TRIPURA',\n",
       " 'UTTAR PRADESH',\n",
       " 'UTTARAKHAND',\n",
       " 'WEST BENGAL']"
      ]
     },
     "execution_count": 92,
     "metadata": {},
     "output_type": "execute_result"
    }
   ],
   "source": [
    "state_list"
   ]
  },
  {
   "cell_type": "code",
   "execution_count": 93,
   "id": "fc666ff9-4cd3-4796-b33e-7a71561ba93c",
   "metadata": {},
   "outputs": [
    {
     "data": {
      "text/plain": [
       "['A & N ISLANDS',\n",
       " 'CHANDIGARH',\n",
       " 'D & N HAVELI',\n",
       " 'DAMAN & DIU',\n",
       " 'DELHI (UT)',\n",
       " 'LAKSHADWEEP',\n",
       " 'PUDUCHERRY']"
      ]
     },
     "execution_count": 93,
     "metadata": {},
     "output_type": "execute_result"
    }
   ],
   "source": [
    "UT_list"
   ]
  },
  {
   "cell_type": "code",
   "execution_count": 94,
   "id": "b0b4fb6a-4970-4f75-9f42-2ac8fb272cbd",
   "metadata": {},
   "outputs": [
    {
     "data": {
      "text/plain": [
       "['TOTAL (ALL INDIA)', 'TOTAL (STATES)', 'TOTAL (UTs)']"
      ]
     },
     "execution_count": 94,
     "metadata": {},
     "output_type": "execute_result"
    }
   ],
   "source": [
    "extra_list"
   ]
  },
  {
   "cell_type": "code",
   "execution_count": 95,
   "id": "d95f8ab5-7a47-44c1-b82b-d17f1f8ab64e",
   "metadata": {},
   "outputs": [],
   "source": [
    "state_list.append('TELANGANA')"
   ]
  },
  {
   "cell_type": "code",
   "execution_count": 96,
   "id": "ee1f57b9-c848-4173-95a6-51263ba1b7fd",
   "metadata": {},
   "outputs": [
    {
     "data": {
      "text/plain": [
       "(['ANDHRA PRADESH',\n",
       "  'ARUNACHAL PRADESH',\n",
       "  'ASSAM',\n",
       "  'BIHAR',\n",
       "  'CHHATTISGARH',\n",
       "  'GOA',\n",
       "  'GUJARAT',\n",
       "  'HARYANA',\n",
       "  'HIMACHAL PRADESH',\n",
       "  'JAMMU & KASHMIR',\n",
       "  'JHARKHAND',\n",
       "  'KARNATAKA',\n",
       "  'KERALA',\n",
       "  'MADHYA PRADESH',\n",
       "  'MAHARASHTRA',\n",
       "  'MANIPUR',\n",
       "  'MEGHALAYA',\n",
       "  'MIZORAM',\n",
       "  'NAGALAND',\n",
       "  'ODISHA',\n",
       "  'PUNJAB',\n",
       "  'RAJASTHAN',\n",
       "  'SIKKIM',\n",
       "  'TAMIL NADU',\n",
       "  'TRIPURA',\n",
       "  'UTTAR PRADESH',\n",
       "  'UTTARAKHAND',\n",
       "  'WEST BENGAL',\n",
       "  'TELANGANA'],\n",
       " 29)"
      ]
     },
     "execution_count": 96,
     "metadata": {},
     "output_type": "execute_result"
    }
   ],
   "source": [
    "state_list, len(state_list)"
   ]
  },
  {
   "cell_type": "markdown",
   "id": "9ca0d80a-0d7b-473d-9629-18302a201d57",
   "metadata": {},
   "source": [
    "* dividing 'ANDHRA PRADESH' data into two"
   ]
  },
  {
   "cell_type": "code",
   "execution_count": 97,
   "id": "fa98e40b-e07a-47f8-ae19-0b9270d27438",
   "metadata": {},
   "outputs": [
    {
     "data": {
      "text/html": [
       "<div>\n",
       "<style scoped>\n",
       "    .dataframe tbody tr th:only-of-type {\n",
       "        vertical-align: middle;\n",
       "    }\n",
       "\n",
       "    .dataframe tbody tr th {\n",
       "        vertical-align: top;\n",
       "    }\n",
       "\n",
       "    .dataframe thead th {\n",
       "        text-align: right;\n",
       "    }\n",
       "</style>\n",
       "<table border=\"1\" class=\"dataframe\">\n",
       "  <thead>\n",
       "    <tr style=\"text-align: right;\">\n",
       "      <th></th>\n",
       "      <th>State</th>\n",
       "      <th>Year</th>\n",
       "      <th>Type_code</th>\n",
       "      <th>Type</th>\n",
       "      <th>Gender</th>\n",
       "      <th>Age_group</th>\n",
       "      <th>Total</th>\n",
       "    </tr>\n",
       "  </thead>\n",
       "  <tbody>\n",
       "    <tr>\n",
       "      <th>4993</th>\n",
       "      <td>ANDHRA PRADESH</td>\n",
       "      <td>2001</td>\n",
       "      <td>Causes</td>\n",
       "      <td>Death of Dear Person</td>\n",
       "      <td>Male</td>\n",
       "      <td>0-14</td>\n",
       "      <td>0</td>\n",
       "    </tr>\n",
       "    <tr>\n",
       "      <th>4994</th>\n",
       "      <td>ANDHRA PRADESH</td>\n",
       "      <td>2001</td>\n",
       "      <td>Causes</td>\n",
       "      <td>Fall in Social Reputation</td>\n",
       "      <td>Female</td>\n",
       "      <td>60+</td>\n",
       "      <td>1</td>\n",
       "    </tr>\n",
       "    <tr>\n",
       "      <th>4995</th>\n",
       "      <td>ANDHRA PRADESH</td>\n",
       "      <td>2001</td>\n",
       "      <td>Causes</td>\n",
       "      <td>Insanity/Mental Illness</td>\n",
       "      <td>Female</td>\n",
       "      <td>15-29</td>\n",
       "      <td>112</td>\n",
       "    </tr>\n",
       "    <tr>\n",
       "      <th>4996</th>\n",
       "      <td>ANDHRA PRADESH</td>\n",
       "      <td>2001</td>\n",
       "      <td>Causes</td>\n",
       "      <td>Other Causes</td>\n",
       "      <td>Male</td>\n",
       "      <td>30-44</td>\n",
       "      <td>293</td>\n",
       "    </tr>\n",
       "    <tr>\n",
       "      <th>4997</th>\n",
       "      <td>ANDHRA PRADESH</td>\n",
       "      <td>2001</td>\n",
       "      <td>Education_Status</td>\n",
       "      <td>Diploma</td>\n",
       "      <td>Male</td>\n",
       "      <td>0-100+</td>\n",
       "      <td>75</td>\n",
       "    </tr>\n",
       "  </tbody>\n",
       "</table>\n",
       "</div>"
      ],
      "text/plain": [
       "               State  Year         Type_code                       Type  \\\n",
       "4993  ANDHRA PRADESH  2001            Causes       Death of Dear Person   \n",
       "4994  ANDHRA PRADESH  2001            Causes  Fall in Social Reputation   \n",
       "4995  ANDHRA PRADESH  2001            Causes    Insanity/Mental Illness   \n",
       "4996  ANDHRA PRADESH  2001            Causes               Other Causes   \n",
       "4997  ANDHRA PRADESH  2001  Education_Status                    Diploma   \n",
       "\n",
       "      Gender Age_group  Total  \n",
       "4993    Male      0-14      0  \n",
       "4994  Female       60+      1  \n",
       "4995  Female     15-29    112  \n",
       "4996    Male     30-44    293  \n",
       "4997    Male    0-100+     75  "
      ]
     },
     "execution_count": 97,
     "metadata": {},
     "output_type": "execute_result"
    }
   ],
   "source": [
    "temp = data[data['State']=='ANDHRA PRADESH']\n",
    "temp.head()"
   ]
  },
  {
   "cell_type": "code",
   "execution_count": 98,
   "id": "f5cbdfd9-3452-43c7-999b-c7aac53db2ad",
   "metadata": {},
   "outputs": [
    {
     "data": {
      "text/html": [
       "<div>\n",
       "<style scoped>\n",
       "    .dataframe tbody tr th:only-of-type {\n",
       "        vertical-align: middle;\n",
       "    }\n",
       "\n",
       "    .dataframe tbody tr th {\n",
       "        vertical-align: top;\n",
       "    }\n",
       "\n",
       "    .dataframe thead th {\n",
       "        text-align: right;\n",
       "    }\n",
       "</style>\n",
       "<table border=\"1\" class=\"dataframe\">\n",
       "  <thead>\n",
       "    <tr style=\"text-align: right;\">\n",
       "      <th></th>\n",
       "      <th>State</th>\n",
       "      <th>Year</th>\n",
       "      <th>Type_code</th>\n",
       "      <th>Type</th>\n",
       "      <th>Gender</th>\n",
       "      <th>Age_group</th>\n",
       "      <th>Total</th>\n",
       "    </tr>\n",
       "  </thead>\n",
       "  <tbody>\n",
       "    <tr>\n",
       "      <th>4993</th>\n",
       "      <td>ANDHRA PRADESH</td>\n",
       "      <td>2001</td>\n",
       "      <td>Causes</td>\n",
       "      <td>Death of Dear Person</td>\n",
       "      <td>Male</td>\n",
       "      <td>0-14</td>\n",
       "      <td>0</td>\n",
       "    </tr>\n",
       "    <tr>\n",
       "      <th>4994</th>\n",
       "      <td>ANDHRA PRADESH</td>\n",
       "      <td>2001</td>\n",
       "      <td>Causes</td>\n",
       "      <td>Fall in Social Reputation</td>\n",
       "      <td>Female</td>\n",
       "      <td>60+</td>\n",
       "      <td>1</td>\n",
       "    </tr>\n",
       "    <tr>\n",
       "      <th>4995</th>\n",
       "      <td>ANDHRA PRADESH</td>\n",
       "      <td>2001</td>\n",
       "      <td>Causes</td>\n",
       "      <td>Insanity/Mental Illness</td>\n",
       "      <td>Female</td>\n",
       "      <td>15-29</td>\n",
       "      <td>112</td>\n",
       "    </tr>\n",
       "    <tr>\n",
       "      <th>4996</th>\n",
       "      <td>ANDHRA PRADESH</td>\n",
       "      <td>2001</td>\n",
       "      <td>Causes</td>\n",
       "      <td>Other Causes</td>\n",
       "      <td>Male</td>\n",
       "      <td>30-44</td>\n",
       "      <td>293</td>\n",
       "    </tr>\n",
       "    <tr>\n",
       "      <th>4997</th>\n",
       "      <td>ANDHRA PRADESH</td>\n",
       "      <td>2001</td>\n",
       "      <td>Education_Status</td>\n",
       "      <td>Diploma</td>\n",
       "      <td>Male</td>\n",
       "      <td>0-100+</td>\n",
       "      <td>75</td>\n",
       "    </tr>\n",
       "  </tbody>\n",
       "</table>\n",
       "</div>"
      ],
      "text/plain": [
       "               State  Year         Type_code                       Type  \\\n",
       "4993  ANDHRA PRADESH  2001            Causes       Death of Dear Person   \n",
       "4994  ANDHRA PRADESH  2001            Causes  Fall in Social Reputation   \n",
       "4995  ANDHRA PRADESH  2001            Causes    Insanity/Mental Illness   \n",
       "4996  ANDHRA PRADESH  2001            Causes               Other Causes   \n",
       "4997  ANDHRA PRADESH  2001  Education_Status                    Diploma   \n",
       "\n",
       "      Gender Age_group  Total  \n",
       "4993    Male      0-14      0  \n",
       "4994  Female       60+      1  \n",
       "4995  Female     15-29    112  \n",
       "4996    Male     30-44    293  \n",
       "4997    Male    0-100+     75  "
      ]
     },
     "execution_count": 98,
     "metadata": {},
     "output_type": "execute_result"
    }
   ],
   "source": [
    "temp_new = data[data['State']=='ANDHRA PRADESH']\n",
    "temp_new.head()"
   ]
  },
  {
   "cell_type": "code",
   "execution_count": 99,
   "id": "15df93b5-fb73-43bd-a56d-c18ac96fa76b",
   "metadata": {},
   "outputs": [
    {
     "name": "stderr",
     "output_type": "stream",
     "text": [
      "C:\\Users\\Acer\\AppData\\Local\\Temp\\ipykernel_19168\\1734362329.py:1: SettingWithCopyWarning: \n",
      "A value is trying to be set on a copy of a slice from a DataFrame.\n",
      "Try using .loc[row_indexer,col_indexer] = value instead\n",
      "\n",
      "See the caveats in the documentation: https://pandas.pydata.org/pandas-docs/stable/user_guide/indexing.html#returning-a-view-versus-a-copy\n",
      "  temp['Total'] = temp['Total']/2\n"
     ]
    },
    {
     "data": {
      "text/html": [
       "<div>\n",
       "<style scoped>\n",
       "    .dataframe tbody tr th:only-of-type {\n",
       "        vertical-align: middle;\n",
       "    }\n",
       "\n",
       "    .dataframe tbody tr th {\n",
       "        vertical-align: top;\n",
       "    }\n",
       "\n",
       "    .dataframe thead th {\n",
       "        text-align: right;\n",
       "    }\n",
       "</style>\n",
       "<table border=\"1\" class=\"dataframe\">\n",
       "  <thead>\n",
       "    <tr style=\"text-align: right;\">\n",
       "      <th></th>\n",
       "      <th>State</th>\n",
       "      <th>Year</th>\n",
       "      <th>Type_code</th>\n",
       "      <th>Type</th>\n",
       "      <th>Gender</th>\n",
       "      <th>Age_group</th>\n",
       "      <th>Total</th>\n",
       "    </tr>\n",
       "  </thead>\n",
       "  <tbody>\n",
       "    <tr>\n",
       "      <th>4993</th>\n",
       "      <td>ANDHRA PRADESH</td>\n",
       "      <td>2001</td>\n",
       "      <td>Causes</td>\n",
       "      <td>Death of Dear Person</td>\n",
       "      <td>Male</td>\n",
       "      <td>0-14</td>\n",
       "      <td>0.0</td>\n",
       "    </tr>\n",
       "    <tr>\n",
       "      <th>4994</th>\n",
       "      <td>ANDHRA PRADESH</td>\n",
       "      <td>2001</td>\n",
       "      <td>Causes</td>\n",
       "      <td>Fall in Social Reputation</td>\n",
       "      <td>Female</td>\n",
       "      <td>60+</td>\n",
       "      <td>0.5</td>\n",
       "    </tr>\n",
       "    <tr>\n",
       "      <th>4995</th>\n",
       "      <td>ANDHRA PRADESH</td>\n",
       "      <td>2001</td>\n",
       "      <td>Causes</td>\n",
       "      <td>Insanity/Mental Illness</td>\n",
       "      <td>Female</td>\n",
       "      <td>15-29</td>\n",
       "      <td>56.0</td>\n",
       "    </tr>\n",
       "    <tr>\n",
       "      <th>4996</th>\n",
       "      <td>ANDHRA PRADESH</td>\n",
       "      <td>2001</td>\n",
       "      <td>Causes</td>\n",
       "      <td>Other Causes</td>\n",
       "      <td>Male</td>\n",
       "      <td>30-44</td>\n",
       "      <td>146.5</td>\n",
       "    </tr>\n",
       "    <tr>\n",
       "      <th>4997</th>\n",
       "      <td>ANDHRA PRADESH</td>\n",
       "      <td>2001</td>\n",
       "      <td>Education_Status</td>\n",
       "      <td>Diploma</td>\n",
       "      <td>Male</td>\n",
       "      <td>0-100+</td>\n",
       "      <td>37.5</td>\n",
       "    </tr>\n",
       "  </tbody>\n",
       "</table>\n",
       "</div>"
      ],
      "text/plain": [
       "               State  Year         Type_code                       Type  \\\n",
       "4993  ANDHRA PRADESH  2001            Causes       Death of Dear Person   \n",
       "4994  ANDHRA PRADESH  2001            Causes  Fall in Social Reputation   \n",
       "4995  ANDHRA PRADESH  2001            Causes    Insanity/Mental Illness   \n",
       "4996  ANDHRA PRADESH  2001            Causes               Other Causes   \n",
       "4997  ANDHRA PRADESH  2001  Education_Status                    Diploma   \n",
       "\n",
       "      Gender Age_group  Total  \n",
       "4993    Male      0-14    0.0  \n",
       "4994  Female       60+    0.5  \n",
       "4995  Female     15-29   56.0  \n",
       "4996    Male     30-44  146.5  \n",
       "4997    Male    0-100+   37.5  "
      ]
     },
     "execution_count": 99,
     "metadata": {},
     "output_type": "execute_result"
    }
   ],
   "source": [
    "temp['Total'] = temp['Total']/2\n",
    "temp.head()"
   ]
  },
  {
   "cell_type": "code",
   "execution_count": 100,
   "id": "4fca7298-da80-4bb5-a16a-ad4c1f66da77",
   "metadata": {},
   "outputs": [
    {
     "name": "stderr",
     "output_type": "stream",
     "text": [
      "C:\\Users\\Acer\\AppData\\Local\\Temp\\ipykernel_19168\\51020301.py:1: SettingWithCopyWarning: \n",
      "A value is trying to be set on a copy of a slice from a DataFrame.\n",
      "Try using .loc[row_indexer,col_indexer] = value instead\n",
      "\n",
      "See the caveats in the documentation: https://pandas.pydata.org/pandas-docs/stable/user_guide/indexing.html#returning-a-view-versus-a-copy\n",
      "  temp_new['Total'] = temp_new['Total']/2\n"
     ]
    },
    {
     "data": {
      "text/html": [
       "<div>\n",
       "<style scoped>\n",
       "    .dataframe tbody tr th:only-of-type {\n",
       "        vertical-align: middle;\n",
       "    }\n",
       "\n",
       "    .dataframe tbody tr th {\n",
       "        vertical-align: top;\n",
       "    }\n",
       "\n",
       "    .dataframe thead th {\n",
       "        text-align: right;\n",
       "    }\n",
       "</style>\n",
       "<table border=\"1\" class=\"dataframe\">\n",
       "  <thead>\n",
       "    <tr style=\"text-align: right;\">\n",
       "      <th></th>\n",
       "      <th>State</th>\n",
       "      <th>Year</th>\n",
       "      <th>Type_code</th>\n",
       "      <th>Type</th>\n",
       "      <th>Gender</th>\n",
       "      <th>Age_group</th>\n",
       "      <th>Total</th>\n",
       "    </tr>\n",
       "  </thead>\n",
       "  <tbody>\n",
       "    <tr>\n",
       "      <th>4993</th>\n",
       "      <td>ANDHRA PRADESH</td>\n",
       "      <td>2001</td>\n",
       "      <td>Causes</td>\n",
       "      <td>Death of Dear Person</td>\n",
       "      <td>Male</td>\n",
       "      <td>0-14</td>\n",
       "      <td>0.0</td>\n",
       "    </tr>\n",
       "    <tr>\n",
       "      <th>4994</th>\n",
       "      <td>ANDHRA PRADESH</td>\n",
       "      <td>2001</td>\n",
       "      <td>Causes</td>\n",
       "      <td>Fall in Social Reputation</td>\n",
       "      <td>Female</td>\n",
       "      <td>60+</td>\n",
       "      <td>0.5</td>\n",
       "    </tr>\n",
       "    <tr>\n",
       "      <th>4995</th>\n",
       "      <td>ANDHRA PRADESH</td>\n",
       "      <td>2001</td>\n",
       "      <td>Causes</td>\n",
       "      <td>Insanity/Mental Illness</td>\n",
       "      <td>Female</td>\n",
       "      <td>15-29</td>\n",
       "      <td>56.0</td>\n",
       "    </tr>\n",
       "    <tr>\n",
       "      <th>4996</th>\n",
       "      <td>ANDHRA PRADESH</td>\n",
       "      <td>2001</td>\n",
       "      <td>Causes</td>\n",
       "      <td>Other Causes</td>\n",
       "      <td>Male</td>\n",
       "      <td>30-44</td>\n",
       "      <td>146.5</td>\n",
       "    </tr>\n",
       "    <tr>\n",
       "      <th>4997</th>\n",
       "      <td>ANDHRA PRADESH</td>\n",
       "      <td>2001</td>\n",
       "      <td>Education_Status</td>\n",
       "      <td>Diploma</td>\n",
       "      <td>Male</td>\n",
       "      <td>0-100+</td>\n",
       "      <td>37.5</td>\n",
       "    </tr>\n",
       "  </tbody>\n",
       "</table>\n",
       "</div>"
      ],
      "text/plain": [
       "               State  Year         Type_code                       Type  \\\n",
       "4993  ANDHRA PRADESH  2001            Causes       Death of Dear Person   \n",
       "4994  ANDHRA PRADESH  2001            Causes  Fall in Social Reputation   \n",
       "4995  ANDHRA PRADESH  2001            Causes    Insanity/Mental Illness   \n",
       "4996  ANDHRA PRADESH  2001            Causes               Other Causes   \n",
       "4997  ANDHRA PRADESH  2001  Education_Status                    Diploma   \n",
       "\n",
       "      Gender Age_group  Total  \n",
       "4993    Male      0-14    0.0  \n",
       "4994  Female       60+    0.5  \n",
       "4995  Female     15-29   56.0  \n",
       "4996    Male     30-44  146.5  \n",
       "4997    Male    0-100+   37.5  "
      ]
     },
     "execution_count": 100,
     "metadata": {},
     "output_type": "execute_result"
    }
   ],
   "source": [
    "temp_new['Total'] = temp_new['Total']/2\n",
    "temp_new.head()"
   ]
  },
  {
   "cell_type": "code",
   "execution_count": 101,
   "id": "2982417b-9b74-4c49-b7f4-2586d2d3b1ba",
   "metadata": {},
   "outputs": [
    {
     "name": "stderr",
     "output_type": "stream",
     "text": [
      "C:\\Users\\Acer\\AppData\\Local\\Temp\\ipykernel_19168\\3918475127.py:1: SettingWithCopyWarning: \n",
      "A value is trying to be set on a copy of a slice from a DataFrame.\n",
      "Try using .loc[row_indexer,col_indexer] = value instead\n",
      "\n",
      "See the caveats in the documentation: https://pandas.pydata.org/pandas-docs/stable/user_guide/indexing.html#returning-a-view-versus-a-copy\n",
      "  temp_new['State'] = 'TELANGANA'\n"
     ]
    },
    {
     "data": {
      "text/html": [
       "<div>\n",
       "<style scoped>\n",
       "    .dataframe tbody tr th:only-of-type {\n",
       "        vertical-align: middle;\n",
       "    }\n",
       "\n",
       "    .dataframe tbody tr th {\n",
       "        vertical-align: top;\n",
       "    }\n",
       "\n",
       "    .dataframe thead th {\n",
       "        text-align: right;\n",
       "    }\n",
       "</style>\n",
       "<table border=\"1\" class=\"dataframe\">\n",
       "  <thead>\n",
       "    <tr style=\"text-align: right;\">\n",
       "      <th></th>\n",
       "      <th>State</th>\n",
       "      <th>Year</th>\n",
       "      <th>Type_code</th>\n",
       "      <th>Type</th>\n",
       "      <th>Gender</th>\n",
       "      <th>Age_group</th>\n",
       "      <th>Total</th>\n",
       "    </tr>\n",
       "  </thead>\n",
       "  <tbody>\n",
       "    <tr>\n",
       "      <th>4993</th>\n",
       "      <td>TELANGANA</td>\n",
       "      <td>2001</td>\n",
       "      <td>Causes</td>\n",
       "      <td>Death of Dear Person</td>\n",
       "      <td>Male</td>\n",
       "      <td>0-14</td>\n",
       "      <td>0.0</td>\n",
       "    </tr>\n",
       "    <tr>\n",
       "      <th>4994</th>\n",
       "      <td>TELANGANA</td>\n",
       "      <td>2001</td>\n",
       "      <td>Causes</td>\n",
       "      <td>Fall in Social Reputation</td>\n",
       "      <td>Female</td>\n",
       "      <td>60+</td>\n",
       "      <td>0.5</td>\n",
       "    </tr>\n",
       "    <tr>\n",
       "      <th>4995</th>\n",
       "      <td>TELANGANA</td>\n",
       "      <td>2001</td>\n",
       "      <td>Causes</td>\n",
       "      <td>Insanity/Mental Illness</td>\n",
       "      <td>Female</td>\n",
       "      <td>15-29</td>\n",
       "      <td>56.0</td>\n",
       "    </tr>\n",
       "    <tr>\n",
       "      <th>4996</th>\n",
       "      <td>TELANGANA</td>\n",
       "      <td>2001</td>\n",
       "      <td>Causes</td>\n",
       "      <td>Other Causes</td>\n",
       "      <td>Male</td>\n",
       "      <td>30-44</td>\n",
       "      <td>146.5</td>\n",
       "    </tr>\n",
       "    <tr>\n",
       "      <th>4997</th>\n",
       "      <td>TELANGANA</td>\n",
       "      <td>2001</td>\n",
       "      <td>Education_Status</td>\n",
       "      <td>Diploma</td>\n",
       "      <td>Male</td>\n",
       "      <td>0-100+</td>\n",
       "      <td>37.5</td>\n",
       "    </tr>\n",
       "  </tbody>\n",
       "</table>\n",
       "</div>"
      ],
      "text/plain": [
       "          State  Year         Type_code                       Type  Gender  \\\n",
       "4993  TELANGANA  2001            Causes       Death of Dear Person    Male   \n",
       "4994  TELANGANA  2001            Causes  Fall in Social Reputation  Female   \n",
       "4995  TELANGANA  2001            Causes    Insanity/Mental Illness  Female   \n",
       "4996  TELANGANA  2001            Causes               Other Causes    Male   \n",
       "4997  TELANGANA  2001  Education_Status                    Diploma    Male   \n",
       "\n",
       "     Age_group  Total  \n",
       "4993      0-14    0.0  \n",
       "4994       60+    0.5  \n",
       "4995     15-29   56.0  \n",
       "4996     30-44  146.5  \n",
       "4997    0-100+   37.5  "
      ]
     },
     "execution_count": 101,
     "metadata": {},
     "output_type": "execute_result"
    }
   ],
   "source": [
    "temp_new['State'] = 'TELANGANA'\n",
    "temp_new.head()"
   ]
  },
  {
   "cell_type": "code",
   "execution_count": 102,
   "id": "ff96dd00-944d-4633-b5a8-e48ce748ffc4",
   "metadata": {},
   "outputs": [
    {
     "data": {
      "text/html": [
       "<div>\n",
       "<style scoped>\n",
       "    .dataframe tbody tr th:only-of-type {\n",
       "        vertical-align: middle;\n",
       "    }\n",
       "\n",
       "    .dataframe tbody tr th {\n",
       "        vertical-align: top;\n",
       "    }\n",
       "\n",
       "    .dataframe thead th {\n",
       "        text-align: right;\n",
       "    }\n",
       "</style>\n",
       "<table border=\"1\" class=\"dataframe\">\n",
       "  <thead>\n",
       "    <tr style=\"text-align: right;\">\n",
       "      <th></th>\n",
       "      <th>State</th>\n",
       "      <th>Year</th>\n",
       "      <th>Type_code</th>\n",
       "      <th>Type</th>\n",
       "      <th>Gender</th>\n",
       "      <th>Age_group</th>\n",
       "      <th>Total</th>\n",
       "    </tr>\n",
       "  </thead>\n",
       "  <tbody>\n",
       "    <tr>\n",
       "      <th>4993</th>\n",
       "      <td>ANDHRA PRADESH</td>\n",
       "      <td>2001</td>\n",
       "      <td>Causes</td>\n",
       "      <td>Death of Dear Person</td>\n",
       "      <td>Male</td>\n",
       "      <td>0-14</td>\n",
       "      <td>0.0</td>\n",
       "    </tr>\n",
       "    <tr>\n",
       "      <th>4994</th>\n",
       "      <td>ANDHRA PRADESH</td>\n",
       "      <td>2001</td>\n",
       "      <td>Causes</td>\n",
       "      <td>Fall in Social Reputation</td>\n",
       "      <td>Female</td>\n",
       "      <td>60+</td>\n",
       "      <td>0.5</td>\n",
       "    </tr>\n",
       "    <tr>\n",
       "      <th>4995</th>\n",
       "      <td>ANDHRA PRADESH</td>\n",
       "      <td>2001</td>\n",
       "      <td>Causes</td>\n",
       "      <td>Insanity/Mental Illness</td>\n",
       "      <td>Female</td>\n",
       "      <td>15-29</td>\n",
       "      <td>56.0</td>\n",
       "    </tr>\n",
       "    <tr>\n",
       "      <th>4996</th>\n",
       "      <td>ANDHRA PRADESH</td>\n",
       "      <td>2001</td>\n",
       "      <td>Causes</td>\n",
       "      <td>Other Causes</td>\n",
       "      <td>Male</td>\n",
       "      <td>30-44</td>\n",
       "      <td>146.5</td>\n",
       "    </tr>\n",
       "    <tr>\n",
       "      <th>4997</th>\n",
       "      <td>ANDHRA PRADESH</td>\n",
       "      <td>2001</td>\n",
       "      <td>Education_Status</td>\n",
       "      <td>Diploma</td>\n",
       "      <td>Male</td>\n",
       "      <td>0-100+</td>\n",
       "      <td>37.5</td>\n",
       "    </tr>\n",
       "  </tbody>\n",
       "</table>\n",
       "</div>"
      ],
      "text/plain": [
       "               State  Year         Type_code                       Type  \\\n",
       "4993  ANDHRA PRADESH  2001            Causes       Death of Dear Person   \n",
       "4994  ANDHRA PRADESH  2001            Causes  Fall in Social Reputation   \n",
       "4995  ANDHRA PRADESH  2001            Causes    Insanity/Mental Illness   \n",
       "4996  ANDHRA PRADESH  2001            Causes               Other Causes   \n",
       "4997  ANDHRA PRADESH  2001  Education_Status                    Diploma   \n",
       "\n",
       "      Gender Age_group  Total  \n",
       "4993    Male      0-14    0.0  \n",
       "4994  Female       60+    0.5  \n",
       "4995  Female     15-29   56.0  \n",
       "4996    Male     30-44  146.5  \n",
       "4997    Male    0-100+   37.5  "
      ]
     },
     "execution_count": 102,
     "metadata": {},
     "output_type": "execute_result"
    }
   ],
   "source": [
    "temp.head()"
   ]
  },
  {
   "cell_type": "markdown",
   "id": "f4489f7c-8585-4a56-8fa6-08c6fe8b0dbd",
   "metadata": {},
   "source": [
    "* temp contains 'ANDHRA PRADESH' data\n",
    "* temp_2 contains 'TELANGANA'"
   ]
  },
  {
   "cell_type": "markdown",
   "id": "0117ed08-1150-4004-81f7-72645d4be8f9",
   "metadata": {},
   "source": [
    "* Moto is to delete rows containig  'ANDHRA PRADESH'\n",
    "* and add temp & temp_2"
   ]
  },
  {
   "cell_type": "code",
   "execution_count": 103,
   "id": "1f02b6a4-875c-4789-998d-de8c6a7aa5d3",
   "metadata": {},
   "outputs": [
    {
     "data": {
      "text/plain": [
       "\"\\norders.drop(['column_name','column_name'], axis=1,inplace =True)\\n                            # it will drop that column\\n\""
      ]
     },
     "execution_count": 103,
     "metadata": {},
     "output_type": "execute_result"
    }
   ],
   "source": [
    "'''\n",
    "orders.drop(['column_name','column_name'], axis=1,inplace =True)\n",
    "                            # it will drop that column\n",
    "'''"
   ]
  },
  {
   "cell_type": "code",
   "execution_count": 104,
   "id": "a4255caf-9fbf-458b-8515-0c4a41ae7599",
   "metadata": {},
   "outputs": [
    {
     "data": {
      "text/plain": [
       "'\\norders.drop([2,3],axis=0,inplace=True)\\n                            # frops with column idex known\\n'"
      ]
     },
     "execution_count": 104,
     "metadata": {},
     "output_type": "execute_result"
    }
   ],
   "source": [
    "'''\n",
    "orders.drop([2,3],axis=0,inplace=True)\n",
    "                            # frops with column idex known\n",
    "'''"
   ]
  },
  {
   "cell_type": "code",
   "execution_count": 105,
   "id": "1cbd835d-7a78-43db-8e9d-19c98e0b6fed",
   "metadata": {},
   "outputs": [
    {
     "data": {
      "text/html": [
       "<div>\n",
       "<style scoped>\n",
       "    .dataframe tbody tr th:only-of-type {\n",
       "        vertical-align: middle;\n",
       "    }\n",
       "\n",
       "    .dataframe tbody tr th {\n",
       "        vertical-align: top;\n",
       "    }\n",
       "\n",
       "    .dataframe thead th {\n",
       "        text-align: right;\n",
       "    }\n",
       "</style>\n",
       "<table border=\"1\" class=\"dataframe\">\n",
       "  <thead>\n",
       "    <tr style=\"text-align: right;\">\n",
       "      <th></th>\n",
       "      <th>State</th>\n",
       "      <th>Year</th>\n",
       "      <th>Type_code</th>\n",
       "      <th>Type</th>\n",
       "      <th>Gender</th>\n",
       "      <th>Age_group</th>\n",
       "      <th>Total</th>\n",
       "    </tr>\n",
       "  </thead>\n",
       "  <tbody>\n",
       "    <tr>\n",
       "      <th>0</th>\n",
       "      <td>A &amp; N ISLANDS</td>\n",
       "      <td>2001</td>\n",
       "      <td>Causes</td>\n",
       "      <td>Cancer</td>\n",
       "      <td>Male</td>\n",
       "      <td>15-29</td>\n",
       "      <td>0</td>\n",
       "    </tr>\n",
       "    <tr>\n",
       "      <th>1</th>\n",
       "      <td>A &amp; N ISLANDS</td>\n",
       "      <td>2001</td>\n",
       "      <td>Causes</td>\n",
       "      <td>Divorce</td>\n",
       "      <td>Male</td>\n",
       "      <td>60+</td>\n",
       "      <td>0</td>\n",
       "    </tr>\n",
       "    <tr>\n",
       "      <th>2</th>\n",
       "      <td>A &amp; N ISLANDS</td>\n",
       "      <td>2001</td>\n",
       "      <td>Causes</td>\n",
       "      <td>Dowry Dispute</td>\n",
       "      <td>Female</td>\n",
       "      <td>60+</td>\n",
       "      <td>0</td>\n",
       "    </tr>\n",
       "  </tbody>\n",
       "</table>\n",
       "</div>"
      ],
      "text/plain": [
       "           State  Year Type_code           Type  Gender Age_group  Total\n",
       "0  A & N ISLANDS  2001    Causes         Cancer    Male     15-29      0\n",
       "1  A & N ISLANDS  2001    Causes        Divorce    Male       60+      0\n",
       "2  A & N ISLANDS  2001    Causes  Dowry Dispute  Female       60+      0"
      ]
     },
     "execution_count": 105,
     "metadata": {},
     "output_type": "execute_result"
    }
   ],
   "source": [
    "f = data\n",
    "f.head(3)"
   ]
  },
  {
   "cell_type": "code",
   "execution_count": 106,
   "id": "2a74468c-a7c0-4f04-8062-bb75cd10bd0e",
   "metadata": {},
   "outputs": [
    {
     "data": {
      "text/plain": [
       "6791"
      ]
     },
     "execution_count": 106,
     "metadata": {},
     "output_type": "execute_result"
    }
   ],
   "source": [
    "# getting index of rows with 'ANDHRA PRADESH'\n",
    "l = list(f.index[f['State'] == 'ANDHRA PRADESH'])#.tolist()\n",
    "len(l)"
   ]
  },
  {
   "cell_type": "code",
   "execution_count": 107,
   "id": "b990b972-93fc-4d0c-b5ce-f2c8ab862b87",
   "metadata": {},
   "outputs": [],
   "source": [
    "f.drop(l,axis=0,inplace=True)\n",
    "                            # frops with column idex known"
   ]
  },
  {
   "cell_type": "code",
   "execution_count": 108,
   "id": "0c512ee8-568d-4969-869d-61f152474ba9",
   "metadata": {},
   "outputs": [
    {
     "data": {
      "text/html": [
       "<div>\n",
       "<style scoped>\n",
       "    .dataframe tbody tr th:only-of-type {\n",
       "        vertical-align: middle;\n",
       "    }\n",
       "\n",
       "    .dataframe tbody tr th {\n",
       "        vertical-align: top;\n",
       "    }\n",
       "\n",
       "    .dataframe thead th {\n",
       "        text-align: right;\n",
       "    }\n",
       "</style>\n",
       "<table border=\"1\" class=\"dataframe\">\n",
       "  <thead>\n",
       "    <tr style=\"text-align: right;\">\n",
       "      <th></th>\n",
       "      <th>State</th>\n",
       "      <th>Year</th>\n",
       "      <th>Type_code</th>\n",
       "      <th>Type</th>\n",
       "      <th>Gender</th>\n",
       "      <th>Age_group</th>\n",
       "      <th>Total</th>\n",
       "    </tr>\n",
       "  </thead>\n",
       "  <tbody>\n",
       "  </tbody>\n",
       "</table>\n",
       "</div>"
      ],
      "text/plain": [
       "Empty DataFrame\n",
       "Columns: [State, Year, Type_code, Type, Gender, Age_group, Total]\n",
       "Index: []"
      ]
     },
     "execution_count": 108,
     "metadata": {},
     "output_type": "execute_result"
    }
   ],
   "source": [
    "f[f['State'] =='ANDHRA PRADESH']\n",
    "                                    #'ANDHRA PRADESH' removed"
   ]
  },
  {
   "cell_type": "code",
   "execution_count": 109,
   "id": "f8e69c72-226d-405f-9d15-76b585c8b90f",
   "metadata": {},
   "outputs": [
    {
     "name": "stderr",
     "output_type": "stream",
     "text": [
      "C:\\Users\\Acer\\AppData\\Local\\Temp\\ipykernel_19168\\3786323543.py:1: FutureWarning: The frame.append method is deprecated and will be removed from pandas in a future version. Use pandas.concat instead.\n",
      "  f = f.append(temp)\n"
     ]
    }
   ],
   "source": [
    "f = f.append(temp)"
   ]
  },
  {
   "cell_type": "code",
   "execution_count": 110,
   "id": "a6bf58dd-fba2-4517-9b22-a05595dd6b58",
   "metadata": {},
   "outputs": [
    {
     "name": "stderr",
     "output_type": "stream",
     "text": [
      "C:\\Users\\Acer\\AppData\\Local\\Temp\\ipykernel_19168\\1039808479.py:1: FutureWarning: The frame.append method is deprecated and will be removed from pandas in a future version. Use pandas.concat instead.\n",
      "  f = f.append(temp_new)\n"
     ]
    }
   ],
   "source": [
    "f = f.append(temp_new)"
   ]
  },
  {
   "cell_type": "code",
   "execution_count": 111,
   "id": "8e762b6a-3e32-438b-b6fa-7e0dceb51c7a",
   "metadata": {},
   "outputs": [
    {
     "data": {
      "text/html": [
       "<div>\n",
       "<style scoped>\n",
       "    .dataframe tbody tr th:only-of-type {\n",
       "        vertical-align: middle;\n",
       "    }\n",
       "\n",
       "    .dataframe tbody tr th {\n",
       "        vertical-align: top;\n",
       "    }\n",
       "\n",
       "    .dataframe thead th {\n",
       "        text-align: right;\n",
       "    }\n",
       "</style>\n",
       "<table border=\"1\" class=\"dataframe\">\n",
       "  <thead>\n",
       "    <tr style=\"text-align: right;\">\n",
       "      <th></th>\n",
       "      <th>State</th>\n",
       "      <th>Year</th>\n",
       "      <th>Type_code</th>\n",
       "      <th>Type</th>\n",
       "      <th>Gender</th>\n",
       "      <th>Age_group</th>\n",
       "      <th>Total</th>\n",
       "    </tr>\n",
       "  </thead>\n",
       "  <tbody>\n",
       "    <tr>\n",
       "      <th>4993</th>\n",
       "      <td>ANDHRA PRADESH</td>\n",
       "      <td>2001</td>\n",
       "      <td>Causes</td>\n",
       "      <td>Death of Dear Person</td>\n",
       "      <td>Male</td>\n",
       "      <td>0-14</td>\n",
       "      <td>0.0</td>\n",
       "    </tr>\n",
       "    <tr>\n",
       "      <th>4994</th>\n",
       "      <td>ANDHRA PRADESH</td>\n",
       "      <td>2001</td>\n",
       "      <td>Causes</td>\n",
       "      <td>Fall in Social Reputation</td>\n",
       "      <td>Female</td>\n",
       "      <td>60+</td>\n",
       "      <td>0.5</td>\n",
       "    </tr>\n",
       "    <tr>\n",
       "      <th>4995</th>\n",
       "      <td>ANDHRA PRADESH</td>\n",
       "      <td>2001</td>\n",
       "      <td>Causes</td>\n",
       "      <td>Insanity/Mental Illness</td>\n",
       "      <td>Female</td>\n",
       "      <td>15-29</td>\n",
       "      <td>56.0</td>\n",
       "    </tr>\n",
       "    <tr>\n",
       "      <th>4996</th>\n",
       "      <td>ANDHRA PRADESH</td>\n",
       "      <td>2001</td>\n",
       "      <td>Causes</td>\n",
       "      <td>Other Causes</td>\n",
       "      <td>Male</td>\n",
       "      <td>30-44</td>\n",
       "      <td>146.5</td>\n",
       "    </tr>\n",
       "    <tr>\n",
       "      <th>4997</th>\n",
       "      <td>ANDHRA PRADESH</td>\n",
       "      <td>2001</td>\n",
       "      <td>Education_Status</td>\n",
       "      <td>Diploma</td>\n",
       "      <td>Male</td>\n",
       "      <td>0-100+</td>\n",
       "      <td>37.5</td>\n",
       "    </tr>\n",
       "  </tbody>\n",
       "</table>\n",
       "</div>"
      ],
      "text/plain": [
       "               State  Year         Type_code                       Type  \\\n",
       "4993  ANDHRA PRADESH  2001            Causes       Death of Dear Person   \n",
       "4994  ANDHRA PRADESH  2001            Causes  Fall in Social Reputation   \n",
       "4995  ANDHRA PRADESH  2001            Causes    Insanity/Mental Illness   \n",
       "4996  ANDHRA PRADESH  2001            Causes               Other Causes   \n",
       "4997  ANDHRA PRADESH  2001  Education_Status                    Diploma   \n",
       "\n",
       "      Gender Age_group  Total  \n",
       "4993    Male      0-14    0.0  \n",
       "4994  Female       60+    0.5  \n",
       "4995  Female     15-29   56.0  \n",
       "4996    Male     30-44  146.5  \n",
       "4997    Male    0-100+   37.5  "
      ]
     },
     "execution_count": 111,
     "metadata": {},
     "output_type": "execute_result"
    }
   ],
   "source": [
    "f[f['State']=='ANDHRA PRADESH'].head()"
   ]
  },
  {
   "cell_type": "code",
   "execution_count": 112,
   "id": "63f54d8e-e4f7-4cab-98df-0cd9f191aa97",
   "metadata": {},
   "outputs": [
    {
     "data": {
      "text/html": [
       "<div>\n",
       "<style scoped>\n",
       "    .dataframe tbody tr th:only-of-type {\n",
       "        vertical-align: middle;\n",
       "    }\n",
       "\n",
       "    .dataframe tbody tr th {\n",
       "        vertical-align: top;\n",
       "    }\n",
       "\n",
       "    .dataframe thead th {\n",
       "        text-align: right;\n",
       "    }\n",
       "</style>\n",
       "<table border=\"1\" class=\"dataframe\">\n",
       "  <thead>\n",
       "    <tr style=\"text-align: right;\">\n",
       "      <th></th>\n",
       "      <th>State</th>\n",
       "      <th>Year</th>\n",
       "      <th>Type_code</th>\n",
       "      <th>Type</th>\n",
       "      <th>Gender</th>\n",
       "      <th>Age_group</th>\n",
       "      <th>Total</th>\n",
       "    </tr>\n",
       "  </thead>\n",
       "  <tbody>\n",
       "    <tr>\n",
       "      <th>4993</th>\n",
       "      <td>TELANGANA</td>\n",
       "      <td>2001</td>\n",
       "      <td>Causes</td>\n",
       "      <td>Death of Dear Person</td>\n",
       "      <td>Male</td>\n",
       "      <td>0-14</td>\n",
       "      <td>0.0</td>\n",
       "    </tr>\n",
       "    <tr>\n",
       "      <th>4994</th>\n",
       "      <td>TELANGANA</td>\n",
       "      <td>2001</td>\n",
       "      <td>Causes</td>\n",
       "      <td>Fall in Social Reputation</td>\n",
       "      <td>Female</td>\n",
       "      <td>60+</td>\n",
       "      <td>0.5</td>\n",
       "    </tr>\n",
       "    <tr>\n",
       "      <th>4995</th>\n",
       "      <td>TELANGANA</td>\n",
       "      <td>2001</td>\n",
       "      <td>Causes</td>\n",
       "      <td>Insanity/Mental Illness</td>\n",
       "      <td>Female</td>\n",
       "      <td>15-29</td>\n",
       "      <td>56.0</td>\n",
       "    </tr>\n",
       "    <tr>\n",
       "      <th>4996</th>\n",
       "      <td>TELANGANA</td>\n",
       "      <td>2001</td>\n",
       "      <td>Causes</td>\n",
       "      <td>Other Causes</td>\n",
       "      <td>Male</td>\n",
       "      <td>30-44</td>\n",
       "      <td>146.5</td>\n",
       "    </tr>\n",
       "    <tr>\n",
       "      <th>4997</th>\n",
       "      <td>TELANGANA</td>\n",
       "      <td>2001</td>\n",
       "      <td>Education_Status</td>\n",
       "      <td>Diploma</td>\n",
       "      <td>Male</td>\n",
       "      <td>0-100+</td>\n",
       "      <td>37.5</td>\n",
       "    </tr>\n",
       "  </tbody>\n",
       "</table>\n",
       "</div>"
      ],
      "text/plain": [
       "          State  Year         Type_code                       Type  Gender  \\\n",
       "4993  TELANGANA  2001            Causes       Death of Dear Person    Male   \n",
       "4994  TELANGANA  2001            Causes  Fall in Social Reputation  Female   \n",
       "4995  TELANGANA  2001            Causes    Insanity/Mental Illness  Female   \n",
       "4996  TELANGANA  2001            Causes               Other Causes    Male   \n",
       "4997  TELANGANA  2001  Education_Status                    Diploma    Male   \n",
       "\n",
       "     Age_group  Total  \n",
       "4993      0-14    0.0  \n",
       "4994       60+    0.5  \n",
       "4995     15-29   56.0  \n",
       "4996     30-44  146.5  \n",
       "4997    0-100+   37.5  "
      ]
     },
     "execution_count": 112,
     "metadata": {},
     "output_type": "execute_result"
    }
   ],
   "source": [
    "f[f['State']=='TELANGANA'].head()"
   ]
  },
  {
   "cell_type": "markdown",
   "id": "8c2e467a-c654-4503-a222-326868b59f5a",
   "metadata": {},
   "source": [
    "* NOW we have added 'TELANGANA' added too f"
   ]
  },
  {
   "cell_type": "code",
   "execution_count": 113,
   "id": "a86bcfbd-020e-4b06-9f7c-560065aad282",
   "metadata": {},
   "outputs": [
    {
     "data": {
      "text/plain": [
       "29"
      ]
     },
     "execution_count": 113,
     "metadata": {},
     "output_type": "execute_result"
    }
   ],
   "source": [
    "len(state_list)"
   ]
  },
  {
   "cell_type": "code",
   "execution_count": 114,
   "id": "8c4dc222-d580-4dc4-9493-ae3bdd2bb684",
   "metadata": {},
   "outputs": [
    {
     "name": "stderr",
     "output_type": "stream",
     "text": [
      "C:\\Users\\Acer\\AppData\\Local\\Temp\\ipykernel_19168\\3651403186.py:5: FutureWarning: The frame.append method is deprecated and will be removed from pandas in a future version. Use pandas.concat instead.\n",
      "  state_data = state_data.append(f[f['State']==state_list[i]])\n",
      "C:\\Users\\Acer\\AppData\\Local\\Temp\\ipykernel_19168\\3651403186.py:5: FutureWarning: The frame.append method is deprecated and will be removed from pandas in a future version. Use pandas.concat instead.\n",
      "  state_data = state_data.append(f[f['State']==state_list[i]])\n",
      "C:\\Users\\Acer\\AppData\\Local\\Temp\\ipykernel_19168\\3651403186.py:5: FutureWarning: The frame.append method is deprecated and will be removed from pandas in a future version. Use pandas.concat instead.\n",
      "  state_data = state_data.append(f[f['State']==state_list[i]])\n",
      "C:\\Users\\Acer\\AppData\\Local\\Temp\\ipykernel_19168\\3651403186.py:5: FutureWarning: The frame.append method is deprecated and will be removed from pandas in a future version. Use pandas.concat instead.\n",
      "  state_data = state_data.append(f[f['State']==state_list[i]])\n",
      "C:\\Users\\Acer\\AppData\\Local\\Temp\\ipykernel_19168\\3651403186.py:5: FutureWarning: The frame.append method is deprecated and will be removed from pandas in a future version. Use pandas.concat instead.\n",
      "  state_data = state_data.append(f[f['State']==state_list[i]])\n",
      "C:\\Users\\Acer\\AppData\\Local\\Temp\\ipykernel_19168\\3651403186.py:5: FutureWarning: The frame.append method is deprecated and will be removed from pandas in a future version. Use pandas.concat instead.\n",
      "  state_data = state_data.append(f[f['State']==state_list[i]])\n",
      "C:\\Users\\Acer\\AppData\\Local\\Temp\\ipykernel_19168\\3651403186.py:5: FutureWarning: The frame.append method is deprecated and will be removed from pandas in a future version. Use pandas.concat instead.\n",
      "  state_data = state_data.append(f[f['State']==state_list[i]])\n",
      "C:\\Users\\Acer\\AppData\\Local\\Temp\\ipykernel_19168\\3651403186.py:5: FutureWarning: The frame.append method is deprecated and will be removed from pandas in a future version. Use pandas.concat instead.\n",
      "  state_data = state_data.append(f[f['State']==state_list[i]])\n",
      "C:\\Users\\Acer\\AppData\\Local\\Temp\\ipykernel_19168\\3651403186.py:5: FutureWarning: The frame.append method is deprecated and will be removed from pandas in a future version. Use pandas.concat instead.\n",
      "  state_data = state_data.append(f[f['State']==state_list[i]])\n",
      "C:\\Users\\Acer\\AppData\\Local\\Temp\\ipykernel_19168\\3651403186.py:5: FutureWarning: The frame.append method is deprecated and will be removed from pandas in a future version. Use pandas.concat instead.\n",
      "  state_data = state_data.append(f[f['State']==state_list[i]])\n",
      "C:\\Users\\Acer\\AppData\\Local\\Temp\\ipykernel_19168\\3651403186.py:5: FutureWarning: The frame.append method is deprecated and will be removed from pandas in a future version. Use pandas.concat instead.\n",
      "  state_data = state_data.append(f[f['State']==state_list[i]])\n",
      "C:\\Users\\Acer\\AppData\\Local\\Temp\\ipykernel_19168\\3651403186.py:5: FutureWarning: The frame.append method is deprecated and will be removed from pandas in a future version. Use pandas.concat instead.\n",
      "  state_data = state_data.append(f[f['State']==state_list[i]])\n",
      "C:\\Users\\Acer\\AppData\\Local\\Temp\\ipykernel_19168\\3651403186.py:5: FutureWarning: The frame.append method is deprecated and will be removed from pandas in a future version. Use pandas.concat instead.\n",
      "  state_data = state_data.append(f[f['State']==state_list[i]])\n",
      "C:\\Users\\Acer\\AppData\\Local\\Temp\\ipykernel_19168\\3651403186.py:5: FutureWarning: The frame.append method is deprecated and will be removed from pandas in a future version. Use pandas.concat instead.\n",
      "  state_data = state_data.append(f[f['State']==state_list[i]])\n",
      "C:\\Users\\Acer\\AppData\\Local\\Temp\\ipykernel_19168\\3651403186.py:5: FutureWarning: The frame.append method is deprecated and will be removed from pandas in a future version. Use pandas.concat instead.\n",
      "  state_data = state_data.append(f[f['State']==state_list[i]])\n",
      "C:\\Users\\Acer\\AppData\\Local\\Temp\\ipykernel_19168\\3651403186.py:5: FutureWarning: The frame.append method is deprecated and will be removed from pandas in a future version. Use pandas.concat instead.\n",
      "  state_data = state_data.append(f[f['State']==state_list[i]])\n",
      "C:\\Users\\Acer\\AppData\\Local\\Temp\\ipykernel_19168\\3651403186.py:5: FutureWarning: The frame.append method is deprecated and will be removed from pandas in a future version. Use pandas.concat instead.\n",
      "  state_data = state_data.append(f[f['State']==state_list[i]])\n",
      "C:\\Users\\Acer\\AppData\\Local\\Temp\\ipykernel_19168\\3651403186.py:5: FutureWarning: The frame.append method is deprecated and will be removed from pandas in a future version. Use pandas.concat instead.\n",
      "  state_data = state_data.append(f[f['State']==state_list[i]])\n",
      "C:\\Users\\Acer\\AppData\\Local\\Temp\\ipykernel_19168\\3651403186.py:5: FutureWarning: The frame.append method is deprecated and will be removed from pandas in a future version. Use pandas.concat instead.\n",
      "  state_data = state_data.append(f[f['State']==state_list[i]])\n",
      "C:\\Users\\Acer\\AppData\\Local\\Temp\\ipykernel_19168\\3651403186.py:5: FutureWarning: The frame.append method is deprecated and will be removed from pandas in a future version. Use pandas.concat instead.\n",
      "  state_data = state_data.append(f[f['State']==state_list[i]])\n",
      "C:\\Users\\Acer\\AppData\\Local\\Temp\\ipykernel_19168\\3651403186.py:5: FutureWarning: The frame.append method is deprecated and will be removed from pandas in a future version. Use pandas.concat instead.\n",
      "  state_data = state_data.append(f[f['State']==state_list[i]])\n",
      "C:\\Users\\Acer\\AppData\\Local\\Temp\\ipykernel_19168\\3651403186.py:5: FutureWarning: The frame.append method is deprecated and will be removed from pandas in a future version. Use pandas.concat instead.\n",
      "  state_data = state_data.append(f[f['State']==state_list[i]])\n",
      "C:\\Users\\Acer\\AppData\\Local\\Temp\\ipykernel_19168\\3651403186.py:5: FutureWarning: The frame.append method is deprecated and will be removed from pandas in a future version. Use pandas.concat instead.\n",
      "  state_data = state_data.append(f[f['State']==state_list[i]])\n",
      "C:\\Users\\Acer\\AppData\\Local\\Temp\\ipykernel_19168\\3651403186.py:5: FutureWarning: The frame.append method is deprecated and will be removed from pandas in a future version. Use pandas.concat instead.\n",
      "  state_data = state_data.append(f[f['State']==state_list[i]])\n",
      "C:\\Users\\Acer\\AppData\\Local\\Temp\\ipykernel_19168\\3651403186.py:5: FutureWarning: The frame.append method is deprecated and will be removed from pandas in a future version. Use pandas.concat instead.\n",
      "  state_data = state_data.append(f[f['State']==state_list[i]])\n",
      "C:\\Users\\Acer\\AppData\\Local\\Temp\\ipykernel_19168\\3651403186.py:5: FutureWarning: The frame.append method is deprecated and will be removed from pandas in a future version. Use pandas.concat instead.\n",
      "  state_data = state_data.append(f[f['State']==state_list[i]])\n",
      "C:\\Users\\Acer\\AppData\\Local\\Temp\\ipykernel_19168\\3651403186.py:5: FutureWarning: The frame.append method is deprecated and will be removed from pandas in a future version. Use pandas.concat instead.\n",
      "  state_data = state_data.append(f[f['State']==state_list[i]])\n",
      "C:\\Users\\Acer\\AppData\\Local\\Temp\\ipykernel_19168\\3651403186.py:5: FutureWarning: The frame.append method is deprecated and will be removed from pandas in a future version. Use pandas.concat instead.\n",
      "  state_data = state_data.append(f[f['State']==state_list[i]])\n"
     ]
    }
   ],
   "source": [
    "for i in range(29):\n",
    "    if i==0:\n",
    "        state_data = f[f['State']==state_list[i]]\n",
    "    else:\n",
    "        state_data = state_data.append(f[f['State']==state_list[i]])\n"
   ]
  },
  {
   "cell_type": "code",
   "execution_count": 115,
   "id": "a1215ca7-1dbc-437d-8f67-6cf08c05a0c5",
   "metadata": {},
   "outputs": [
    {
     "data": {
      "text/html": [
       "<div>\n",
       "<style scoped>\n",
       "    .dataframe tbody tr th:only-of-type {\n",
       "        vertical-align: middle;\n",
       "    }\n",
       "\n",
       "    .dataframe tbody tr th {\n",
       "        vertical-align: top;\n",
       "    }\n",
       "\n",
       "    .dataframe thead th {\n",
       "        text-align: right;\n",
       "    }\n",
       "</style>\n",
       "<table border=\"1\" class=\"dataframe\">\n",
       "  <thead>\n",
       "    <tr style=\"text-align: right;\">\n",
       "      <th></th>\n",
       "      <th>State</th>\n",
       "      <th>Year</th>\n",
       "      <th>Type_code</th>\n",
       "      <th>Type</th>\n",
       "      <th>Gender</th>\n",
       "      <th>Age_group</th>\n",
       "      <th>Total</th>\n",
       "    </tr>\n",
       "  </thead>\n",
       "  <tbody>\n",
       "    <tr>\n",
       "      <th>4993</th>\n",
       "      <td>ANDHRA PRADESH</td>\n",
       "      <td>2001</td>\n",
       "      <td>Causes</td>\n",
       "      <td>Death of Dear Person</td>\n",
       "      <td>Male</td>\n",
       "      <td>0-14</td>\n",
       "      <td>0.0</td>\n",
       "    </tr>\n",
       "    <tr>\n",
       "      <th>4994</th>\n",
       "      <td>ANDHRA PRADESH</td>\n",
       "      <td>2001</td>\n",
       "      <td>Causes</td>\n",
       "      <td>Fall in Social Reputation</td>\n",
       "      <td>Female</td>\n",
       "      <td>60+</td>\n",
       "      <td>0.5</td>\n",
       "    </tr>\n",
       "    <tr>\n",
       "      <th>4995</th>\n",
       "      <td>ANDHRA PRADESH</td>\n",
       "      <td>2001</td>\n",
       "      <td>Causes</td>\n",
       "      <td>Insanity/Mental Illness</td>\n",
       "      <td>Female</td>\n",
       "      <td>15-29</td>\n",
       "      <td>56.0</td>\n",
       "    </tr>\n",
       "    <tr>\n",
       "      <th>4996</th>\n",
       "      <td>ANDHRA PRADESH</td>\n",
       "      <td>2001</td>\n",
       "      <td>Causes</td>\n",
       "      <td>Other Causes</td>\n",
       "      <td>Male</td>\n",
       "      <td>30-44</td>\n",
       "      <td>146.5</td>\n",
       "    </tr>\n",
       "    <tr>\n",
       "      <th>4997</th>\n",
       "      <td>ANDHRA PRADESH</td>\n",
       "      <td>2001</td>\n",
       "      <td>Education_Status</td>\n",
       "      <td>Diploma</td>\n",
       "      <td>Male</td>\n",
       "      <td>0-100+</td>\n",
       "      <td>37.5</td>\n",
       "    </tr>\n",
       "    <tr>\n",
       "      <th>...</th>\n",
       "      <td>...</td>\n",
       "      <td>...</td>\n",
       "      <td>...</td>\n",
       "      <td>...</td>\n",
       "      <td>...</td>\n",
       "      <td>...</td>\n",
       "      <td>...</td>\n",
       "    </tr>\n",
       "    <tr>\n",
       "      <th>230446</th>\n",
       "      <td>TELANGANA</td>\n",
       "      <td>2012</td>\n",
       "      <td>Education_Status</td>\n",
       "      <td>Post Graduate and Above</td>\n",
       "      <td>Female</td>\n",
       "      <td>0-100+</td>\n",
       "      <td>9.5</td>\n",
       "    </tr>\n",
       "    <tr>\n",
       "      <th>230447</th>\n",
       "      <td>TELANGANA</td>\n",
       "      <td>2012</td>\n",
       "      <td>Means_adopted</td>\n",
       "      <td>By Hanging</td>\n",
       "      <td>Male</td>\n",
       "      <td>0-14</td>\n",
       "      <td>4.5</td>\n",
       "    </tr>\n",
       "    <tr>\n",
       "      <th>230448</th>\n",
       "      <td>TELANGANA</td>\n",
       "      <td>2012</td>\n",
       "      <td>Means_adopted</td>\n",
       "      <td>By Jumping from (Building)</td>\n",
       "      <td>Male</td>\n",
       "      <td>0-14</td>\n",
       "      <td>0.0</td>\n",
       "    </tr>\n",
       "    <tr>\n",
       "      <th>230449</th>\n",
       "      <td>TELANGANA</td>\n",
       "      <td>2012</td>\n",
       "      <td>Professional_Profile</td>\n",
       "      <td>Public Sector Undertaking</td>\n",
       "      <td>Female</td>\n",
       "      <td>30-44</td>\n",
       "      <td>19.0</td>\n",
       "    </tr>\n",
       "    <tr>\n",
       "      <th>230450</th>\n",
       "      <td>TELANGANA</td>\n",
       "      <td>2012</td>\n",
       "      <td>Professional_Profile</td>\n",
       "      <td>Service (Government)</td>\n",
       "      <td>Male</td>\n",
       "      <td>45-59</td>\n",
       "      <td>22.5</td>\n",
       "    </tr>\n",
       "  </tbody>\n",
       "</table>\n",
       "<p>196345 rows × 7 columns</p>\n",
       "</div>"
      ],
      "text/plain": [
       "                 State  Year             Type_code  \\\n",
       "4993    ANDHRA PRADESH  2001                Causes   \n",
       "4994    ANDHRA PRADESH  2001                Causes   \n",
       "4995    ANDHRA PRADESH  2001                Causes   \n",
       "4996    ANDHRA PRADESH  2001                Causes   \n",
       "4997    ANDHRA PRADESH  2001      Education_Status   \n",
       "...                ...   ...                   ...   \n",
       "230446       TELANGANA  2012      Education_Status   \n",
       "230447       TELANGANA  2012         Means_adopted   \n",
       "230448       TELANGANA  2012         Means_adopted   \n",
       "230449       TELANGANA  2012  Professional_Profile   \n",
       "230450       TELANGANA  2012  Professional_Profile   \n",
       "\n",
       "                              Type  Gender Age_group  Total  \n",
       "4993          Death of Dear Person    Male      0-14    0.0  \n",
       "4994     Fall in Social Reputation  Female       60+    0.5  \n",
       "4995       Insanity/Mental Illness  Female     15-29   56.0  \n",
       "4996                  Other Causes    Male     30-44  146.5  \n",
       "4997                       Diploma    Male    0-100+   37.5  \n",
       "...                            ...     ...       ...    ...  \n",
       "230446     Post Graduate and Above  Female    0-100+    9.5  \n",
       "230447                  By Hanging    Male      0-14    4.5  \n",
       "230448  By Jumping from (Building)    Male      0-14    0.0  \n",
       "230449   Public Sector Undertaking  Female     30-44   19.0  \n",
       "230450        Service (Government)    Male     45-59   22.5  \n",
       "\n",
       "[196345 rows x 7 columns]"
      ]
     },
     "execution_count": 115,
     "metadata": {},
     "output_type": "execute_result"
    }
   ],
   "source": [
    "state_data"
   ]
  },
  {
   "cell_type": "code",
   "execution_count": 116,
   "id": "134de88d-ef4d-460c-9376-69ddf3e936d2",
   "metadata": {},
   "outputs": [
    {
     "data": {
      "text/plain": [
       "29"
      ]
     },
     "execution_count": 116,
     "metadata": {},
     "output_type": "execute_result"
    }
   ],
   "source": [
    "len(state_data.State.unique())"
   ]
  },
  {
   "cell_type": "code",
   "execution_count": 117,
   "id": "2f6cebfb-593e-47b8-8f36-9aa6bf1a2787",
   "metadata": {},
   "outputs": [
    {
     "data": {
      "text/plain": [
       "['A & N ISLANDS',\n",
       " 'CHANDIGARH',\n",
       " 'D & N HAVELI',\n",
       " 'DAMAN & DIU',\n",
       " 'DELHI (UT)',\n",
       " 'LAKSHADWEEP',\n",
       " 'PUDUCHERRY']"
      ]
     },
     "execution_count": 117,
     "metadata": {},
     "output_type": "execute_result"
    }
   ],
   "source": [
    "UT_list"
   ]
  },
  {
   "cell_type": "code",
   "execution_count": 118,
   "id": "5af49550-34f1-49f1-811f-3bd808714b1d",
   "metadata": {},
   "outputs": [
    {
     "name": "stderr",
     "output_type": "stream",
     "text": [
      "C:\\Users\\Acer\\AppData\\Local\\Temp\\ipykernel_19168\\2777048036.py:5: FutureWarning: The frame.append method is deprecated and will be removed from pandas in a future version. Use pandas.concat instead.\n",
      "  UT_data = UT_data.append(f[f['State']==UT_list[i]])\n",
      "C:\\Users\\Acer\\AppData\\Local\\Temp\\ipykernel_19168\\2777048036.py:5: FutureWarning: The frame.append method is deprecated and will be removed from pandas in a future version. Use pandas.concat instead.\n",
      "  UT_data = UT_data.append(f[f['State']==UT_list[i]])\n",
      "C:\\Users\\Acer\\AppData\\Local\\Temp\\ipykernel_19168\\2777048036.py:5: FutureWarning: The frame.append method is deprecated and will be removed from pandas in a future version. Use pandas.concat instead.\n",
      "  UT_data = UT_data.append(f[f['State']==UT_list[i]])\n",
      "C:\\Users\\Acer\\AppData\\Local\\Temp\\ipykernel_19168\\2777048036.py:5: FutureWarning: The frame.append method is deprecated and will be removed from pandas in a future version. Use pandas.concat instead.\n",
      "  UT_data = UT_data.append(f[f['State']==UT_list[i]])\n",
      "C:\\Users\\Acer\\AppData\\Local\\Temp\\ipykernel_19168\\2777048036.py:5: FutureWarning: The frame.append method is deprecated and will be removed from pandas in a future version. Use pandas.concat instead.\n",
      "  UT_data = UT_data.append(f[f['State']==UT_list[i]])\n",
      "C:\\Users\\Acer\\AppData\\Local\\Temp\\ipykernel_19168\\2777048036.py:5: FutureWarning: The frame.append method is deprecated and will be removed from pandas in a future version. Use pandas.concat instead.\n",
      "  UT_data = UT_data.append(f[f['State']==UT_list[i]])\n"
     ]
    }
   ],
   "source": [
    "for i in range(7):\n",
    "    if i==0:\n",
    "        UT_data = f[f['State']==UT_list[i]]\n",
    "    else:\n",
    "        UT_data = UT_data.append(f[f['State']==UT_list[i]])"
   ]
  },
  {
   "cell_type": "code",
   "execution_count": 119,
   "id": "27e4229d-7674-4fae-89d1-257f152dacf5",
   "metadata": {},
   "outputs": [
    {
     "data": {
      "text/plain": [
       "array(['A & N ISLANDS', 'CHANDIGARH', 'D & N HAVELI', 'DAMAN & DIU',\n",
       "       'DELHI (UT)', 'LAKSHADWEEP', 'PUDUCHERRY'], dtype=object)"
      ]
     },
     "execution_count": 119,
     "metadata": {},
     "output_type": "execute_result"
    }
   ],
   "source": [
    "UT_data.State.unique()"
   ]
  },
  {
   "cell_type": "code",
   "execution_count": 120,
   "id": "08abf2de-2f1f-4619-95db-0ac6f921a951",
   "metadata": {},
   "outputs": [
    {
     "data": {
      "text/html": [
       "<div>\n",
       "<style scoped>\n",
       "    .dataframe tbody tr th:only-of-type {\n",
       "        vertical-align: middle;\n",
       "    }\n",
       "\n",
       "    .dataframe tbody tr th {\n",
       "        vertical-align: top;\n",
       "    }\n",
       "\n",
       "    .dataframe thead th {\n",
       "        text-align: right;\n",
       "    }\n",
       "</style>\n",
       "<table border=\"1\" class=\"dataframe\">\n",
       "  <thead>\n",
       "    <tr style=\"text-align: right;\">\n",
       "      <th></th>\n",
       "      <th>State</th>\n",
       "      <th>Year</th>\n",
       "      <th>Type_code</th>\n",
       "      <th>Type</th>\n",
       "      <th>Gender</th>\n",
       "      <th>Age_group</th>\n",
       "      <th>Total</th>\n",
       "    </tr>\n",
       "  </thead>\n",
       "  <tbody>\n",
       "    <tr>\n",
       "      <th>0</th>\n",
       "      <td>A &amp; N ISLANDS</td>\n",
       "      <td>2001</td>\n",
       "      <td>Causes</td>\n",
       "      <td>Cancer</td>\n",
       "      <td>Male</td>\n",
       "      <td>15-29</td>\n",
       "      <td>0.0</td>\n",
       "    </tr>\n",
       "    <tr>\n",
       "      <th>1</th>\n",
       "      <td>A &amp; N ISLANDS</td>\n",
       "      <td>2001</td>\n",
       "      <td>Causes</td>\n",
       "      <td>Divorce</td>\n",
       "      <td>Male</td>\n",
       "      <td>60+</td>\n",
       "      <td>0.0</td>\n",
       "    </tr>\n",
       "    <tr>\n",
       "      <th>2</th>\n",
       "      <td>A &amp; N ISLANDS</td>\n",
       "      <td>2001</td>\n",
       "      <td>Causes</td>\n",
       "      <td>Dowry Dispute</td>\n",
       "      <td>Female</td>\n",
       "      <td>60+</td>\n",
       "      <td>0.0</td>\n",
       "    </tr>\n",
       "    <tr>\n",
       "      <th>3</th>\n",
       "      <td>A &amp; N ISLANDS</td>\n",
       "      <td>2001</td>\n",
       "      <td>Causes</td>\n",
       "      <td>Ideological Causes/Hero Worshipping</td>\n",
       "      <td>Female</td>\n",
       "      <td>60+</td>\n",
       "      <td>0.0</td>\n",
       "    </tr>\n",
       "    <tr>\n",
       "      <th>4</th>\n",
       "      <td>A &amp; N ISLANDS</td>\n",
       "      <td>2001</td>\n",
       "      <td>Causes</td>\n",
       "      <td>Illness (Aids/STD)</td>\n",
       "      <td>Female</td>\n",
       "      <td>0-14</td>\n",
       "      <td>0.0</td>\n",
       "    </tr>\n",
       "  </tbody>\n",
       "</table>\n",
       "</div>"
      ],
      "text/plain": [
       "           State  Year Type_code                                 Type  Gender  \\\n",
       "0  A & N ISLANDS  2001    Causes                               Cancer    Male   \n",
       "1  A & N ISLANDS  2001    Causes                              Divorce    Male   \n",
       "2  A & N ISLANDS  2001    Causes                        Dowry Dispute  Female   \n",
       "3  A & N ISLANDS  2001    Causes  Ideological Causes/Hero Worshipping  Female   \n",
       "4  A & N ISLANDS  2001    Causes                   Illness (Aids/STD)  Female   \n",
       "\n",
       "  Age_group  Total  \n",
       "0     15-29    0.0  \n",
       "1       60+    0.0  \n",
       "2       60+    0.0  \n",
       "3       60+    0.0  \n",
       "4      0-14    0.0  "
      ]
     },
     "execution_count": 120,
     "metadata": {},
     "output_type": "execute_result"
    }
   ],
   "source": [
    "UT_data.head()"
   ]
  },
  {
   "cell_type": "code",
   "execution_count": 121,
   "id": "887f4240-6c38-4923-bb53-cedc280749f8",
   "metadata": {},
   "outputs": [
    {
     "data": {
      "text/plain": [
       "['TOTAL (ALL INDIA)', 'TOTAL (STATES)', 'TOTAL (UTs)']"
      ]
     },
     "execution_count": 121,
     "metadata": {},
     "output_type": "execute_result"
    }
   ],
   "source": [
    "extra_list"
   ]
  },
  {
   "cell_type": "code",
   "execution_count": 122,
   "id": "47e641ed-5fb6-4949-aa77-dde1df0c06b6",
   "metadata": {},
   "outputs": [
    {
     "name": "stderr",
     "output_type": "stream",
     "text": [
      "C:\\Users\\Acer\\AppData\\Local\\Temp\\ipykernel_19168\\681409038.py:5: FutureWarning: The frame.append method is deprecated and will be removed from pandas in a future version. Use pandas.concat instead.\n",
      "  extra_data = extra_data.append(f[f['State']==extra_list[i]])\n",
      "C:\\Users\\Acer\\AppData\\Local\\Temp\\ipykernel_19168\\681409038.py:5: FutureWarning: The frame.append method is deprecated and will be removed from pandas in a future version. Use pandas.concat instead.\n",
      "  extra_data = extra_data.append(f[f['State']==extra_list[i]])\n"
     ]
    }
   ],
   "source": [
    "for i in range(3):\n",
    "    if i==0:\n",
    "        extra_data = f[f['State']==extra_list[i]]\n",
    "    else:\n",
    "        extra_data = extra_data.append(f[f['State']==extra_list[i]])"
   ]
  },
  {
   "cell_type": "code",
   "execution_count": 123,
   "id": "283a80dc-25f5-4895-9641-7bfd65ac1e34",
   "metadata": {},
   "outputs": [
    {
     "data": {
      "text/html": [
       "<div>\n",
       "<style scoped>\n",
       "    .dataframe tbody tr th:only-of-type {\n",
       "        vertical-align: middle;\n",
       "    }\n",
       "\n",
       "    .dataframe tbody tr th {\n",
       "        vertical-align: top;\n",
       "    }\n",
       "\n",
       "    .dataframe thead th {\n",
       "        text-align: right;\n",
       "    }\n",
       "</style>\n",
       "<table border=\"1\" class=\"dataframe\">\n",
       "  <thead>\n",
       "    <tr style=\"text-align: right;\">\n",
       "      <th></th>\n",
       "      <th>State</th>\n",
       "      <th>Year</th>\n",
       "      <th>Type_code</th>\n",
       "      <th>Type</th>\n",
       "      <th>Gender</th>\n",
       "      <th>Age_group</th>\n",
       "      <th>Total</th>\n",
       "    </tr>\n",
       "  </thead>\n",
       "  <tbody>\n",
       "    <tr>\n",
       "      <th>179333</th>\n",
       "      <td>TOTAL (ALL INDIA)</td>\n",
       "      <td>2002</td>\n",
       "      <td>Social_Status</td>\n",
       "      <td>Divorcee</td>\n",
       "      <td>Male</td>\n",
       "      <td>0-100+</td>\n",
       "      <td>684.0</td>\n",
       "    </tr>\n",
       "    <tr>\n",
       "      <th>179334</th>\n",
       "      <td>TOTAL (ALL INDIA)</td>\n",
       "      <td>2002</td>\n",
       "      <td>Social_Status</td>\n",
       "      <td>Married</td>\n",
       "      <td>Female</td>\n",
       "      <td>0-100+</td>\n",
       "      <td>26936.0</td>\n",
       "    </tr>\n",
       "    <tr>\n",
       "      <th>179335</th>\n",
       "      <td>TOTAL (ALL INDIA)</td>\n",
       "      <td>2003</td>\n",
       "      <td>Education_Status</td>\n",
       "      <td>Post Graduate and Above</td>\n",
       "      <td>Male</td>\n",
       "      <td>0-100+</td>\n",
       "      <td>292.0</td>\n",
       "    </tr>\n",
       "    <tr>\n",
       "      <th>179336</th>\n",
       "      <td>TOTAL (ALL INDIA)</td>\n",
       "      <td>2005</td>\n",
       "      <td>Social_Status</td>\n",
       "      <td>Divorcee</td>\n",
       "      <td>Male</td>\n",
       "      <td>0-100+</td>\n",
       "      <td>559.0</td>\n",
       "    </tr>\n",
       "    <tr>\n",
       "      <th>179337</th>\n",
       "      <td>TOTAL (ALL INDIA)</td>\n",
       "      <td>2007</td>\n",
       "      <td>Education_Status</td>\n",
       "      <td>No Education</td>\n",
       "      <td>Female</td>\n",
       "      <td>0-100+</td>\n",
       "      <td>11165.0</td>\n",
       "    </tr>\n",
       "  </tbody>\n",
       "</table>\n",
       "</div>"
      ],
      "text/plain": [
       "                    State  Year         Type_code                     Type  \\\n",
       "179333  TOTAL (ALL INDIA)  2002     Social_Status                 Divorcee   \n",
       "179334  TOTAL (ALL INDIA)  2002     Social_Status                  Married   \n",
       "179335  TOTAL (ALL INDIA)  2003  Education_Status  Post Graduate and Above   \n",
       "179336  TOTAL (ALL INDIA)  2005     Social_Status                 Divorcee   \n",
       "179337  TOTAL (ALL INDIA)  2007  Education_Status             No Education   \n",
       "\n",
       "        Gender Age_group    Total  \n",
       "179333    Male    0-100+    684.0  \n",
       "179334  Female    0-100+  26936.0  \n",
       "179335    Male    0-100+    292.0  \n",
       "179336    Male    0-100+    559.0  \n",
       "179337  Female    0-100+  11165.0  "
      ]
     },
     "execution_count": 123,
     "metadata": {},
     "output_type": "execute_result"
    }
   ],
   "source": [
    "extra_data.head()"
   ]
  },
  {
   "cell_type": "markdown",
   "id": "d623ac99-6730-4cec-94f7-d5e7a02437bb",
   "metadata": {},
   "source": [
    "* No need to cross-check extra data, as we can add things when we want"
   ]
  },
  {
   "cell_type": "code",
   "execution_count": 124,
   "id": "99eda627-a10a-476c-b9c3-8f517bebdc04",
   "metadata": {},
   "outputs": [],
   "source": [
    "state_and_UT_data = state_data"
   ]
  },
  {
   "cell_type": "code",
   "execution_count": 125,
   "id": "4eaaf029-e4bd-4e5d-8e5c-c345c3d27cbc",
   "metadata": {},
   "outputs": [
    {
     "name": "stderr",
     "output_type": "stream",
     "text": [
      "C:\\Users\\Acer\\AppData\\Local\\Temp\\ipykernel_19168\\9734922.py:1: FutureWarning: The frame.append method is deprecated and will be removed from pandas in a future version. Use pandas.concat instead.\n",
      "  state_and_UT_data = state_and_UT_data.append(UT_data)\n"
     ]
    }
   ],
   "source": [
    "state_and_UT_data = state_and_UT_data.append(UT_data)"
   ]
  },
  {
   "cell_type": "code",
   "execution_count": 126,
   "id": "8fad130b-aaa6-466f-afef-f6b35925fa4f",
   "metadata": {},
   "outputs": [
    {
     "data": {
      "text/plain": [
       "array(['ANDHRA PRADESH', 'ARUNACHAL PRADESH', 'ASSAM', 'BIHAR',\n",
       "       'CHHATTISGARH', 'GOA', 'GUJARAT', 'HARYANA', 'HIMACHAL PRADESH',\n",
       "       'JAMMU & KASHMIR', 'JHARKHAND', 'KARNATAKA', 'KERALA',\n",
       "       'MADHYA PRADESH', 'MAHARASHTRA', 'MANIPUR', 'MEGHALAYA', 'MIZORAM',\n",
       "       'NAGALAND', 'ODISHA', 'PUNJAB', 'RAJASTHAN', 'SIKKIM',\n",
       "       'TAMIL NADU', 'TRIPURA', 'UTTAR PRADESH', 'UTTARAKHAND',\n",
       "       'WEST BENGAL', 'TELANGANA', 'A & N ISLANDS', 'CHANDIGARH',\n",
       "       'D & N HAVELI', 'DAMAN & DIU', 'DELHI (UT)', 'LAKSHADWEEP',\n",
       "       'PUDUCHERRY'], dtype=object)"
      ]
     },
     "execution_count": 126,
     "metadata": {},
     "output_type": "execute_result"
    }
   ],
   "source": [
    "state_and_UT_data.State.unique()"
   ]
  },
  {
   "cell_type": "code",
   "execution_count": 127,
   "id": "d6042b16-aeeb-4284-9ec7-3b358b56e008",
   "metadata": {},
   "outputs": [
    {
     "data": {
      "text/plain": [
       "36"
      ]
     },
     "execution_count": 127,
     "metadata": {},
     "output_type": "execute_result"
    }
   ],
   "source": [
    "len(state_and_UT_data.State.unique())"
   ]
  },
  {
   "cell_type": "code",
   "execution_count": 128,
   "id": "0dca9cdb-f8ec-4b63-b903-f685d1dc97c3",
   "metadata": {},
   "outputs": [
    {
     "data": {
      "text/plain": [
       "36"
      ]
     },
     "execution_count": 128,
     "metadata": {},
     "output_type": "execute_result"
    }
   ],
   "source": [
    "29+7"
   ]
  },
  {
   "cell_type": "markdown",
   "id": "60f27d52-f3f1-4171-bce7-360c54d72f8c",
   "metadata": {},
   "source": [
    "* state_data contains state data\n",
    "* UT_dta contains UT data\n",
    "* state_and_UT_data contains both state + UT data\n",
    "* extra_data contais extra data"
   ]
  },
  {
   "cell_type": "code",
   "execution_count": 129,
   "id": "b5d61802-d38c-4936-84aa-71503be777d3",
   "metadata": {},
   "outputs": [
    {
     "data": {
      "text/plain": [
       "array(['Death of Dear Person', 'Fall in Social Reputation',\n",
       "       'Insanity/Mental Illness', 'Other Causes', 'Illness (Aids/STD)',\n",
       "       'Impotency', 'Other Prolonged Illness', 'Paralysis',\n",
       "       'Property Dispute', 'Suspected/Illicit Relation', 'Unemployment',\n",
       "       'Illegitimate Pregnancy', 'Cancer', 'Failure in Examination',\n",
       "       'Professional/Career Problem', 'Bankruptcy',\n",
       "       'Drug Abuse/Addiction', 'Family Problems',\n",
       "       'Physical Abuse (Rape/Incest Etc.)', 'Poverty', 'Divorce',\n",
       "       'Cancellation/Non-Settlement of Marriage', 'Love Affairs',\n",
       "       'Dowry Dispute', 'Ideological Causes/Hero Worshipping'],\n",
       "      dtype=object)"
      ]
     },
     "execution_count": 129,
     "metadata": {},
     "output_type": "execute_result"
    }
   ],
   "source": [
    "state_and_UT_data[state_and_UT_data['Type_code']=='Causes'].Type.unique()"
   ]
  },
  {
   "cell_type": "markdown",
   "id": "64f9401e-c1fb-46b4-9aa0-8c2a4002c8e6",
   "metadata": {},
   "source": [
    "#### data-cleaning compleated ---------------------------------------------------------------------"
   ]
  },
  {
   "cell_type": "markdown",
   "id": "004657ec-8194-4d51-971b-53910533fb33",
   "metadata": {},
   "source": [
    "#### data-analysis begins -------------------------------------------------"
   ]
  },
  {
   "cell_type": "markdown",
   "id": "c4e7b98c-7c4a-45e4-a0d8-6d3cbdd49af9",
   "metadata": {},
   "source": [
    "#### list of all questions to answer\n",
    "* Number of Males suicides vs Number of Female suicides\n",
    "* Year on year number of suicides\n",
    "* Overall average suicide per 1,00,000 people in 2001 -VS- 2011\n",
    "* State wise average suicides per 1,00,000 populaiton\n",
    "* Over all years added, distrbution of suicided into Different Type_codes in Males vs Female"
   ]
  },
  {
   "cell_type": "markdown",
   "id": "96dc9904-8385-4810-b779-2ff45a99e929",
   "metadata": {},
   "source": [
    "* ---------------------------------Number of Males suicides vs Number of Femele suicides"
   ]
  },
  {
   "cell_type": "code",
   "execution_count": 130,
   "id": "0266586a-c9a2-4d5a-87aa-9f669924a420",
   "metadata": {},
   "outputs": [
    {
     "data": {
      "text/plain": [
       "Gender\n",
       "Female    524013.0\n",
       "Male      931918.0\n",
       "Name: Total, dtype: float64"
      ]
     },
     "execution_count": 130,
     "metadata": {},
     "output_type": "execute_result"
    }
   ],
   "source": [
    "m = state_and_UT_data[state_and_UT_data['Type_code']=='Social_Status' ].groupby(['Gender']).Total.sum()\n",
    "m"
   ]
  },
  {
   "cell_type": "code",
   "execution_count": 131,
   "id": "8a1ffc69-8cf7-47a4-915a-1162a7da3cae",
   "metadata": {},
   "outputs": [
    {
     "data": {
      "image/png": "[encoded data removed]",
      "text/plain": [
       "<Figure size 600x600 with 1 Axes>"
      ]
     },
     "metadata": {},
     "output_type": "display_data"
    }
   ],
   "source": [
    "from matplotlib.pyplot import figure\n",
    "figure(figsize=(6, 6), dpi=100)\n",
    "values = [931918,524013]\n",
    "labeles = ['Male','Female']\n",
    "colors = sns.color_palette('Spectral')[0:5]\n",
    "plt.pie(values, labels = labeles, colors = colors, autopct='%.0f%%',radius=1.2,explode=[0,0.1],startangle=100)\n",
    "plt.show()# to get rid of these extra lables"
   ]
  },
  {
   "cell_type": "markdown",
   "id": "7a9f0f8e-e0ad-4a1a-a0ae-0a244445d69c",
   "metadata": {},
   "source": [
    "* all colors available here\n",
    "https://seaborn.pydata.org/tutorial/color_palettes.html\n",
    "* all pie arguments are available here \n",
    "https://matplotlib.org/stable/api/_as_gen/matplotlib.pyplot.pie.html"
   ]
  },
  {
   "cell_type": "code",
   "execution_count": 132,
   "id": "4ea51a29-361d-495a-b2df-81083c52d7e9",
   "metadata": {},
   "outputs": [
    {
     "data": {
      "text/plain": [
       "1.7777777777777777"
      ]
     },
     "execution_count": 132,
     "metadata": {},
     "output_type": "execute_result"
    }
   ],
   "source": [
    "64/36"
   ]
  },
  {
   "cell_type": "markdown",
   "id": "f8630860-81dd-42df-9dcd-01c5ef8bb639",
   "metadata": {},
   "source": [
    "#### !!!! on average Men are 1.7 times suicidal than females"
   ]
  },
  {
   "cell_type": "markdown",
   "id": "fec21ab6-bfcb-43f1-b8e7-c8530c5d3db9",
   "metadata": {},
   "source": [
    "* -----------------------------------------Year on year number of suicides"
   ]
  },
  {
   "cell_type": "code",
   "execution_count": 133,
   "id": "99ba5d18-61d6-43bf-a621-f24f3c6022de",
   "metadata": {},
   "outputs": [
    {
     "data": {
      "text/plain": [
       "Year\n",
       "2001    108506.0\n",
       "2002    110417.0\n",
       "2003    110851.0\n",
       "2004    113697.0\n",
       "2005    113914.0\n",
       "2006    118112.0\n",
       "2007    122637.0\n",
       "2008    125017.0\n",
       "2009    127151.0\n",
       "2010    134599.0\n",
       "2011    135585.0\n",
       "2012    135445.0\n",
       "Name: Total, dtype: float64"
      ]
     },
     "execution_count": 133,
     "metadata": {},
     "output_type": "execute_result"
    }
   ],
   "source": [
    "m = state_and_UT_data[state_and_UT_data['Type_code']=='Social_Status' ].groupby(['Year']).Total.sum()\n",
    "m"
   ]
  },
  {
   "cell_type": "code",
   "execution_count": 134,
   "id": "d2dd6c31-3674-4627-80b0-0e3b45cb3514",
   "metadata": {},
   "outputs": [],
   "source": [
    "m =list(m)"
   ]
  },
  {
   "cell_type": "code",
   "execution_count": 135,
   "id": "44dac9d6-f1ac-4d70-ad0a-d0f4f088d12b",
   "metadata": {},
   "outputs": [
    {
     "data": {
      "text/plain": [
       "[108506.0,\n",
       " 110417.0,\n",
       " 110851.0,\n",
       " 113697.0,\n",
       " 113914.0,\n",
       " 118112.0,\n",
       " 122637.0,\n",
       " 125017.0,\n",
       " 127151.0,\n",
       " 134599.0,\n",
       " 135585.0,\n",
       " 135445.0]"
      ]
     },
     "execution_count": 135,
     "metadata": {},
     "output_type": "execute_result"
    }
   ],
   "source": [
    "m"
   ]
  },
  {
   "cell_type": "code",
   "execution_count": 136,
   "id": "1db5401c-342c-4b58-9a0f-5b21fd527117",
   "metadata": {},
   "outputs": [
    {
     "data": {
      "text/plain": [
       "[2001, 2002, 2003, 2004, 2005, 2006, 2007, 2008, 2009, 2010, 2011, 2012]"
      ]
     },
     "execution_count": 136,
     "metadata": {},
     "output_type": "execute_result"
    }
   ],
   "source": [
    "years"
   ]
  },
  {
   "cell_type": "code",
   "execution_count": 137,
   "id": "105eda33-d4eb-42fe-b9aa-96c4e21fdf9c",
   "metadata": {},
   "outputs": [
    {
     "data": {
      "text/plain": [
       "<matplotlib.collections.PathCollection at 0x205344d9d00>"
      ]
     },
     "execution_count": 137,
     "metadata": {},
     "output_type": "execute_result"
    },
    {
     "data": {
      "image/png": "[encoded data removed]",
      "text/plain": [
       "<Figure size 432x288 with 1 Axes>"
      ]
     },
     "metadata": {
      "needs_background": "light"
     },
     "output_type": "display_data"
    }
   ],
   "source": [
    "plt.scatter(years,m)"
   ]
  },
  {
   "cell_type": "markdown",
   "id": "9bae0ad5-d655-48ca-8599-31f98432d4ad",
   "metadata": {},
   "source": [
    "#### !!!! Year on Year there is continious increase in number of suicides, except for 2012"
   ]
  },
  {
   "cell_type": "markdown",
   "id": "b8ff930d-eeb0-45e9-8ecd-2eee5afcf7e0",
   "metadata": {},
   "source": [
    "* -------------------------------------------Overall average suicide per 1,00,000 people in 2001 -VS- 2011"
   ]
  },
  {
   "cell_type": "markdown",
   "id": "2dfa3e6c-1a3f-4890-a28e-83ba316e9c7a",
   "metadata": {},
   "source": [
    "* Since census data is for 2001 & 2011, we will see % of populaiton, suicidng \n",
    "* 2011 population = 1,210,854,977\n",
    "* 2001 population = 1,028,737,436"
   ]
  },
  {
   "cell_type": "code",
   "execution_count": 138,
   "id": "7b787d65-1917-40cd-a7b0-65fcee20de73",
   "metadata": {},
   "outputs": [
    {
     "name": "stdout",
     "output_type": "stream",
     "text": [
      "Suicide rate per 1000 people in 2011 -  11.2\n"
     ]
    }
   ],
   "source": [
    "print('Suicide rate per 1000 people in 2011 - ' ,round((135585/1210854977)*100000,1))"
   ]
  },
  {
   "cell_type": "code",
   "execution_count": 139,
   "id": "c99af3fa-f7d0-473d-91cd-bb0394f965d0",
   "metadata": {},
   "outputs": [
    {
     "name": "stdout",
     "output_type": "stream",
     "text": [
      "Suicide rate per 1000 people in 2001 -  10.5\n"
     ]
    }
   ],
   "source": [
    "print('Suicide rate per 1000 people in 2001 - ' ,round((108506/1028737436)*100000,1))\n",
    "#108506*100/1028737436"
   ]
  },
  {
   "cell_type": "markdown",
   "id": "9f71ff08-5ec2-4482-a1e6-d716810abdf3",
   "metadata": {},
   "source": [
    "#### !!!  suicide rate per 1,00,000 has increased form (10.5 in 2001) to (11.2 in 2011)"
   ]
  },
  {
   "cell_type": "markdown",
   "id": "8b257fa0-1b81-4da2-85f6-36051c5a7dd0",
   "metadata": {},
   "source": [
    "* ----------------------------------------State wise average suicides per 1,00,000 populaiton"
   ]
  },
  {
   "cell_type": "markdown",
   "id": "00a6b083-95ed-4159-aa5d-c0366af8485c",
   "metadata": {},
   "source": [
    "##### Choropleth map used\n",
    "* of average suicide in states over years Divided by average population of that state\n",
    "* Average population of each (state/UT) = (2001+2011)/2\n",
    "* Average suicides of each (state/UT) = ( 2001-data + 2002-data + 2003-data + ... 2012-data )/12\n",
    "* Index-of-comparision = (Average suicides of each state / Average population of each state)"
   ]
  },
  {
   "cell_type": "code",
   "execution_count": 140,
   "id": "86786efe-4a16-4a89-be97-32370a5bff15",
   "metadata": {},
   "outputs": [
    {
     "data": {
      "text/plain": [
       "36"
      ]
     },
     "execution_count": 140,
     "metadata": {},
     "output_type": "execute_result"
    }
   ],
   "source": [
    "state_and_UT_list = state_list + UT_list\n",
    "len(state_and_UT_list)"
   ]
  },
  {
   "cell_type": "code",
   "execution_count": 141,
   "id": "623cce72-6357-49c1-bcd5-b2127ee0e42c",
   "metadata": {},
   "outputs": [
    {
     "data": {
      "text/plain": [
       "[['ANDHRA PRADESH', 6784.167],\n",
       " ['ARUNACHAL PRADESH', 110.667],\n",
       " ['ASSAM', 2872.417],\n",
       " ['BIHAR', 770.417],\n",
       " ['CHHATTISGARH', 5041.25],\n",
       " ['GOA', 289.583],\n",
       " ['GUJARAT', 5514.75],\n",
       " ['HARYANA', 2453.083],\n",
       " ['HIMACHAL PRADESH', 443.25],\n",
       " ['JAMMU & KASHMIR', 247.333],\n",
       " ['JHARKHAND', 829.167],\n",
       " ['KARNATAKA', 12247.083],\n",
       " ['KERALA', 8994.667],\n",
       " ['MADHYA PRADESH', 7525.583],\n",
       " ['MAHARASHTRA', 15032.417],\n",
       " ['MANIPUR', 35.083],\n",
       " ['MEGHALAYA', 90.5],\n",
       " ['MIZORAM', 69.5],\n",
       " ['NAGALAND', 28.917],\n",
       " ['ODISHA', 4454.0],\n",
       " ['PUNJAB', 772.5],\n",
       " ['RAJASTHAN', 4252.25],\n",
       " ['SIKKIM', 160.333],\n",
       " ['TAMIL NADU', 13651.083],\n",
       " ['TRIPURA', 766.167],\n",
       " ['UTTAR PRADESH', 3890.0],\n",
       " ['UTTARAKHAND', 308.5],\n",
       " ['WEST BENGAL', 14665.583],\n",
       " ['TELANGANA', 6784.167],\n",
       " ['A & N ISLANDS', 135.25],\n",
       " ['CHANDIGARH', 86.167],\n",
       " ['D & N HAVELI', 57.167],\n",
       " ['DAMAN & DIU', 23.25],\n",
       " ['DELHI (UT)', 1404.75],\n",
       " ['LAKSHADWEEP', 0.833],\n",
       " ['PUDUCHERRY', 535.75]]"
      ]
     },
     "execution_count": 141,
     "metadata": {},
     "output_type": "execute_result"
    }
   ],
   "source": [
    "l=[]\n",
    "for j in state_and_UT_list:\n",
    "    s = 0\n",
    "    for i in years:\n",
    "        s = s + state_and_UT_data[(state_and_UT_data['State']==j)&(state_and_UT_data['Year']==i)&(state_and_UT_data['Type_code']=='Social_Status')].Total.sum()\n",
    "    s = s/12\n",
    "    l = l+[[j,round(s,3)]]\n",
    "l"
   ]
  },
  {
   "cell_type": "code",
   "execution_count": 142,
   "id": "c1c1381d-f059-4fd4-b96b-2c675fd16d9f",
   "metadata": {},
   "outputs": [
    {
     "data": {
      "text/plain": [
       "36"
      ]
     },
     "execution_count": 142,
     "metadata": {},
     "output_type": "execute_result"
    }
   ],
   "source": [
    "len(l)"
   ]
  },
  {
   "cell_type": "markdown",
   "id": "583af7fe-c9f8-4ac9-863a-687c717a4be4",
   "metadata": {},
   "source": [
    "* L contains data of location with average of their suicides in 12 Years"
   ]
  },
  {
   "cell_type": "code",
   "execution_count": 143,
   "id": "bd86a509-61e8-4af7-8c59-753160f5bf16",
   "metadata": {},
   "outputs": [],
   "source": [
    "# ['state' , (2011 + 2001)/2 ]\n",
    "m = [['ANDHRA PRADESH', (84580777+75728000)/4],\n",
    " ['ARUNACHAL PRADESH', (1383727+1091000)/2],\n",
    " ['ASSAM', (31205576+26638000)/2],\n",
    " ['BIHAR', (104099452+82879000)/2],\n",
    " ['CHHATTISGARH', (25545198+20796000)/2],\n",
    " ['GOA', (1458545+1344000)/2],\n",
    " ['GUJARAT', (60439692+50597000)/2],\n",
    " ['HARYANA', (25351462+21083000)/2],\n",
    " ['HIMACHAL PRADESH', (6864602+6077000)/2],\n",
    " ['JAMMU & KASHMIR', (12541302+10070000)/2],\n",
    " ['JHARKHAND', (32988134+26909000)/2],\n",
    " ['KARNATAKA', (61095297+52734000)/2],\n",
    " ['KERALA', (33406061+31839000)/2],\n",
    " ['MADHYA PRADESH', (72626809+60385000)/2],\n",
    " ['MAHARASHTRA', (112374333+96752000 )/2],\n",
    " ['MANIPUR', (2721756+2389000)/2],\n",
    " ['MEGHALAYA', (2966889+2306000)/2],\n",
    " ['MIZORAM', (1097206+891000)/2],\n",
    " ['NAGALAND', (1978502+1989000)/2],\n",
    " ['ODISHA', (41974218+36707000)/2],\n",
    " ['PUNJAB', (27743338+24289000)/2],\n",
    " ['RAJASTHAN', (68548437+56473000)/2],\n",
    " ['SIKKIM', (610577+540000)/2],\n",
    " ['TAMIL NADU', (72147030+62111000)/2],\n",
    " ['TRIPURA', (3673917+3191000)/2],\n",
    " ['UTTAR PRADESH', (199812341 + 166053000)/2],\n",
    " ['UTTARAKHAND', (10086292+8480000)/2],\n",
    " ['WEST BENGAL', (91276115+80221000)/2],\n",
    " ['TELANGANA', (84580777+75728000)/4],\n",
    " ['A & N ISLANDS', (380581+356000)/2],\n",
    " ['CHANDIGARH', (1055450+901000)/2],\n",
    " ['D & N HAVELI', (343709+220000)/2],\n",
    " ['DAMAN & DIU', (243247+158000)/2],\n",
    " ['DELHI (UT)', (16787941+13783000)/2],\n",
    " ['LAKSHADWEEP', (64473+61000)/2],\n",
    " ['PUDUCHERRY', (1247953+974000)/2]]"
   ]
  },
  {
   "cell_type": "code",
   "execution_count": 144,
   "id": "403ee9c9-e75a-4acc-a20a-9ba9cd665a4b",
   "metadata": {},
   "outputs": [
    {
     "data": {
      "text/plain": [
       "[['ANDHRA PRADESH', 40077194.25],\n",
       " ['ARUNACHAL PRADESH', 1237363.5],\n",
       " ['ASSAM', 28921788.0],\n",
       " ['BIHAR', 93489226.0],\n",
       " ['CHHATTISGARH', 23170599.0],\n",
       " ['GOA', 1401272.5],\n",
       " ['GUJARAT', 55518346.0],\n",
       " ['HARYANA', 23217231.0],\n",
       " ['HIMACHAL PRADESH', 6470801.0],\n",
       " ['JAMMU & KASHMIR', 11305651.0],\n",
       " ['JHARKHAND', 29948567.0],\n",
       " ['KARNATAKA', 56914648.5],\n",
       " ['KERALA', 32622530.5],\n",
       " ['MADHYA PRADESH', 66505904.5],\n",
       " ['MAHARASHTRA', 104563166.5],\n",
       " ['MANIPUR', 2555378.0],\n",
       " ['MEGHALAYA', 2636444.5],\n",
       " ['MIZORAM', 994103.0],\n",
       " ['NAGALAND', 1983751.0],\n",
       " ['ODISHA', 39340609.0],\n",
       " ['PUNJAB', 26016169.0],\n",
       " ['RAJASTHAN', 62510718.5],\n",
       " ['SIKKIM', 575288.5],\n",
       " ['TAMIL NADU', 67129015.0],\n",
       " ['TRIPURA', 3432458.5],\n",
       " ['UTTAR PRADESH', 182932670.5],\n",
       " ['UTTARAKHAND', 9283146.0],\n",
       " ['WEST BENGAL', 85748557.5],\n",
       " ['TELANGANA', 40077194.25],\n",
       " ['A & N ISLANDS', 368290.5],\n",
       " ['CHANDIGARH', 978225.0],\n",
       " ['D & N HAVELI', 281854.5],\n",
       " ['DAMAN & DIU', 200623.5],\n",
       " ['DELHI (UT)', 15285470.5],\n",
       " ['LAKSHADWEEP', 62736.5],\n",
       " ['PUDUCHERRY', 1110976.5]]"
      ]
     },
     "execution_count": 144,
     "metadata": {},
     "output_type": "execute_result"
    }
   ],
   "source": [
    "m"
   ]
  },
  {
   "cell_type": "code",
   "execution_count": 145,
   "id": "83b27bc1-dcf1-4bd7-92a9-849847e58202",
   "metadata": {},
   "outputs": [
    {
     "data": {
      "text/plain": [
       "40077194.25"
      ]
     },
     "execution_count": 145,
     "metadata": {},
     "output_type": "execute_result"
    }
   ],
   "source": [
    "m[0][1]"
   ]
  },
  {
   "cell_type": "markdown",
   "id": "cb425ba5-21aa-4e77-8b3e-038d06788401",
   "metadata": {},
   "source": [
    "* m contains list of states with their average population \n",
    "* now creating list containing states's suicide per 1,00,000 people"
   ]
  },
  {
   "cell_type": "code",
   "execution_count": 146,
   "id": "5e2e71b1-5180-4168-b0ac-21b713b41fb5",
   "metadata": {},
   "outputs": [
    {
     "data": {
      "text/plain": [
       "6784.167"
      ]
     },
     "execution_count": 146,
     "metadata": {},
     "output_type": "execute_result"
    }
   ],
   "source": [
    "l[0][1]"
   ]
  },
  {
   "cell_type": "code",
   "execution_count": 147,
   "id": "13904594-57a4-4b09-8c61-115de31bfacc",
   "metadata": {},
   "outputs": [
    {
     "data": {
      "text/plain": [
       "40077194.25"
      ]
     },
     "execution_count": 147,
     "metadata": {},
     "output_type": "execute_result"
    }
   ],
   "source": [
    "m[0][1]"
   ]
  },
  {
   "cell_type": "code",
   "execution_count": 148,
   "id": "fc2fca88-a506-4985-9668-a9eb528c2734",
   "metadata": {},
   "outputs": [
    {
     "data": {
      "text/plain": [
       "0.00016927749377066236"
      ]
     },
     "execution_count": 148,
     "metadata": {},
     "output_type": "execute_result"
    }
   ],
   "source": [
    "(l[0][1])/ (m[0][1])"
   ]
  },
  {
   "cell_type": "code",
   "execution_count": 149,
   "id": "32f6eebd-971c-495f-bf5b-403a3876945d",
   "metadata": {},
   "outputs": [],
   "source": [
    "n = []\n",
    "for i in range(36):\n",
    "    n.append((float(l[i][1])/float(m[i][1]))*100000)"
   ]
  },
  {
   "cell_type": "code",
   "execution_count": 150,
   "id": "62b7d440-f82d-4848-8e3f-23db328e986f",
   "metadata": {},
   "outputs": [
    {
     "data": {
      "text/plain": [
       "[16.927749377066235,\n",
       " 8.943774404207009,\n",
       " 9.931671582683615,\n",
       " 0.8240703586528785,\n",
       " 21.757098295128234,\n",
       " 20.665716339969563,\n",
       " 9.933202981227144,\n",
       " 10.565786247291935,\n",
       " 6.8500020322059045,\n",
       " 2.1876935702331517,\n",
       " 2.768636642948559,\n",
       " 21.51833196334332,\n",
       " 27.57194755324085,\n",
       " 11.315661453788662,\n",
       " 14.376398021572921,\n",
       " 1.3729084307683637,\n",
       " 3.432653332926219,\n",
       " 6.991227267194647,\n",
       " 1.457693026997844,\n",
       " 11.321634598996676,\n",
       " 2.9693072796382896,\n",
       " 6.8024334098799395,\n",
       " 27.870016522144976,\n",
       " 20.335592589880847,\n",
       " 22.32123126907434,\n",
       " 2.12646543089743,\n",
       " 3.323226845726653,\n",
       " 17.103008409208517,\n",
       " 16.927749377066235,\n",
       " 36.72372760090201,\n",
       " 8.80850520074625,\n",
       " 20.282450697079522,\n",
       " 11.588871692498635,\n",
       " 9.190099840237172,\n",
       " 1.327775696763447,\n",
       " 48.223342257914545]"
      ]
     },
     "execution_count": 150,
     "metadata": {},
     "output_type": "execute_result"
    }
   ],
   "source": [
    "n"
   ]
  },
  {
   "cell_type": "code",
   "execution_count": 151,
   "id": "5dc7dc1a-708f-4151-8a3a-5b9c89bacec3",
   "metadata": {},
   "outputs": [
    {
     "data": {
      "text/plain": [
       "['ANDHRA PRADESH',\n",
       " 'ARUNACHAL PRADESH',\n",
       " 'ASSAM',\n",
       " 'BIHAR',\n",
       " 'CHHATTISGARH',\n",
       " 'GOA',\n",
       " 'GUJARAT',\n",
       " 'HARYANA',\n",
       " 'HIMACHAL PRADESH',\n",
       " 'JAMMU & KASHMIR',\n",
       " 'JHARKHAND',\n",
       " 'KARNATAKA',\n",
       " 'KERALA',\n",
       " 'MADHYA PRADESH',\n",
       " 'MAHARASHTRA',\n",
       " 'MANIPUR',\n",
       " 'MEGHALAYA',\n",
       " 'MIZORAM',\n",
       " 'NAGALAND',\n",
       " 'ODISHA',\n",
       " 'PUNJAB',\n",
       " 'RAJASTHAN',\n",
       " 'SIKKIM',\n",
       " 'TAMIL NADU',\n",
       " 'TRIPURA',\n",
       " 'UTTAR PRADESH',\n",
       " 'UTTARAKHAND',\n",
       " 'WEST BENGAL',\n",
       " 'TELANGANA',\n",
       " 'A & N ISLANDS',\n",
       " 'CHANDIGARH',\n",
       " 'D & N HAVELI',\n",
       " 'DAMAN & DIU',\n",
       " 'DELHI (UT)',\n",
       " 'LAKSHADWEEP',\n",
       " 'PUDUCHERRY']"
      ]
     },
     "execution_count": 151,
     "metadata": {},
     "output_type": "execute_result"
    }
   ],
   "source": [
    "state_and_UT_list"
   ]
  },
  {
   "cell_type": "code",
   "execution_count": 152,
   "id": "9cd14ef3-0a1b-4c72-afc8-372ee7536969",
   "metadata": {},
   "outputs": [],
   "source": [
    "data =[['location','avg']]\n",
    "for i in range(36):\n",
    "    data.append([state_and_UT_list[i],n[i]])"
   ]
  },
  {
   "cell_type": "code",
   "execution_count": 153,
   "id": "99bf8568-9865-4df6-b3f3-5e8737af1057",
   "metadata": {},
   "outputs": [
    {
     "data": {
      "text/plain": [
       "37"
      ]
     },
     "execution_count": 153,
     "metadata": {},
     "output_type": "execute_result"
    }
   ],
   "source": [
    "len(data)"
   ]
  },
  {
   "cell_type": "markdown",
   "id": "53a8bc8a-a23f-4d6d-bf52-7c0efdfc3173",
   "metadata": {},
   "source": [
    "* creating csv file to store this data"
   ]
  },
  {
   "cell_type": "code",
   "execution_count": 154,
   "id": "9b0ee29b-4eae-45e3-abcd-85801c9096ec",
   "metadata": {},
   "outputs": [],
   "source": [
    "import csv\n",
    "with open('test.csv','w',newline='') as fp:\n",
    "    # fp. truncate(0)\n",
    "    a = csv.writer(fp,delimiter=',')\n",
    "    a.writerows(data)"
   ]
  },
  {
   "cell_type": "markdown",
   "id": "da8c650d-c961-4c34-8313-aca7b58148d7",
   "metadata": {},
   "source": [
    "* Downloading this csv file & creating map in Tableau"
   ]
  },
  {
   "cell_type": "markdown",
   "id": "6ce7a56b-b198-45c7-9272-55fc16289138",
   "metadata": {},
   "source": [
    "#### !!!! Tableau graph shows , south indian are more suicidal\n",
    "* can also be done with GeoJson in python, but easier on Tableau"
   ]
  },
  {
   "cell_type": "markdown",
   "id": "80bff3b2-abab-4518-974a-6679605646f5",
   "metadata": {},
   "source": [
    "##### GeoJSON\n",
    "* An open standard format designed for representing simple geographical features, along with their non-spatial features\n",
    "* Downloaded json file of indian maps from https://un-mapped.carto.com/tables/states_india/public/map\n",
    "##### Mapbox\n",
    "* An open source mapping platform for custom designed map"
   ]
  },
  {
   "cell_type": "markdown",
   "id": "495c7376-b84d-425e-bdcf-90c49bacb4a4",
   "metadata": {},
   "source": [
    "* -----------------------------Over all years added, distrbution of suicided into Different Type_codes in Males vs Female"
   ]
  },
  {
   "cell_type": "markdown",
   "id": "50c887bd-ff2e-445c-8704-be5c6c219bd8",
   "metadata": {},
   "source": [
    "#### Type_codes == 'Causes' , 'Male'"
   ]
  },
  {
   "cell_type": "markdown",
   "id": "d9629459-b673-40db-b58d-6af8e06963db",
   "metadata": {},
   "source": [
    "*  in total suicides among 'Male' which was major cause ?"
   ]
  },
  {
   "cell_type": "code",
   "execution_count": 155,
   "id": "9f3da269-ea15-415e-9239-16d458192e7a",
   "metadata": {},
   "outputs": [
    {
     "data": {
      "text/html": [
       "<div>\n",
       "<style scoped>\n",
       "    .dataframe tbody tr th:only-of-type {\n",
       "        vertical-align: middle;\n",
       "    }\n",
       "\n",
       "    .dataframe tbody tr th {\n",
       "        vertical-align: top;\n",
       "    }\n",
       "\n",
       "    .dataframe thead th {\n",
       "        text-align: right;\n",
       "    }\n",
       "</style>\n",
       "<table border=\"1\" class=\"dataframe\">\n",
       "  <thead>\n",
       "    <tr style=\"text-align: right;\">\n",
       "      <th></th>\n",
       "      <th>State</th>\n",
       "      <th>Year</th>\n",
       "      <th>Type_code</th>\n",
       "      <th>Type</th>\n",
       "      <th>Gender</th>\n",
       "      <th>Age_group</th>\n",
       "      <th>Total</th>\n",
       "    </tr>\n",
       "  </thead>\n",
       "  <tbody>\n",
       "    <tr>\n",
       "      <th>4993</th>\n",
       "      <td>ANDHRA PRADESH</td>\n",
       "      <td>2001</td>\n",
       "      <td>Causes</td>\n",
       "      <td>Death of Dear Person</td>\n",
       "      <td>Male</td>\n",
       "      <td>0-14</td>\n",
       "      <td>0.0</td>\n",
       "    </tr>\n",
       "    <tr>\n",
       "      <th>4994</th>\n",
       "      <td>ANDHRA PRADESH</td>\n",
       "      <td>2001</td>\n",
       "      <td>Causes</td>\n",
       "      <td>Fall in Social Reputation</td>\n",
       "      <td>Female</td>\n",
       "      <td>60+</td>\n",
       "      <td>0.5</td>\n",
       "    </tr>\n",
       "    <tr>\n",
       "      <th>4995</th>\n",
       "      <td>ANDHRA PRADESH</td>\n",
       "      <td>2001</td>\n",
       "      <td>Causes</td>\n",
       "      <td>Insanity/Mental Illness</td>\n",
       "      <td>Female</td>\n",
       "      <td>15-29</td>\n",
       "      <td>56.0</td>\n",
       "    </tr>\n",
       "    <tr>\n",
       "      <th>4996</th>\n",
       "      <td>ANDHRA PRADESH</td>\n",
       "      <td>2001</td>\n",
       "      <td>Causes</td>\n",
       "      <td>Other Causes</td>\n",
       "      <td>Male</td>\n",
       "      <td>30-44</td>\n",
       "      <td>146.5</td>\n",
       "    </tr>\n",
       "    <tr>\n",
       "      <th>4997</th>\n",
       "      <td>ANDHRA PRADESH</td>\n",
       "      <td>2001</td>\n",
       "      <td>Education_Status</td>\n",
       "      <td>Diploma</td>\n",
       "      <td>Male</td>\n",
       "      <td>0-100+</td>\n",
       "      <td>37.5</td>\n",
       "    </tr>\n",
       "  </tbody>\n",
       "</table>\n",
       "</div>"
      ],
      "text/plain": [
       "               State  Year         Type_code                       Type  \\\n",
       "4993  ANDHRA PRADESH  2001            Causes       Death of Dear Person   \n",
       "4994  ANDHRA PRADESH  2001            Causes  Fall in Social Reputation   \n",
       "4995  ANDHRA PRADESH  2001            Causes    Insanity/Mental Illness   \n",
       "4996  ANDHRA PRADESH  2001            Causes               Other Causes   \n",
       "4997  ANDHRA PRADESH  2001  Education_Status                    Diploma   \n",
       "\n",
       "      Gender Age_group  Total  \n",
       "4993    Male      0-14    0.0  \n",
       "4994  Female       60+    0.5  \n",
       "4995  Female     15-29   56.0  \n",
       "4996    Male     30-44  146.5  \n",
       "4997    Male    0-100+   37.5  "
      ]
     },
     "execution_count": 155,
     "metadata": {},
     "output_type": "execute_result"
    }
   ],
   "source": [
    "state_and_UT_data.head()"
   ]
  },
  {
   "cell_type": "code",
   "execution_count": 156,
   "id": "ecef2c57-ebd8-4366-8fc1-8cdd46663d19",
   "metadata": {},
   "outputs": [
    {
     "data": {
      "text/plain": [
       "25"
      ]
     },
     "execution_count": 156,
     "metadata": {},
     "output_type": "execute_result"
    }
   ],
   "source": [
    "t = state_and_UT_data[state_and_UT_data['Type_code']=='Causes'].Type.unique()\n",
    "len(t)"
   ]
  },
  {
   "cell_type": "code",
   "execution_count": 157,
   "id": "aa6e2c06-ee95-4efa-b666-be2a2ee42d1e",
   "metadata": {},
   "outputs": [],
   "source": [
    "o = []\n",
    "for i in t:\n",
    "    o.append(state_and_UT_data[(state_and_UT_data['Gender']=='Male')&(state_and_UT_data['Type_code']=='Causes')&(state_and_UT_data['Type']==i)].Total.sum())"
   ]
  },
  {
   "cell_type": "code",
   "execution_count": 158,
   "id": "062ca953-d797-44f9-bb11-ba69ade8d286",
   "metadata": {},
   "outputs": [
    {
     "data": {
      "text/plain": [
       "25"
      ]
     },
     "execution_count": 158,
     "metadata": {},
     "output_type": "execute_result"
    }
   ],
   "source": [
    "len(o)"
   ]
  },
  {
   "cell_type": "code",
   "execution_count": 159,
   "id": "5460e198-9bfd-47be-868c-49f0643e67b6",
   "metadata": {},
   "outputs": [
    {
     "data": {
      "text/plain": [
       "[5614.0,\n",
       " 8767.0,\n",
       " 60877.0,\n",
       " 304985.0,\n",
       " 5831.0,\n",
       " 2521.0,\n",
       " 125493.0,\n",
       " 5002.0,\n",
       " 14051.0,\n",
       " 6818.0,\n",
       " 23617.0,\n",
       " 103.0,\n",
       " 6180.0,\n",
       " 14951.0,\n",
       " 10958.0,\n",
       " 31175.0,\n",
       " 28841.0,\n",
       " 208771.0,\n",
       " 1330.0,\n",
       " 24779.0,\n",
       " 1598.0,\n",
       " 5170.0,\n",
       " 23700.0,\n",
       " 764.0,\n",
       " 1342.0]"
      ]
     },
     "execution_count": 159,
     "metadata": {},
     "output_type": "execute_result"
    }
   ],
   "source": [
    "o"
   ]
  },
  {
   "cell_type": "code",
   "execution_count": 160,
   "id": "4480cf16-5948-42f5-917a-3792e330724f",
   "metadata": {},
   "outputs": [
    {
     "data": {
      "text/plain": [
       "<BarContainer object of 25 artists>"
      ]
     },
     "execution_count": 160,
     "metadata": {},
     "output_type": "execute_result"
    },
    {
     "data": {
      "image/png": "[encoded data removed]",
      "text/plain": [
       "<Figure size 432x288 with 1 Axes>"
      ]
     },
     "metadata": {
      "needs_background": "light"
     },
     "output_type": "display_data"
    }
   ],
   "source": [
    "plt.bar(t,o)"
   ]
  },
  {
   "cell_type": "markdown",
   "id": "cad7f568-c710-46cb-80a9-65fed9252730",
   "metadata": {},
   "source": [
    "* Graphs shows, it to have few most contributing cases, and remaining less contribution "
   ]
  },
  {
   "cell_type": "code",
   "execution_count": 161,
   "id": "29217311-c89c-410c-a22d-a43e21ea5e1f",
   "metadata": {},
   "outputs": [
    {
     "data": {
      "text/plain": [
       "923238.0"
      ]
     },
     "execution_count": 161,
     "metadata": {},
     "output_type": "execute_result"
    }
   ],
   "source": [
    "sum = 0\n",
    "for i in o:\n",
    "    sum = sum+i\n",
    "sum"
   ]
  },
  {
   "cell_type": "code",
   "execution_count": 162,
   "id": "42c1498f-7826-4eda-ae19-29e4f3cf6122",
   "metadata": {},
   "outputs": [
    {
     "data": {
      "text/plain": [
       "[['Death of Dear Person', 0.61],\n",
       " ['Fall in Social Reputation', 0.95],\n",
       " ['Insanity/Mental Illness', 6.59],\n",
       " ['Other Causes', 33.03],\n",
       " ['Illness (Aids/STD)', 0.63],\n",
       " ['Impotency', 0.27],\n",
       " ['Other Prolonged Illness', 13.59],\n",
       " ['Paralysis', 0.54],\n",
       " ['Property Dispute', 1.52],\n",
       " ['Suspected/Illicit Relation', 0.74],\n",
       " ['Unemployment', 2.56],\n",
       " ['Illegitimate Pregnancy', 0.01],\n",
       " ['Cancer', 0.67],\n",
       " ['Failure in Examination', 1.62],\n",
       " ['Professional/Career Problem', 1.19],\n",
       " ['Bankruptcy', 3.38],\n",
       " ['Drug Abuse/Addiction', 3.12],\n",
       " ['Family Problems', 22.61],\n",
       " ['Physical Abuse (Rape/Incest Etc.)', 0.14],\n",
       " ['Poverty', 2.68],\n",
       " ['Divorce', 0.17],\n",
       " ['Cancellation/Non-Settlement of Marriage', 0.56],\n",
       " ['Love Affairs', 2.57],\n",
       " ['Dowry Dispute', 0.08],\n",
       " ['Ideological Causes/Hero Worshipping', 0.15]]"
      ]
     },
     "execution_count": 162,
     "metadata": {},
     "output_type": "execute_result"
    }
   ],
   "source": [
    "p=[]\n",
    "for i in range(25):\n",
    "    p.append([t[i],round((o[i]*100/sum),2)])\n",
    "p"
   ]
  },
  {
   "cell_type": "code",
   "execution_count": 163,
   "id": "53a58e8d-f5bb-4153-8fa7-78a60a4bea07",
   "metadata": {},
   "outputs": [
    {
     "name": "stdout",
     "output_type": "stream",
     "text": [
      "['Insanity/Mental Illness', 6.59]\n",
      "['Other Causes', 33.03]\n",
      "['Other Prolonged Illness', 13.59]\n",
      "['Family Problems', 22.61]\n"
     ]
    }
   ],
   "source": [
    "# checking out causes contribution for 'Male' suicides\n",
    "for i in range(25):\n",
    "    if p[i][1]>5:\n",
    "        print(p[i])"
   ]
  },
  {
   "cell_type": "markdown",
   "id": "0db7306e-8e5b-4ce2-8d97-844b0aa1e4bd",
   "metadata": {},
   "source": [
    "* 'Other Causes', 33 %\n",
    "* 'Family Problems', 22.61 %\n",
    "* 'Other Prolonged Illness', 13.59 %"
   ]
  },
  {
   "cell_type": "markdown",
   "id": "db9818fc-ea55-4097-82d1-ed5c6c77105b",
   "metadata": {},
   "source": [
    "#### !!!! Difficult to make solid conclusions, as 33 % are 'Other Causes'\n",
    "* But 'Family Problems' & 'Other Prolonged Illness' caused 36.3 % of male suicides\n",
    "* Looking for yearly trends in these two causes"
   ]
  },
  {
   "cell_type": "code",
   "execution_count": 164,
   "id": "fbda5f77-5aa2-4af1-b6ad-cf587874f979",
   "metadata": {},
   "outputs": [
    {
     "data": {
      "text/plain": [
       "[2001, 2002, 2003, 2004, 2005, 2006, 2007, 2008, 2009, 2010, 2011, 2012]"
      ]
     },
     "execution_count": 164,
     "metadata": {},
     "output_type": "execute_result"
    }
   ],
   "source": [
    "years"
   ]
  },
  {
   "cell_type": "markdown",
   "id": "e037d5ac-0a4b-4d08-810d-089b2eec5d41",
   "metadata": {},
   "source": [
    "* -------------'Family Problems'"
   ]
  },
  {
   "cell_type": "code",
   "execution_count": 165,
   "id": "1f6e0d0d-ecb3-45a5-8967-7cc3dac4562c",
   "metadata": {},
   "outputs": [],
   "source": [
    "t=[]\n",
    "for i in years:\n",
    "    t.append(state_and_UT_data[(state_and_UT_data['Gender']=='Male')&(state_and_UT_data['Type_code']=='Causes')&(state_and_UT_data['Type']=='Family Problems')&(state_and_UT_data['Year']==i)].Total.sum())"
   ]
  },
  {
   "cell_type": "code",
   "execution_count": 166,
   "id": "68ec4ee9-8946-492c-a614-e7e655ab6926",
   "metadata": {},
   "outputs": [
    {
     "data": {
      "text/plain": [
       "[13899.0,\n",
       " 14752.0,\n",
       " 15778.0,\n",
       " 15324.0,\n",
       " 15357.0,\n",
       " 18672.0,\n",
       " 18336.0,\n",
       " 18502.0,\n",
       " 18441.0,\n",
       " 19828.0,\n",
       " 20345.0,\n",
       " 19537.0]"
      ]
     },
     "execution_count": 166,
     "metadata": {},
     "output_type": "execute_result"
    }
   ],
   "source": [
    "t"
   ]
  },
  {
   "cell_type": "code",
   "execution_count": 167,
   "id": "bdeb3950-8b80-41c6-bfdd-0aa20eae4a49",
   "metadata": {},
   "outputs": [
    {
     "data": {
      "text/plain": [
       "Text(0, 0.5, 'Number of suicides')"
      ]
     },
     "execution_count": 167,
     "metadata": {},
     "output_type": "execute_result"
    },
    {
     "data": {
      "image/png": "[encoded data removed]",
      "text/plain": [
       "<Figure size 432x288 with 1 Axes>"
      ]
     },
     "metadata": {
      "needs_background": "light"
     },
     "output_type": "display_data"
    }
   ],
   "source": [
    "plt.bar(years,t)\n",
    "plt.xlabel('Y ears')\n",
    "plt.ylabel('Number of suicides')"
   ]
  },
  {
   "cell_type": "markdown",
   "id": "319cb88e-9427-454b-956f-29be59e5b7b7",
   "metadata": {},
   "source": [
    "* Male suicides due to 'Family Problems' is increasing year on year"
   ]
  },
  {
   "cell_type": "markdown",
   "id": "ca4b8bbe-ca85-49fe-bfc9-726885c0c695",
   "metadata": {},
   "source": [
    "* It'scontribution in per 1,00,000 suicides as a part of total population in 2001 VS 2011"
   ]
  },
  {
   "cell_type": "code",
   "execution_count": 168,
   "id": "5655faa7-2f1a-43b0-8431-7936848fabc7",
   "metadata": {},
   "outputs": [
    {
     "data": {
      "text/plain": [
       "1.3510736086404072"
      ]
     },
     "execution_count": 168,
     "metadata": {},
     "output_type": "execute_result"
    }
   ],
   "source": [
    "# 2001\n",
    "(13899.0/1028737436)*100000"
   ]
  },
  {
   "cell_type": "code",
   "execution_count": 169,
   "id": "f1ecc234-18de-44e1-a06d-f12900eb3f13",
   "metadata": {},
   "outputs": [
    {
     "data": {
      "text/plain": [
       "1.6802177293276301"
      ]
     },
     "execution_count": 169,
     "metadata": {},
     "output_type": "execute_result"
    }
   ],
   "source": [
    "# 2011\n",
    "(20345.0/1210854977)*100000"
   ]
  },
  {
   "cell_type": "code",
   "execution_count": 170,
   "id": "05b1eb59-dd09-44f0-a30a-a12b96de6fa5",
   "metadata": {},
   "outputs": [
    {
     "data": {
      "text/plain": [
       "24.444444444444432"
      ]
     },
     "execution_count": 170,
     "metadata": {},
     "output_type": "execute_result"
    }
   ],
   "source": [
    "((1.68-1.35)/1.35)*100"
   ]
  },
  {
   "cell_type": "code",
   "execution_count": 330,
   "id": "d5d046ea-36c4-4431-a5bc-6369db79190e",
   "metadata": {},
   "outputs": [
    {
     "data": {
      "text/plain": [
       "['ANDHRA PRADESH',\n",
       " 'ARUNACHAL PRADESH',\n",
       " 'ASSAM',\n",
       " 'BIHAR',\n",
       " 'CHHATTISGARH',\n",
       " 'GOA',\n",
       " 'GUJARAT',\n",
       " 'HARYANA',\n",
       " 'HIMACHAL PRADESH',\n",
       " 'JAMMU & KASHMIR',\n",
       " 'JHARKHAND',\n",
       " 'KARNATAKA',\n",
       " 'KERALA',\n",
       " 'MADHYA PRADESH',\n",
       " 'MAHARASHTRA',\n",
       " 'MANIPUR',\n",
       " 'MEGHALAYA',\n",
       " 'MIZORAM',\n",
       " 'NAGALAND',\n",
       " 'ODISHA',\n",
       " 'PUNJAB',\n",
       " 'RAJASTHAN',\n",
       " 'SIKKIM',\n",
       " 'TAMIL NADU',\n",
       " 'TRIPURA',\n",
       " 'UTTAR PRADESH',\n",
       " 'UTTARAKHAND',\n",
       " 'WEST BENGAL',\n",
       " 'TELANGANA',\n",
       " 'A & N ISLANDS',\n",
       " 'CHANDIGARH',\n",
       " 'D & N HAVELI',\n",
       " 'DAMAN & DIU',\n",
       " 'DELHI (UT)',\n",
       " 'LAKSHADWEEP',\n",
       " 'PUDUCHERRY']"
      ]
     },
     "execution_count": 330,
     "metadata": {},
     "output_type": "execute_result"
    }
   ],
   "source": [
    "state_and_UT_list"
   ]
  },
  {
   "cell_type": "code",
   "execution_count": 337,
   "id": "c0e63295-aab3-41a0-a8c0-1c57c0bb2c0a",
   "metadata": {},
   "outputs": [
    {
     "data": {
      "text/plain": [
       "[['ANDHRA PRADESH', 10041.5],\n",
       " ['ARUNACHAL PRADESH', 56.0],\n",
       " ['ASSAM', 2911.0],\n",
       " ['BIHAR', 996.0],\n",
       " ['CHHATTISGARH', 4886.0],\n",
       " ['GOA', 274.0],\n",
       " ['GUJARAT', 6634.0],\n",
       " ['HARYANA', 3430.0],\n",
       " ['HIMACHAL PRADESH', 644.0],\n",
       " ['JAMMU & KASHMIR', 180.0],\n",
       " ['JHARKHAND', 614.0],\n",
       " ['KARNATAKA', 15272.0],\n",
       " ['KERALA', 26558.0],\n",
       " ['MADHYA PRADESH', 9881.0],\n",
       " ['MAHARASHTRA', 39208.0],\n",
       " ['MANIPUR', 4.0],\n",
       " ['MEGHALAYA', 118.0],\n",
       " ['MIZORAM', 30.0],\n",
       " ['NAGALAND', 18.0],\n",
       " ['ODISHA', 6777.0],\n",
       " ['PUNJAB', 1006.0],\n",
       " ['RAJASTHAN', 6844.0],\n",
       " ['SIKKIM', 142.0],\n",
       " ['TAMIL NADU', 29761.0],\n",
       " ['TRIPURA', 1586.0],\n",
       " ['UTTAR PRADESH', 5363.0],\n",
       " ['UTTARAKHAND', 453.0],\n",
       " ['WEST BENGAL', 20424.0],\n",
       " ['TELANGANA', 10041.5],\n",
       " ['A & N ISLANDS', 51.0],\n",
       " ['CHANDIGARH', 161.0],\n",
       " ['D & N HAVELI', 83.0],\n",
       " ['DAMAN & DIU', 9.0],\n",
       " ['DELHI (UT)', 2463.0],\n",
       " ['LAKSHADWEEP', 0.0],\n",
       " ['PUDUCHERRY', 1851.0]]"
      ]
     },
     "execution_count": 337,
     "metadata": {},
     "output_type": "execute_result"
    }
   ],
   "source": [
    "t =[]\n",
    "for i in state_and_UT_list:\n",
    "    k = state_and_UT_data[(state_and_UT_data['Type_code']=='Causes')&(state_and_UT_data['Type']=='Family Problems')&(state_and_UT_data['Gender']=='Male')&(state_and_UT_data['State']==i)].Total.sum()\n",
    "    t.append([i,k])    \n",
    "t"
   ]
  },
  {
   "cell_type": "code",
   "execution_count": 338,
   "id": "fda823ae-9ee0-4c39-a385-9a228b01686f",
   "metadata": {},
   "outputs": [
    {
     "data": {
      "text/plain": [
       "208771.0"
      ]
     },
     "execution_count": 338,
     "metadata": {},
     "output_type": "execute_result"
    }
   ],
   "source": [
    "sum = 0\n",
    "for i in t:\n",
    "    sum = sum + i[1]\n",
    "sum"
   ]
  },
  {
   "cell_type": "code",
   "execution_count": 339,
   "id": "d7a692c6-ab3d-4b3c-a285-c503778b86a3",
   "metadata": {},
   "outputs": [
    {
     "data": {
      "text/plain": [
       "36"
      ]
     },
     "execution_count": 339,
     "metadata": {},
     "output_type": "execute_result"
    }
   ],
   "source": [
    "len(t)"
   ]
  },
  {
   "cell_type": "code",
   "execution_count": 340,
   "id": "7cc08c73-c5c5-4796-ab37-c8608741ea86",
   "metadata": {},
   "outputs": [
    {
     "data": {
      "text/plain": [
       "[['ANDHRA PRADESH', 4.81],\n",
       " ['ARUNACHAL PRADESH', 0.03],\n",
       " ['ASSAM', 1.39],\n",
       " ['BIHAR', 0.48],\n",
       " ['CHHATTISGARH', 2.34],\n",
       " ['GOA', 0.13],\n",
       " ['GUJARAT', 3.18],\n",
       " ['HARYANA', 1.64],\n",
       " ['HIMACHAL PRADESH', 0.31],\n",
       " ['JAMMU & KASHMIR', 0.09],\n",
       " ['JHARKHAND', 0.29],\n",
       " ['KARNATAKA', 7.32],\n",
       " ['KERALA', 12.72],\n",
       " ['MADHYA PRADESH', 4.73],\n",
       " ['MAHARASHTRA', 18.78],\n",
       " ['MANIPUR', 0.0],\n",
       " ['MEGHALAYA', 0.06],\n",
       " ['MIZORAM', 0.01],\n",
       " ['NAGALAND', 0.01],\n",
       " ['ODISHA', 3.25],\n",
       " ['PUNJAB', 0.48],\n",
       " ['RAJASTHAN', 3.28],\n",
       " ['SIKKIM', 0.07],\n",
       " ['TAMIL NADU', 14.26],\n",
       " ['TRIPURA', 0.76],\n",
       " ['UTTAR PRADESH', 2.57],\n",
       " ['UTTARAKHAND', 0.22],\n",
       " ['WEST BENGAL', 9.78],\n",
       " ['TELANGANA', 4.81],\n",
       " ['A & N ISLANDS', 0.02],\n",
       " ['CHANDIGARH', 0.08],\n",
       " ['D & N HAVELI', 0.04],\n",
       " ['DAMAN & DIU', 0.0],\n",
       " ['DELHI (UT)', 1.18],\n",
       " ['LAKSHADWEEP', 0.0],\n",
       " ['PUDUCHERRY', 0.89]]"
      ]
     },
     "execution_count": 340,
     "metadata": {},
     "output_type": "execute_result"
    }
   ],
   "source": [
    "for i in range(36):\n",
    "    t[i][1] = round((t[i][1])*100/sum,2)\n",
    "t"
   ]
  },
  {
   "cell_type": "code",
   "execution_count": 343,
   "id": "ffee3de7-0b99-45ec-8a11-3e7f92365604",
   "metadata": {},
   "outputs": [
    {
     "name": "stdout",
     "output_type": "stream",
     "text": [
      "['KARNATAKA', 7.32]\n",
      "['KERALA', 12.72]\n",
      "['MAHARASHTRA', 18.78]\n",
      "['TAMIL NADU', 14.26]\n",
      "['WEST BENGAL', 9.78]\n"
     ]
    }
   ],
   "source": [
    "for i in range(36):\n",
    "    if t[i][1]>5:\n",
    "        print(t[i])"
   ]
  },
  {
   "cell_type": "markdown",
   "id": "6955be90-df42-42de-9363-a1e8475ea133",
   "metadata": {},
   "source": [
    "##### --------these are states for major contributor in 'family problems' related suicides in Males\n"
   ]
  },
  {
   "cell_type": "markdown",
   "id": "209d450b-3688-449c-90ea-003769ec180b",
   "metadata": {},
   "source": [
    "#### !!!! there was a 24% increase in 'Male' suicide ( by 'Family Problems' per 1,00,000 population ) from 2001 to 2011"
   ]
  },
  {
   "cell_type": "markdown",
   "id": "098131a5-1f48-440f-92d4-58afb76f042d",
   "metadata": {},
   "source": [
    "* -------------'Other Prolonged Illness'"
   ]
  },
  {
   "cell_type": "code",
   "execution_count": 171,
   "id": "bc014687-44ef-4b56-a9b9-331a12e3b355",
   "metadata": {},
   "outputs": [],
   "source": [
    "t=[]\n",
    "for i in years:\n",
    "    t.append(state_and_UT_data[(state_and_UT_data['Gender']=='Male')&(state_and_UT_data['Type_code']=='Causes')&(state_and_UT_data['Type']=='Other Prolonged Illness')&(state_and_UT_data['Year']==i)].Total.sum())"
   ]
  },
  {
   "cell_type": "code",
   "execution_count": 172,
   "id": "641468a6-bc02-41aa-bffd-dad8f70767ff",
   "metadata": {},
   "outputs": [
    {
     "data": {
      "text/plain": [
       "[10245.0,\n",
       " 11372.0,\n",
       " 10028.0,\n",
       " 10585.0,\n",
       " 9485.0,\n",
       " 10546.0,\n",
       " 10600.0,\n",
       " 10746.0,\n",
       " 10371.0,\n",
       " 11071.0,\n",
       " 10357.0,\n",
       " 10087.0]"
      ]
     },
     "execution_count": 172,
     "metadata": {},
     "output_type": "execute_result"
    }
   ],
   "source": [
    "t"
   ]
  },
  {
   "cell_type": "code",
   "execution_count": 173,
   "id": "4d74fc9b-4fa0-4ad0-a638-386113381e7c",
   "metadata": {},
   "outputs": [
    {
     "data": {
      "text/plain": [
       "Text(0, 0.5, 'Number of suicides')"
      ]
     },
     "execution_count": 173,
     "metadata": {},
     "output_type": "execute_result"
    },
    {
     "data": {
      "image/png": "[encoded data removed]",
      "text/plain": [
       "<Figure size 432x288 with 1 Axes>"
      ]
     },
     "metadata": {
      "needs_background": "light"
     },
     "output_type": "display_data"
    }
   ],
   "source": [
    "plt.bar(years,t)\n",
    "plt.xlabel('Y ears')\n",
    "plt.ylabel('Number of suicides')"
   ]
  },
  {
   "cell_type": "markdown",
   "id": "090f936c-51fa-4058-82cd-bb1b60591922",
   "metadata": {},
   "source": [
    "* It's going no-where"
   ]
  },
  {
   "cell_type": "markdown",
   "id": "ffdb46c6-bf43-4025-9794-b1254fdb414a",
   "metadata": {},
   "source": [
    "#### 'Male' suicides due to 'Other Prolonged Illness' remained stable year on year"
   ]
  },
  {
   "cell_type": "code",
   "execution_count": 344,
   "id": "9d0066bc-601e-4c7a-977f-930f38d88069",
   "metadata": {},
   "outputs": [
    {
     "data": {
      "text/plain": [
       "['ANDHRA PRADESH',\n",
       " 'ARUNACHAL PRADESH',\n",
       " 'ASSAM',\n",
       " 'BIHAR',\n",
       " 'CHHATTISGARH',\n",
       " 'GOA',\n",
       " 'GUJARAT',\n",
       " 'HARYANA',\n",
       " 'HIMACHAL PRADESH',\n",
       " 'JAMMU & KASHMIR',\n",
       " 'JHARKHAND',\n",
       " 'KARNATAKA',\n",
       " 'KERALA',\n",
       " 'MADHYA PRADESH',\n",
       " 'MAHARASHTRA',\n",
       " 'MANIPUR',\n",
       " 'MEGHALAYA',\n",
       " 'MIZORAM',\n",
       " 'NAGALAND',\n",
       " 'ODISHA',\n",
       " 'PUNJAB',\n",
       " 'RAJASTHAN',\n",
       " 'SIKKIM',\n",
       " 'TAMIL NADU',\n",
       " 'TRIPURA',\n",
       " 'UTTAR PRADESH',\n",
       " 'UTTARAKHAND',\n",
       " 'WEST BENGAL',\n",
       " 'TELANGANA',\n",
       " 'A & N ISLANDS',\n",
       " 'CHANDIGARH',\n",
       " 'D & N HAVELI',\n",
       " 'DAMAN & DIU',\n",
       " 'DELHI (UT)',\n",
       " 'LAKSHADWEEP',\n",
       " 'PUDUCHERRY']"
      ]
     },
     "execution_count": 344,
     "metadata": {},
     "output_type": "execute_result"
    }
   ],
   "source": [
    "state_and_UT_list"
   ]
  },
  {
   "cell_type": "code",
   "execution_count": 345,
   "id": "f2e0545e-4a31-4087-840a-8afdde4cb1ac",
   "metadata": {},
   "outputs": [
    {
     "data": {
      "text/plain": [
       "[['ANDHRA PRADESH', 10397.5],\n",
       " ['ARUNACHAL PRADESH', 26.0],\n",
       " ['ASSAM', 1373.0],\n",
       " ['BIHAR', 277.0],\n",
       " ['CHHATTISGARH', 4422.0],\n",
       " ['GOA', 200.0],\n",
       " ['GUJARAT', 4815.0],\n",
       " ['HARYANA', 1478.0],\n",
       " ['HIMACHAL PRADESH', 254.0],\n",
       " ['JAMMU & KASHMIR', 105.0],\n",
       " ['JHARKHAND', 161.0],\n",
       " ['KARNATAKA', 20034.0],\n",
       " ['KERALA', 10352.0],\n",
       " ['MADHYA PRADESH', 5717.0],\n",
       " ['MAHARASHTRA', 23031.0],\n",
       " ['MANIPUR', 0.0],\n",
       " ['MEGHALAYA', 46.0],\n",
       " ['MIZORAM', 1.0],\n",
       " ['NAGALAND', 4.0],\n",
       " ['ODISHA', 1021.0],\n",
       " ['PUNJAB', 524.0],\n",
       " ['RAJASTHAN', 2264.0],\n",
       " ['SIKKIM', 61.0],\n",
       " ['TAMIL NADU', 19834.0],\n",
       " ['TRIPURA', 265.0],\n",
       " ['UTTAR PRADESH', 2022.0],\n",
       " ['UTTARAKHAND', 119.0],\n",
       " ['WEST BENGAL', 4315.0],\n",
       " ['TELANGANA', 10397.5],\n",
       " ['A & N ISLANDS', 215.0],\n",
       " ['CHANDIGARH', 46.0],\n",
       " ['D & N HAVELI', 39.0],\n",
       " ['DAMAN & DIU', 9.0],\n",
       " ['DELHI (UT)', 641.0],\n",
       " ['LAKSHADWEEP', 2.0],\n",
       " ['PUDUCHERRY', 1025.0]]"
      ]
     },
     "execution_count": 345,
     "metadata": {},
     "output_type": "execute_result"
    }
   ],
   "source": [
    "t =[]\n",
    "for i in state_and_UT_list:\n",
    "    k = state_and_UT_data[(state_and_UT_data['Type_code']=='Causes')&(state_and_UT_data['Type']=='Other Prolonged Illness')&(state_and_UT_data['Gender']=='Male')&(state_and_UT_data['State']==i)].Total.sum()\n",
    "    t.append([i,k])    \n",
    "t"
   ]
  },
  {
   "cell_type": "code",
   "execution_count": 346,
   "id": "0db3d402-3357-48e7-bcdb-3fabe49c1083",
   "metadata": {},
   "outputs": [
    {
     "data": {
      "text/plain": [
       "125493.0"
      ]
     },
     "execution_count": 346,
     "metadata": {},
     "output_type": "execute_result"
    }
   ],
   "source": [
    "sum = 0\n",
    "for i in t:\n",
    "    sum = sum + i[1]\n",
    "sum"
   ]
  },
  {
   "cell_type": "code",
   "execution_count": 347,
   "id": "50f271e4-906f-49b1-9551-7f84adaa3bcd",
   "metadata": {},
   "outputs": [
    {
     "data": {
      "text/plain": [
       "36"
      ]
     },
     "execution_count": 347,
     "metadata": {},
     "output_type": "execute_result"
    }
   ],
   "source": [
    "len(t)"
   ]
  },
  {
   "cell_type": "code",
   "execution_count": 348,
   "id": "4b2ecb11-ff62-4302-b48d-b717902da8e8",
   "metadata": {},
   "outputs": [
    {
     "data": {
      "text/plain": [
       "[['ANDHRA PRADESH', 8.29],\n",
       " ['ARUNACHAL PRADESH', 0.02],\n",
       " ['ASSAM', 1.09],\n",
       " ['BIHAR', 0.22],\n",
       " ['CHHATTISGARH', 3.52],\n",
       " ['GOA', 0.16],\n",
       " ['GUJARAT', 3.84],\n",
       " ['HARYANA', 1.18],\n",
       " ['HIMACHAL PRADESH', 0.2],\n",
       " ['JAMMU & KASHMIR', 0.08],\n",
       " ['JHARKHAND', 0.13],\n",
       " ['KARNATAKA', 15.96],\n",
       " ['KERALA', 8.25],\n",
       " ['MADHYA PRADESH', 4.56],\n",
       " ['MAHARASHTRA', 18.35],\n",
       " ['MANIPUR', 0.0],\n",
       " ['MEGHALAYA', 0.04],\n",
       " ['MIZORAM', 0.0],\n",
       " ['NAGALAND', 0.0],\n",
       " ['ODISHA', 0.81],\n",
       " ['PUNJAB', 0.42],\n",
       " ['RAJASTHAN', 1.8],\n",
       " ['SIKKIM', 0.05],\n",
       " ['TAMIL NADU', 15.8],\n",
       " ['TRIPURA', 0.21],\n",
       " ['UTTAR PRADESH', 1.61],\n",
       " ['UTTARAKHAND', 0.09],\n",
       " ['WEST BENGAL', 3.44],\n",
       " ['TELANGANA', 8.29],\n",
       " ['A & N ISLANDS', 0.17],\n",
       " ['CHANDIGARH', 0.04],\n",
       " ['D & N HAVELI', 0.03],\n",
       " ['DAMAN & DIU', 0.01],\n",
       " ['DELHI (UT)', 0.51],\n",
       " ['LAKSHADWEEP', 0.0],\n",
       " ['PUDUCHERRY', 0.82]]"
      ]
     },
     "execution_count": 348,
     "metadata": {},
     "output_type": "execute_result"
    }
   ],
   "source": [
    "for i in range(36):\n",
    "    t[i][1] = round((t[i][1])*100/sum,2)\n",
    "t"
   ]
  },
  {
   "cell_type": "code",
   "execution_count": 349,
   "id": "247b7a5f-6232-44a8-8680-82c22e68e13e",
   "metadata": {},
   "outputs": [
    {
     "name": "stdout",
     "output_type": "stream",
     "text": [
      "['ANDHRA PRADESH', 8.29]\n",
      "['KARNATAKA', 15.96]\n",
      "['KERALA', 8.25]\n",
      "['MAHARASHTRA', 18.35]\n",
      "['TAMIL NADU', 15.8]\n",
      "['TELANGANA', 8.29]\n"
     ]
    }
   ],
   "source": [
    "for i in range(36):\n",
    "    if t[i][1]>5:\n",
    "        print(t[i])"
   ]
  },
  {
   "cell_type": "markdown",
   "id": "d65680cc-afd9-4d47-be83-328797aab72d",
   "metadata": {},
   "source": [
    "##### --------these are states for major contributor in 'Other Prolonged Illness' related suicides in Males\n",
    "* A research can be held, to know cause of such prolonged illness in these states"
   ]
  },
  {
   "cell_type": "markdown",
   "id": "edad4d7c-68b5-48f0-8560-ddc959677cc0",
   "metadata": {},
   "source": [
    "#### !!!! so, in case of Male 'Suicides' , 'Family Problems' contributed 22.61 % of total suicides from (2001-2012) AND this problem is increasing at alarming rate.\n",
    "#### !!!! also  'Other Prolonged Illness' remains 2nd known major cause contributing 13.59 % of total suicides & this problem is neither increasing nor decreasing."
   ]
  },
  {
   "cell_type": "markdown",
   "id": "402a1e3c-e292-4ec5-a5ee-55fe18da86bc",
   "metadata": {},
   "source": [
    "#### Type_codes == 'Causes' , 'Female'"
   ]
  },
  {
   "cell_type": "code",
   "execution_count": 174,
   "id": "8ed985b2-4437-4d67-bc9d-6c6214e8a92e",
   "metadata": {},
   "outputs": [
    {
     "data": {
      "text/html": [
       "<div>\n",
       "<style scoped>\n",
       "    .dataframe tbody tr th:only-of-type {\n",
       "        vertical-align: middle;\n",
       "    }\n",
       "\n",
       "    .dataframe tbody tr th {\n",
       "        vertical-align: top;\n",
       "    }\n",
       "\n",
       "    .dataframe thead th {\n",
       "        text-align: right;\n",
       "    }\n",
       "</style>\n",
       "<table border=\"1\" class=\"dataframe\">\n",
       "  <thead>\n",
       "    <tr style=\"text-align: right;\">\n",
       "      <th></th>\n",
       "      <th>State</th>\n",
       "      <th>Year</th>\n",
       "      <th>Type_code</th>\n",
       "      <th>Type</th>\n",
       "      <th>Gender</th>\n",
       "      <th>Age_group</th>\n",
       "      <th>Total</th>\n",
       "    </tr>\n",
       "  </thead>\n",
       "  <tbody>\n",
       "    <tr>\n",
       "      <th>4993</th>\n",
       "      <td>ANDHRA PRADESH</td>\n",
       "      <td>2001</td>\n",
       "      <td>Causes</td>\n",
       "      <td>Death of Dear Person</td>\n",
       "      <td>Male</td>\n",
       "      <td>0-14</td>\n",
       "      <td>0.0</td>\n",
       "    </tr>\n",
       "    <tr>\n",
       "      <th>4994</th>\n",
       "      <td>ANDHRA PRADESH</td>\n",
       "      <td>2001</td>\n",
       "      <td>Causes</td>\n",
       "      <td>Fall in Social Reputation</td>\n",
       "      <td>Female</td>\n",
       "      <td>60+</td>\n",
       "      <td>0.5</td>\n",
       "    </tr>\n",
       "    <tr>\n",
       "      <th>4995</th>\n",
       "      <td>ANDHRA PRADESH</td>\n",
       "      <td>2001</td>\n",
       "      <td>Causes</td>\n",
       "      <td>Insanity/Mental Illness</td>\n",
       "      <td>Female</td>\n",
       "      <td>15-29</td>\n",
       "      <td>56.0</td>\n",
       "    </tr>\n",
       "    <tr>\n",
       "      <th>4996</th>\n",
       "      <td>ANDHRA PRADESH</td>\n",
       "      <td>2001</td>\n",
       "      <td>Causes</td>\n",
       "      <td>Other Causes</td>\n",
       "      <td>Male</td>\n",
       "      <td>30-44</td>\n",
       "      <td>146.5</td>\n",
       "    </tr>\n",
       "    <tr>\n",
       "      <th>4997</th>\n",
       "      <td>ANDHRA PRADESH</td>\n",
       "      <td>2001</td>\n",
       "      <td>Education_Status</td>\n",
       "      <td>Diploma</td>\n",
       "      <td>Male</td>\n",
       "      <td>0-100+</td>\n",
       "      <td>37.5</td>\n",
       "    </tr>\n",
       "  </tbody>\n",
       "</table>\n",
       "</div>"
      ],
      "text/plain": [
       "               State  Year         Type_code                       Type  \\\n",
       "4993  ANDHRA PRADESH  2001            Causes       Death of Dear Person   \n",
       "4994  ANDHRA PRADESH  2001            Causes  Fall in Social Reputation   \n",
       "4995  ANDHRA PRADESH  2001            Causes    Insanity/Mental Illness   \n",
       "4996  ANDHRA PRADESH  2001            Causes               Other Causes   \n",
       "4997  ANDHRA PRADESH  2001  Education_Status                    Diploma   \n",
       "\n",
       "      Gender Age_group  Total  \n",
       "4993    Male      0-14    0.0  \n",
       "4994  Female       60+    0.5  \n",
       "4995  Female     15-29   56.0  \n",
       "4996    Male     30-44  146.5  \n",
       "4997    Male    0-100+   37.5  "
      ]
     },
     "execution_count": 174,
     "metadata": {},
     "output_type": "execute_result"
    }
   ],
   "source": [
    "state_and_UT_data.head()"
   ]
  },
  {
   "cell_type": "code",
   "execution_count": 175,
   "id": "68ad051c-f1a1-4f43-aba9-b60e8cb71e6e",
   "metadata": {},
   "outputs": [
    {
     "data": {
      "text/plain": [
       "25"
      ]
     },
     "execution_count": 175,
     "metadata": {},
     "output_type": "execute_result"
    }
   ],
   "source": [
    "t = state_and_UT_data[state_and_UT_data['Type_code']=='Causes'].Type.unique()\n",
    "len(t)"
   ]
  },
  {
   "cell_type": "code",
   "execution_count": 176,
   "id": "6cb6900c-441e-4918-be77-5180e34005bc",
   "metadata": {},
   "outputs": [],
   "source": [
    "o = []\n",
    "for i in t:\n",
    "    o.append(state_and_UT_data[(state_and_UT_data['Gender']=='Female')&(state_and_UT_data['Type_code']=='Causes')&(state_and_UT_data['Type']==i)].Total.sum())"
   ]
  },
  {
   "cell_type": "code",
   "execution_count": 177,
   "id": "8ddda09e-5c14-4c75-8c5b-910dd3bc96f1",
   "metadata": {},
   "outputs": [
    {
     "data": {
      "text/plain": [
       "25"
      ]
     },
     "execution_count": 177,
     "metadata": {},
     "output_type": "execute_result"
    }
   ],
   "source": [
    "len(o)"
   ]
  },
  {
   "cell_type": "code",
   "execution_count": 178,
   "id": "da1810b6-f7d9-4beb-9032-d668ba1abedd",
   "metadata": {},
   "outputs": [
    {
     "data": {
      "text/plain": [
       "[4707.0,\n",
       " 4697.0,\n",
       " 33352.0,\n",
       " 148134.0,\n",
       " 2892.0,\n",
       " 6067.0,\n",
       " 69072.0,\n",
       " 2284.0,\n",
       " 4601.0,\n",
       " 8093.0,\n",
       " 3748.0,\n",
       " 2391.0,\n",
       " 2878.0,\n",
       " 12054.0,\n",
       " 1596.0,\n",
       " 4235.0,\n",
       " 1205.0,\n",
       " 133181.0,\n",
       " 2662.0,\n",
       " 7905.0,\n",
       " 2535.0,\n",
       " 6126.0,\n",
       " 21339.0,\n",
       " 31206.0,\n",
       " 776.0]"
      ]
     },
     "execution_count": 178,
     "metadata": {},
     "output_type": "execute_result"
    }
   ],
   "source": [
    "o"
   ]
  },
  {
   "cell_type": "code",
   "execution_count": 179,
   "id": "6220ce5a-434c-4363-9fdd-3846357139fc",
   "metadata": {},
   "outputs": [
    {
     "data": {
      "text/plain": [
       "<BarContainer object of 25 artists>"
      ]
     },
     "execution_count": 179,
     "metadata": {},
     "output_type": "execute_result"
    },
    {
     "data": {
      "image/png": "[encoded data removed]",
      "text/plain": [
       "<Figure size 432x288 with 1 Axes>"
      ]
     },
     "metadata": {
      "needs_background": "light"
     },
     "output_type": "display_data"
    }
   ],
   "source": [
    "plt.bar(t,o)"
   ]
  },
  {
   "cell_type": "markdown",
   "id": "fdfcfdba-d33b-46d4-849e-7a9d6debdb1f",
   "metadata": {},
   "source": [
    "* Graphs shows, it to have few most contributing cases, and remaining less contribution "
   ]
  },
  {
   "cell_type": "code",
   "execution_count": 180,
   "id": "41cfa4ca-2608-4da4-9cf6-3e58c4f5f4ac",
   "metadata": {},
   "outputs": [
    {
     "data": {
      "text/plain": [
       "517736.0"
      ]
     },
     "execution_count": 180,
     "metadata": {},
     "output_type": "execute_result"
    }
   ],
   "source": [
    "sum = 0\n",
    "for i in o:\n",
    "    sum = sum+i\n",
    "sum"
   ]
  },
  {
   "cell_type": "code",
   "execution_count": 181,
   "id": "d713c754-1bbe-45a8-880f-15d388dd9de4",
   "metadata": {},
   "outputs": [
    {
     "data": {
      "text/plain": [
       "[['Death of Dear Person', 0.91],\n",
       " ['Fall in Social Reputation', 0.91],\n",
       " ['Insanity/Mental Illness', 6.44],\n",
       " ['Other Causes', 28.61],\n",
       " ['Illness (Aids/STD)', 0.56],\n",
       " ['Impotency', 1.17],\n",
       " ['Other Prolonged Illness', 13.34],\n",
       " ['Paralysis', 0.44],\n",
       " ['Property Dispute', 0.89],\n",
       " ['Suspected/Illicit Relation', 1.56],\n",
       " ['Unemployment', 0.72],\n",
       " ['Illegitimate Pregnancy', 0.46],\n",
       " ['Cancer', 0.56],\n",
       " ['Failure in Examination', 2.33],\n",
       " ['Professional/Career Problem', 0.31],\n",
       " ['Bankruptcy', 0.82],\n",
       " ['Drug Abuse/Addiction', 0.23],\n",
       " ['Family Problems', 25.72],\n",
       " ['Physical Abuse (Rape/Incest Etc.)', 0.51],\n",
       " ['Poverty', 1.53],\n",
       " ['Divorce', 0.49],\n",
       " ['Cancellation/Non-Settlement of Marriage', 1.18],\n",
       " ['Love Affairs', 4.12],\n",
       " ['Dowry Dispute', 6.03],\n",
       " ['Ideological Causes/Hero Worshipping', 0.15]]"
      ]
     },
     "execution_count": 181,
     "metadata": {},
     "output_type": "execute_result"
    }
   ],
   "source": [
    "p=[]\n",
    "for i in range(25):\n",
    "    p.append([t[i],round((o[i]*100/sum),2)])\n",
    "p"
   ]
  },
  {
   "cell_type": "code",
   "execution_count": 182,
   "id": "b447c60f-fe41-40ed-a218-4ee5802bac76",
   "metadata": {},
   "outputs": [
    {
     "name": "stdout",
     "output_type": "stream",
     "text": [
      "['Insanity/Mental Illness', 6.44]\n",
      "['Other Causes', 28.61]\n",
      "['Other Prolonged Illness', 13.34]\n",
      "['Family Problems', 25.72]\n",
      "['Dowry Dispute', 6.03]\n"
     ]
    }
   ],
   "source": [
    "# checking out causes contribution for 'Female' suicides\n",
    "for i in range(25):\n",
    "    if p[i][1]>5:\n",
    "        print(p[i])"
   ]
  },
  {
   "cell_type": "markdown",
   "id": "6537d2d9-aec4-46f1-8825-b56adfa6f543",
   "metadata": {},
   "source": [
    "* 'Other Causes', 28.61 %\n",
    "* 'Family Problems', 25.72 %\n",
    "* 'Other Prolonged Illness', 13.34%"
   ]
  },
  {
   "cell_type": "markdown",
   "id": "4c33ab2c-08fa-4cbb-b34c-7126ae310a9d",
   "metadata": {},
   "source": [
    "#### !!!! Difficult to make solid conclusions, as 28.61 % are 'Other Causes'\n",
    "* But 'Family Problems' & 'Other Prolonged Illness' caused 39.06 % of male suicides\n",
    "* Looking for yearly trends in these two causes"
   ]
  },
  {
   "cell_type": "code",
   "execution_count": 183,
   "id": "d261308b-bc17-487d-8ac7-9033cb79b3f1",
   "metadata": {},
   "outputs": [
    {
     "data": {
      "text/plain": [
       "[2001, 2002, 2003, 2004, 2005, 2006, 2007, 2008, 2009, 2010, 2011, 2012]"
      ]
     },
     "execution_count": 183,
     "metadata": {},
     "output_type": "execute_result"
    }
   ],
   "source": [
    "years"
   ]
  },
  {
   "cell_type": "markdown",
   "id": "1f651a1f-a9ca-4871-a10e-c2f209e38e3b",
   "metadata": {},
   "source": [
    "* -------------'Family Problems'"
   ]
  },
  {
   "cell_type": "code",
   "execution_count": 184,
   "id": "b71f09a2-d8c4-421b-acfa-a4e418febdc9",
   "metadata": {},
   "outputs": [],
   "source": [
    "t=[]\n",
    "for i in years:\n",
    "    t.append(state_and_UT_data[(state_and_UT_data['Gender']=='Female')&(state_and_UT_data['Type_code']=='Causes')&(state_and_UT_data['Type']=='Family Problems')&(state_and_UT_data['Year']==i)].Total.sum())"
   ]
  },
  {
   "cell_type": "code",
   "execution_count": 185,
   "id": "402d4fbc-659a-4d81-857d-eba0410a08ad",
   "metadata": {},
   "outputs": [
    {
     "data": {
      "text/plain": [
       "[10263.0,\n",
       " 10333.0,\n",
       " 10530.0,\n",
       " 10207.0,\n",
       " 10084.0,\n",
       " 12099.0,\n",
       " 10902.0,\n",
       " 11275.0,\n",
       " 11641.0,\n",
       " 12028.0,\n",
       " 12564.0,\n",
       " 11255.0]"
      ]
     },
     "execution_count": 185,
     "metadata": {},
     "output_type": "execute_result"
    }
   ],
   "source": [
    "t"
   ]
  },
  {
   "cell_type": "code",
   "execution_count": 186,
   "id": "7bda2113-ba4c-4307-8d99-2855795a700d",
   "metadata": {},
   "outputs": [
    {
     "data": {
      "text/plain": [
       "Text(0, 0.5, 'Number of suicides')"
      ]
     },
     "execution_count": 186,
     "metadata": {},
     "output_type": "execute_result"
    },
    {
     "data": {
      "image/png": "[encoded data removed]",
      "text/plain": [
       "<Figure size 432x288 with 1 Axes>"
      ]
     },
     "metadata": {
      "needs_background": "light"
     },
     "output_type": "display_data"
    }
   ],
   "source": [
    "plt.bar(years,t)\n",
    "plt.xlabel('Y ears')\n",
    "plt.ylabel('Number of suicides')"
   ]
  },
  {
   "cell_type": "markdown",
   "id": "5b5ef17d-a53b-452a-b647-3edcea85bb87",
   "metadata": {},
   "source": [
    "* Female suicides due to 'Family Problems' is increasing year on year"
   ]
  },
  {
   "cell_type": "markdown",
   "id": "e28b3759-b655-43e2-b61a-2d875f4eec47",
   "metadata": {},
   "source": [
    "* It's contribution in per 1,00,00 suicides in 2001 VS 2011"
   ]
  },
  {
   "cell_type": "code",
   "execution_count": 187,
   "id": "5cb82968-29aa-4000-a506-b555d4788589",
   "metadata": {},
   "outputs": [
    {
     "data": {
      "text/plain": [
       "0.9976306529589538"
      ]
     },
     "execution_count": 187,
     "metadata": {},
     "output_type": "execute_result"
    }
   ],
   "source": [
    "# 2001\n",
    "(10263.0/1028737436)*100000"
   ]
  },
  {
   "cell_type": "code",
   "execution_count": 188,
   "id": "e49d442c-fef8-4b85-9c9e-2d280789b8ce",
   "metadata": {},
   "outputs": [
    {
     "data": {
      "text/plain": [
       "1.0376139371478175"
      ]
     },
     "execution_count": 188,
     "metadata": {},
     "output_type": "execute_result"
    }
   ],
   "source": [
    "# 2011\n",
    "(12564.0/1210854977)*100000"
   ]
  },
  {
   "cell_type": "code",
   "execution_count": 189,
   "id": "d793201a-c887-491d-95dd-e9ee8c186de1",
   "metadata": {},
   "outputs": [
    {
     "data": {
      "text/plain": [
       "4.007824345640742"
      ]
     },
     "execution_count": 189,
     "metadata": {},
     "output_type": "execute_result"
    }
   ],
   "source": [
    "((1.0376139371478175-0.9976306529589538)/0.9976306529589538)*100"
   ]
  },
  {
   "cell_type": "markdown",
   "id": "2b93431c-3274-445f-94d6-e462d8b6006d",
   "metadata": {},
   "source": [
    "* 4% increase is not significant"
   ]
  },
  {
   "cell_type": "code",
   "execution_count": 350,
   "id": "5e7c6f97-3e7f-470a-a73f-95652aac09d7",
   "metadata": {},
   "outputs": [
    {
     "data": {
      "text/plain": [
       "['ANDHRA PRADESH',\n",
       " 'ARUNACHAL PRADESH',\n",
       " 'ASSAM',\n",
       " 'BIHAR',\n",
       " 'CHHATTISGARH',\n",
       " 'GOA',\n",
       " 'GUJARAT',\n",
       " 'HARYANA',\n",
       " 'HIMACHAL PRADESH',\n",
       " 'JAMMU & KASHMIR',\n",
       " 'JHARKHAND',\n",
       " 'KARNATAKA',\n",
       " 'KERALA',\n",
       " 'MADHYA PRADESH',\n",
       " 'MAHARASHTRA',\n",
       " 'MANIPUR',\n",
       " 'MEGHALAYA',\n",
       " 'MIZORAM',\n",
       " 'NAGALAND',\n",
       " 'ODISHA',\n",
       " 'PUNJAB',\n",
       " 'RAJASTHAN',\n",
       " 'SIKKIM',\n",
       " 'TAMIL NADU',\n",
       " 'TRIPURA',\n",
       " 'UTTAR PRADESH',\n",
       " 'UTTARAKHAND',\n",
       " 'WEST BENGAL',\n",
       " 'TELANGANA',\n",
       " 'A & N ISLANDS',\n",
       " 'CHANDIGARH',\n",
       " 'D & N HAVELI',\n",
       " 'DAMAN & DIU',\n",
       " 'DELHI (UT)',\n",
       " 'LAKSHADWEEP',\n",
       " 'PUDUCHERRY']"
      ]
     },
     "execution_count": 350,
     "metadata": {},
     "output_type": "execute_result"
    }
   ],
   "source": [
    "state_and_UT_list"
   ]
  },
  {
   "cell_type": "code",
   "execution_count": 357,
   "id": "2e0fb4a2-a8ad-45ea-953f-73866263ad41",
   "metadata": {},
   "outputs": [
    {
     "data": {
      "text/plain": [
       "[['ANDHRA PRADESH', 5306.5],\n",
       " ['ARUNACHAL PRADESH', 40.0],\n",
       " ['ASSAM', 1401.0],\n",
       " ['BIHAR', 828.0],\n",
       " ['CHHATTISGARH', 3180.0],\n",
       " ['GOA', 196.0],\n",
       " ['GUJARAT', 6423.0],\n",
       " ['HARYANA', 1615.0],\n",
       " ['HIMACHAL PRADESH', 500.0],\n",
       " ['JAMMU & KASHMIR', 246.0],\n",
       " ['JHARKHAND', 532.0],\n",
       " ['KARNATAKA', 8770.0],\n",
       " ['KERALA', 9769.0],\n",
       " ['MADHYA PRADESH', 8400.0],\n",
       " ['MAHARASHTRA', 26133.0],\n",
       " ['MANIPUR', 22.0],\n",
       " ['MEGHALAYA', 62.0],\n",
       " ['MIZORAM', 2.0],\n",
       " ['NAGALAND', 8.0],\n",
       " ['ODISHA', 5147.0],\n",
       " ['PUNJAB', 500.0],\n",
       " ['RAJASTHAN', 4586.0],\n",
       " ['SIKKIM', 92.0],\n",
       " ['TAMIL NADU', 19902.0],\n",
       " ['TRIPURA', 1157.0],\n",
       " ['UTTAR PRADESH', 4370.0],\n",
       " ['UTTARAKHAND', 409.0],\n",
       " ['WEST BENGAL', 15461.0],\n",
       " ['TELANGANA', 5306.5],\n",
       " ['A & N ISLANDS', 48.0],\n",
       " ['CHANDIGARH', 142.0],\n",
       " ['D & N HAVELI', 104.0],\n",
       " ['DAMAN & DIU', 7.0],\n",
       " ['DELHI (UT)', 1642.0],\n",
       " ['LAKSHADWEEP', 1.0],\n",
       " ['PUDUCHERRY', 873.0]]"
      ]
     },
     "execution_count": 357,
     "metadata": {},
     "output_type": "execute_result"
    }
   ],
   "source": [
    "t =[]\n",
    "for i in state_and_UT_list:\n",
    "    k = state_and_UT_data[(state_and_UT_data['Type_code']=='Causes')&(state_and_UT_data['Type']=='Family Problems')&(state_and_UT_data['Gender']=='Female')&(state_and_UT_data['State']==i)].Total.sum()\n",
    "    t.append([i,k])     \n",
    "t"
   ]
  },
  {
   "cell_type": "code",
   "execution_count": 358,
   "id": "7e60572f-c8d0-4747-b642-9b8ab675aa8e",
   "metadata": {},
   "outputs": [
    {
     "data": {
      "text/plain": [
       "133181.0"
      ]
     },
     "execution_count": 358,
     "metadata": {},
     "output_type": "execute_result"
    }
   ],
   "source": [
    "sum = 0\n",
    "for i in t:\n",
    "    sum = sum + i[1]\n",
    "sum"
   ]
  },
  {
   "cell_type": "code",
   "execution_count": 359,
   "id": "2b92bc16-e511-4cdf-90b8-b0822c2d96bf",
   "metadata": {},
   "outputs": [
    {
     "data": {
      "text/plain": [
       "[['ANDHRA PRADESH', 3.98],\n",
       " ['ARUNACHAL PRADESH', 0.03],\n",
       " ['ASSAM', 1.05],\n",
       " ['BIHAR', 0.62],\n",
       " ['CHHATTISGARH', 2.39],\n",
       " ['GOA', 0.15],\n",
       " ['GUJARAT', 4.82],\n",
       " ['HARYANA', 1.21],\n",
       " ['HIMACHAL PRADESH', 0.38],\n",
       " ['JAMMU & KASHMIR', 0.18],\n",
       " ['JHARKHAND', 0.4],\n",
       " ['KARNATAKA', 6.59],\n",
       " ['KERALA', 7.34],\n",
       " ['MADHYA PRADESH', 6.31],\n",
       " ['MAHARASHTRA', 19.62],\n",
       " ['MANIPUR', 0.02],\n",
       " ['MEGHALAYA', 0.05],\n",
       " ['MIZORAM', 0.0],\n",
       " ['NAGALAND', 0.01],\n",
       " ['ODISHA', 3.86],\n",
       " ['PUNJAB', 0.38],\n",
       " ['RAJASTHAN', 3.44],\n",
       " ['SIKKIM', 0.07],\n",
       " ['TAMIL NADU', 14.94],\n",
       " ['TRIPURA', 0.87],\n",
       " ['UTTAR PRADESH', 3.28],\n",
       " ['UTTARAKHAND', 0.31],\n",
       " ['WEST BENGAL', 11.61],\n",
       " ['TELANGANA', 3.98],\n",
       " ['A & N ISLANDS', 0.04],\n",
       " ['CHANDIGARH', 0.11],\n",
       " ['D & N HAVELI', 0.08],\n",
       " ['DAMAN & DIU', 0.01],\n",
       " ['DELHI (UT)', 1.23],\n",
       " ['LAKSHADWEEP', 0.0],\n",
       " ['PUDUCHERRY', 0.66]]"
      ]
     },
     "execution_count": 359,
     "metadata": {},
     "output_type": "execute_result"
    }
   ],
   "source": [
    "for i in range(36):\n",
    "    t[i][1] = round((t[i][1])*100/sum,2)\n",
    "t"
   ]
  },
  {
   "cell_type": "code",
   "execution_count": 360,
   "id": "6fdea406-e070-4a42-b6ba-f6944ba6973f",
   "metadata": {},
   "outputs": [
    {
     "name": "stdout",
     "output_type": "stream",
     "text": [
      "['KARNATAKA', 6.59]\n",
      "['KERALA', 7.34]\n",
      "['MADHYA PRADESH', 6.31]\n",
      "['MAHARASHTRA', 19.62]\n",
      "['TAMIL NADU', 14.94]\n",
      "['WEST BENGAL', 11.61]\n"
     ]
    }
   ],
   "source": [
    "for i in range(36):\n",
    "    if t[i][1]>5:\n",
    "        print(t[i])"
   ]
  },
  {
   "cell_type": "markdown",
   "id": "a3f0d91f-34d1-424e-93fb-467207455ab5",
   "metadata": {},
   "source": [
    "* These are states where we have major 'Female' suicides due to Family problems"
   ]
  },
  {
   "cell_type": "markdown",
   "id": "176ce5f0-6976-4eef-8aca-f4c9cdf8d250",
   "metadata": {},
   "source": [
    "* -------------'Other Prolonged Illness'"
   ]
  },
  {
   "cell_type": "code",
   "execution_count": 190,
   "id": "b3d494cf-d8c6-43f8-ba23-533a0e75c926",
   "metadata": {},
   "outputs": [],
   "source": [
    "t=[]\n",
    "for i in years:\n",
    "    t.append(state_and_UT_data[(state_and_UT_data['Gender']=='Female')&(state_and_UT_data['Type_code']=='Causes')&(state_and_UT_data['Type']=='Other Prolonged Illness')&(state_and_UT_data['Year']==i)].Total.sum())"
   ]
  },
  {
   "cell_type": "code",
   "execution_count": 191,
   "id": "f018fe8d-9006-424c-9b8e-fe760fa18720",
   "metadata": {},
   "outputs": [
    {
     "data": {
      "text/plain": [
       "[5702.0,\n",
       " 5924.0,\n",
       " 5608.0,\n",
       " 5756.0,\n",
       " 5335.0,\n",
       " 5951.0,\n",
       " 5852.0,\n",
       " 5905.0,\n",
       " 5657.0,\n",
       " 5973.0,\n",
       " 5797.0,\n",
       " 5612.0]"
      ]
     },
     "execution_count": 191,
     "metadata": {},
     "output_type": "execute_result"
    }
   ],
   "source": [
    "t"
   ]
  },
  {
   "cell_type": "code",
   "execution_count": 192,
   "id": "67d1327a-1c4e-4c77-8904-758a3bafd032",
   "metadata": {},
   "outputs": [
    {
     "data": {
      "text/plain": [
       "Text(0, 0.5, 'Number of suicides')"
      ]
     },
     "execution_count": 192,
     "metadata": {},
     "output_type": "execute_result"
    },
    {
     "data": {
      "image/png": "[encoded data removed]",
      "text/plain": [
       "<Figure size 432x288 with 1 Axes>"
      ]
     },
     "metadata": {
      "needs_background": "light"
     },
     "output_type": "display_data"
    }
   ],
   "source": [
    "plt.bar(years,t)\n",
    "plt.xlabel('Y ears')\n",
    "plt.ylabel('Number of suicides')"
   ]
  },
  {
   "cell_type": "markdown",
   "id": "b054402c-8067-41a5-b6a7-7bafe2caf038",
   "metadata": {},
   "source": [
    "#### 'Female' suicides due to 'Other Prolonged Illness' remained stable year on year"
   ]
  },
  {
   "cell_type": "code",
   "execution_count": 361,
   "id": "86a32bd5-85fa-43c2-a6ee-c858ee903843",
   "metadata": {},
   "outputs": [
    {
     "data": {
      "text/plain": [
       "['ANDHRA PRADESH',\n",
       " 'ARUNACHAL PRADESH',\n",
       " 'ASSAM',\n",
       " 'BIHAR',\n",
       " 'CHHATTISGARH',\n",
       " 'GOA',\n",
       " 'GUJARAT',\n",
       " 'HARYANA',\n",
       " 'HIMACHAL PRADESH',\n",
       " 'JAMMU & KASHMIR',\n",
       " 'JHARKHAND',\n",
       " 'KARNATAKA',\n",
       " 'KERALA',\n",
       " 'MADHYA PRADESH',\n",
       " 'MAHARASHTRA',\n",
       " 'MANIPUR',\n",
       " 'MEGHALAYA',\n",
       " 'MIZORAM',\n",
       " 'NAGALAND',\n",
       " 'ODISHA',\n",
       " 'PUNJAB',\n",
       " 'RAJASTHAN',\n",
       " 'SIKKIM',\n",
       " 'TAMIL NADU',\n",
       " 'TRIPURA',\n",
       " 'UTTAR PRADESH',\n",
       " 'UTTARAKHAND',\n",
       " 'WEST BENGAL',\n",
       " 'TELANGANA',\n",
       " 'A & N ISLANDS',\n",
       " 'CHANDIGARH',\n",
       " 'D & N HAVELI',\n",
       " 'DAMAN & DIU',\n",
       " 'DELHI (UT)',\n",
       " 'LAKSHADWEEP',\n",
       " 'PUDUCHERRY']"
      ]
     },
     "execution_count": 361,
     "metadata": {},
     "output_type": "execute_result"
    }
   ],
   "source": [
    "state_and_UT_list"
   ]
  },
  {
   "cell_type": "code",
   "execution_count": 362,
   "id": "5d8c4683-4735-41b3-8a1e-0a339ac82cd6",
   "metadata": {},
   "outputs": [
    {
     "data": {
      "text/plain": [
       "[['ANDHRA PRADESH', 6520.5],\n",
       " ['ARUNACHAL PRADESH', 2.0],\n",
       " ['ASSAM', 580.0],\n",
       " ['BIHAR', 128.0],\n",
       " ['CHHATTISGARH', 2154.0],\n",
       " ['GOA', 100.0],\n",
       " ['GUJARAT', 3537.0],\n",
       " ['HARYANA', 447.0],\n",
       " ['HIMACHAL PRADESH', 109.0],\n",
       " ['JAMMU & KASHMIR', 43.0],\n",
       " ['JHARKHAND', 48.0],\n",
       " ['KARNATAKA', 11591.0],\n",
       " ['KERALA', 4288.0],\n",
       " ['MADHYA PRADESH', 3663.0],\n",
       " ['MAHARASHTRA', 10777.0],\n",
       " ['MANIPUR', 0.0],\n",
       " ['MEGHALAYA', 10.0],\n",
       " ['MIZORAM', 0.0],\n",
       " ['NAGALAND', 2.0],\n",
       " ['ODISHA', 663.0],\n",
       " ['PUNJAB', 130.0],\n",
       " ['RAJASTHAN', 1037.0],\n",
       " ['SIKKIM', 23.0],\n",
       " ['TAMIL NADU', 11470.0],\n",
       " ['TRIPURA', 105.0],\n",
       " ['UTTAR PRADESH', 1205.0],\n",
       " ['UTTARAKHAND', 66.0],\n",
       " ['WEST BENGAL', 2730.0],\n",
       " ['TELANGANA', 6520.5],\n",
       " ['A & N ISLANDS', 126.0],\n",
       " ['CHANDIGARH', 24.0],\n",
       " ['D & N HAVELI', 20.0],\n",
       " ['DAMAN & DIU', 1.0],\n",
       " ['DELHI (UT)', 286.0],\n",
       " ['LAKSHADWEEP', 0.0],\n",
       " ['PUDUCHERRY', 666.0]]"
      ]
     },
     "execution_count": 362,
     "metadata": {},
     "output_type": "execute_result"
    }
   ],
   "source": [
    "t =[]\n",
    "for i in state_and_UT_list:\n",
    "    k = state_and_UT_data[(state_and_UT_data['Type_code']=='Causes')&(state_and_UT_data['Type']=='Other Prolonged Illness')&(state_and_UT_data['Gender']=='Female')&(state_and_UT_data['State']==i)].Total.sum()\n",
    "    t.append([i,k])     \n",
    "t"
   ]
  },
  {
   "cell_type": "code",
   "execution_count": 363,
   "id": "f69c2f85-83dc-49f1-8755-36a7c375a7d8",
   "metadata": {},
   "outputs": [
    {
     "data": {
      "text/plain": [
       "69072.0"
      ]
     },
     "execution_count": 363,
     "metadata": {},
     "output_type": "execute_result"
    }
   ],
   "source": [
    "sum = 0\n",
    "for i in t:\n",
    "    sum = sum + i[1]\n",
    "sum"
   ]
  },
  {
   "cell_type": "code",
   "execution_count": 364,
   "id": "60f67ec0-6fe7-48ba-be0c-51664bd533e3",
   "metadata": {},
   "outputs": [
    {
     "data": {
      "text/plain": [
       "[['ANDHRA PRADESH', 9.44],\n",
       " ['ARUNACHAL PRADESH', 0.0],\n",
       " ['ASSAM', 0.84],\n",
       " ['BIHAR', 0.19],\n",
       " ['CHHATTISGARH', 3.12],\n",
       " ['GOA', 0.14],\n",
       " ['GUJARAT', 5.12],\n",
       " ['HARYANA', 0.65],\n",
       " ['HIMACHAL PRADESH', 0.16],\n",
       " ['JAMMU & KASHMIR', 0.06],\n",
       " ['JHARKHAND', 0.07],\n",
       " ['KARNATAKA', 16.78],\n",
       " ['KERALA', 6.21],\n",
       " ['MADHYA PRADESH', 5.3],\n",
       " ['MAHARASHTRA', 15.6],\n",
       " ['MANIPUR', 0.0],\n",
       " ['MEGHALAYA', 0.01],\n",
       " ['MIZORAM', 0.0],\n",
       " ['NAGALAND', 0.0],\n",
       " ['ODISHA', 0.96],\n",
       " ['PUNJAB', 0.19],\n",
       " ['RAJASTHAN', 1.5],\n",
       " ['SIKKIM', 0.03],\n",
       " ['TAMIL NADU', 16.61],\n",
       " ['TRIPURA', 0.15],\n",
       " ['UTTAR PRADESH', 1.74],\n",
       " ['UTTARAKHAND', 0.1],\n",
       " ['WEST BENGAL', 3.95],\n",
       " ['TELANGANA', 9.44],\n",
       " ['A & N ISLANDS', 0.18],\n",
       " ['CHANDIGARH', 0.03],\n",
       " ['D & N HAVELI', 0.03],\n",
       " ['DAMAN & DIU', 0.0],\n",
       " ['DELHI (UT)', 0.41],\n",
       " ['LAKSHADWEEP', 0.0],\n",
       " ['PUDUCHERRY', 0.96]]"
      ]
     },
     "execution_count": 364,
     "metadata": {},
     "output_type": "execute_result"
    }
   ],
   "source": [
    "for i in range(36):\n",
    "    t[i][1] = round((t[i][1])*100/sum,2)\n",
    "t"
   ]
  },
  {
   "cell_type": "code",
   "execution_count": 365,
   "id": "fd5cc05a-b2d4-4ea1-8374-9afbe8db90f3",
   "metadata": {},
   "outputs": [
    {
     "name": "stdout",
     "output_type": "stream",
     "text": [
      "['ANDHRA PRADESH', 9.44]\n",
      "['GUJARAT', 5.12]\n",
      "['KARNATAKA', 16.78]\n",
      "['KERALA', 6.21]\n",
      "['MADHYA PRADESH', 5.3]\n",
      "['MAHARASHTRA', 15.6]\n",
      "['TAMIL NADU', 16.61]\n",
      "['TELANGANA', 9.44]\n"
     ]
    }
   ],
   "source": [
    "for i in range(36):\n",
    "    if t[i][1]>5:\n",
    "        print(t[i])"
   ]
  },
  {
   "cell_type": "markdown",
   "id": "73a3ddf5-8f1d-4e8f-b7c2-11214106eef4",
   "metadata": {},
   "source": [
    "* These are states where we have major 'Female' suicides due to 'Other prolonged illness'"
   ]
  },
  {
   "cell_type": "markdown",
   "id": "5fc6a99e-94a9-419c-88d0-572b0cc00c81",
   "metadata": {},
   "source": [
    "#### Overall for both Male-Female  'Family Problems' & 'Other Prolonged Illness' are two known major causes of SUicides\n",
    "* This indicates towards, need of serious family welfare management programes by government.\n",
    "* Also awareness about such 'Prolonged Illness' should be done before hand, to prevent people getting such desieses."
   ]
  },
  {
   "cell_type": "markdown",
   "id": "03099f59-1c4d-4d37-955e-5a88337d2447",
   "metadata": {},
   "source": [
    "* Have to check weather this data is varying state-wise or not."
   ]
  },
  {
   "cell_type": "code",
   "execution_count": 196,
   "id": "faa793fc-ba6a-470a-838a-0d040ce24321",
   "metadata": {},
   "outputs": [
    {
     "data": {
      "text/plain": [
       "array(['Causes', 'Means_adopted', 'Professional_Profile',\n",
       "       'Education_Status', 'Social_Status'], dtype=object)"
      ]
     },
     "execution_count": 196,
     "metadata": {},
     "output_type": "execute_result"
    }
   ],
   "source": [
    "f.Type_code.unique()"
   ]
  },
  {
   "cell_type": "markdown",
   "id": "87c8e1bb-f3f9-4e2a-92fc-4d0425720d3a",
   "metadata": {},
   "source": [
    "#### Type_codes == 'Means_adopted' , 'Male'"
   ]
  },
  {
   "cell_type": "markdown",
   "id": "901daa4c-887a-4705-a388-0e07ef36b7b7",
   "metadata": {},
   "source": [
    "*  in total suicides among 'Male' which was major  'Means_adopted' ?"
   ]
  },
  {
   "cell_type": "code",
   "execution_count": 197,
   "id": "3fd4af21-4397-4bd5-8ee9-74ece04ccab8",
   "metadata": {},
   "outputs": [
    {
     "data": {
      "text/html": [
       "<div>\n",
       "<style scoped>\n",
       "    .dataframe tbody tr th:only-of-type {\n",
       "        vertical-align: middle;\n",
       "    }\n",
       "\n",
       "    .dataframe tbody tr th {\n",
       "        vertical-align: top;\n",
       "    }\n",
       "\n",
       "    .dataframe thead th {\n",
       "        text-align: right;\n",
       "    }\n",
       "</style>\n",
       "<table border=\"1\" class=\"dataframe\">\n",
       "  <thead>\n",
       "    <tr style=\"text-align: right;\">\n",
       "      <th></th>\n",
       "      <th>State</th>\n",
       "      <th>Year</th>\n",
       "      <th>Type_code</th>\n",
       "      <th>Type</th>\n",
       "      <th>Gender</th>\n",
       "      <th>Age_group</th>\n",
       "      <th>Total</th>\n",
       "    </tr>\n",
       "  </thead>\n",
       "  <tbody>\n",
       "    <tr>\n",
       "      <th>4993</th>\n",
       "      <td>ANDHRA PRADESH</td>\n",
       "      <td>2001</td>\n",
       "      <td>Causes</td>\n",
       "      <td>Death of Dear Person</td>\n",
       "      <td>Male</td>\n",
       "      <td>0-14</td>\n",
       "      <td>0.0</td>\n",
       "    </tr>\n",
       "    <tr>\n",
       "      <th>4994</th>\n",
       "      <td>ANDHRA PRADESH</td>\n",
       "      <td>2001</td>\n",
       "      <td>Causes</td>\n",
       "      <td>Fall in Social Reputation</td>\n",
       "      <td>Female</td>\n",
       "      <td>60+</td>\n",
       "      <td>0.5</td>\n",
       "    </tr>\n",
       "    <tr>\n",
       "      <th>4995</th>\n",
       "      <td>ANDHRA PRADESH</td>\n",
       "      <td>2001</td>\n",
       "      <td>Causes</td>\n",
       "      <td>Insanity/Mental Illness</td>\n",
       "      <td>Female</td>\n",
       "      <td>15-29</td>\n",
       "      <td>56.0</td>\n",
       "    </tr>\n",
       "    <tr>\n",
       "      <th>4996</th>\n",
       "      <td>ANDHRA PRADESH</td>\n",
       "      <td>2001</td>\n",
       "      <td>Causes</td>\n",
       "      <td>Other Causes</td>\n",
       "      <td>Male</td>\n",
       "      <td>30-44</td>\n",
       "      <td>146.5</td>\n",
       "    </tr>\n",
       "    <tr>\n",
       "      <th>4997</th>\n",
       "      <td>ANDHRA PRADESH</td>\n",
       "      <td>2001</td>\n",
       "      <td>Education_Status</td>\n",
       "      <td>Diploma</td>\n",
       "      <td>Male</td>\n",
       "      <td>0-100+</td>\n",
       "      <td>37.5</td>\n",
       "    </tr>\n",
       "  </tbody>\n",
       "</table>\n",
       "</div>"
      ],
      "text/plain": [
       "               State  Year         Type_code                       Type  \\\n",
       "4993  ANDHRA PRADESH  2001            Causes       Death of Dear Person   \n",
       "4994  ANDHRA PRADESH  2001            Causes  Fall in Social Reputation   \n",
       "4995  ANDHRA PRADESH  2001            Causes    Insanity/Mental Illness   \n",
       "4996  ANDHRA PRADESH  2001            Causes               Other Causes   \n",
       "4997  ANDHRA PRADESH  2001  Education_Status                    Diploma   \n",
       "\n",
       "      Gender Age_group  Total  \n",
       "4993    Male      0-14    0.0  \n",
       "4994  Female       60+    0.5  \n",
       "4995  Female     15-29   56.0  \n",
       "4996    Male     30-44  146.5  \n",
       "4997    Male    0-100+   37.5  "
      ]
     },
     "execution_count": 197,
     "metadata": {},
     "output_type": "execute_result"
    }
   ],
   "source": [
    "state_and_UT_data.head()"
   ]
  },
  {
   "cell_type": "code",
   "execution_count": 198,
   "id": "bdcb01cf-dace-45cb-81fb-1e372513b86c",
   "metadata": {},
   "outputs": [
    {
     "data": {
      "text/plain": [
       "16"
      ]
     },
     "execution_count": 198,
     "metadata": {},
     "output_type": "execute_result"
    }
   ],
   "source": [
    "t = state_and_UT_data[state_and_UT_data['Type_code']=='Means_adopted'].Type.unique()\n",
    "len(t)"
   ]
  },
  {
   "cell_type": "code",
   "execution_count": 200,
   "id": "0b6d5d36-6965-4790-a3df-5cf718e7d4c1",
   "metadata": {},
   "outputs": [],
   "source": [
    "o = []\n",
    "for i in t:\n",
    "    o.append(state_and_UT_data[(state_and_UT_data['Gender']=='Male')&(state_and_UT_data['Type_code']=='Means_adopted')&(state_and_UT_data['Type']==i)].Total.sum())"
   ]
  },
  {
   "cell_type": "code",
   "execution_count": 201,
   "id": "099518f7-5c13-4811-b314-83087669c58b",
   "metadata": {},
   "outputs": [
    {
     "data": {
      "text/plain": [
       "16"
      ]
     },
     "execution_count": 201,
     "metadata": {},
     "output_type": "execute_result"
    }
   ],
   "source": [
    "len(o)"
   ]
  },
  {
   "cell_type": "code",
   "execution_count": 202,
   "id": "5de8aa3e-7215-4fa5-9043-e55e5e46930f",
   "metadata": {},
   "outputs": [
    {
     "data": {
      "text/plain": [
       "[180785.0,\n",
       " 4690.0,\n",
       " 312532.0,\n",
       " 5517.0,\n",
       " 5629.0,\n",
       " 35933.0,\n",
       " 147540.0,\n",
       " 43667.0,\n",
       " 6290.0,\n",
       " 1437.0,\n",
       " 14816.0,\n",
       " 58406.0,\n",
       " 8628.0,\n",
       " 3518.0,\n",
       " 96578.0,\n",
       " 5952.0]"
      ]
     },
     "execution_count": 202,
     "metadata": {},
     "output_type": "execute_result"
    }
   ],
   "source": [
    "o"
   ]
  },
  {
   "cell_type": "code",
   "execution_count": 203,
   "id": "c4328300-9104-4f27-9310-fcef8268f174",
   "metadata": {},
   "outputs": [
    {
     "data": {
      "text/plain": [
       "<BarContainer object of 16 artists>"
      ]
     },
     "execution_count": 203,
     "metadata": {},
     "output_type": "execute_result"
    },
    {
     "data": {
      "image/png": "[encoded data removed]",
      "text/plain": [
       "<Figure size 432x288 with 1 Axes>"
      ]
     },
     "metadata": {
      "needs_background": "light"
     },
     "output_type": "display_data"
    }
   ],
   "source": [
    "plt.bar(t,o)"
   ]
  },
  {
   "cell_type": "markdown",
   "id": "29cf639e-feec-4f4d-b3ed-a37853f9240b",
   "metadata": {},
   "source": [
    "* Graphs shows, it to have few most contributing cases, and remaining less contribution "
   ]
  },
  {
   "cell_type": "code",
   "execution_count": 205,
   "id": "86ab7b7c-016f-47b2-b277-86f2ee78b3f5",
   "metadata": {},
   "outputs": [
    {
     "data": {
      "text/plain": [
       "931918.0"
      ]
     },
     "execution_count": 205,
     "metadata": {},
     "output_type": "execute_result"
    }
   ],
   "source": [
    "sum = 0\n",
    "for i in o:\n",
    "    sum = sum+i\n",
    "sum"
   ]
  },
  {
   "cell_type": "code",
   "execution_count": 207,
   "id": "093d6e46-3d15-4c5d-9e75-117284378e06",
   "metadata": {},
   "outputs": [
    {
     "data": {
      "text/plain": [
       "[['By Consuming Insecticides', 19.4],\n",
       " ['By Fire-Arms', 0.5],\n",
       " ['By Hanging', 33.54],\n",
       " ['By Jumping from (Building)', 0.59],\n",
       " ['By Jumping from (Other sites)', 0.6],\n",
       " ['By coming under running vehicles/trains', 3.86],\n",
       " ['By Consuming Other Poison', 15.83],\n",
       " ['By Fire/Self Immolation', 4.69],\n",
       " ['By Jumping off Moving Vehicles/Trains', 0.67],\n",
       " ['By Machine', 0.15],\n",
       " ['By Over Alcoholism', 1.59],\n",
       " ['By Drowning', 6.27],\n",
       " ['By touching electric wires', 0.93],\n",
       " ['By Self Infliction of injury', 0.38],\n",
       " ['By Other means', 10.36],\n",
       " ['By Overdose of sleeping pills', 0.64]]"
      ]
     },
     "execution_count": 207,
     "metadata": {},
     "output_type": "execute_result"
    }
   ],
   "source": [
    "p=[]\n",
    "for i in range(16):\n",
    "    p.append([t[i],round((o[i]*100/sum),2)])\n",
    "p"
   ]
  },
  {
   "cell_type": "code",
   "execution_count": 209,
   "id": "5cb18a2f-5a0d-43a3-a4ae-a20a23d3389d",
   "metadata": {},
   "outputs": [
    {
     "name": "stdout",
     "output_type": "stream",
     "text": [
      "['By Consuming Insecticides', 19.4]\n",
      "['By Hanging', 33.54]\n",
      "['By Consuming Other Poison', 15.83]\n",
      "['By Drowning', 6.27]\n",
      "['By Other means', 10.36]\n"
     ]
    }
   ],
   "source": [
    "# checking out causes contribution for 'Male' suicides\n",
    "for i in range(16):\n",
    "    if p[i][1]>5:\n",
    "        print(p[i])"
   ]
  },
  {
   "cell_type": "markdown",
   "id": "affdbc74-2b79-4a57-98fe-4210d502032d",
   "metadata": {},
   "source": [
    "* 'By Hanging'   33.54 %\n",
    "* 'By Consuming Insecticides'  19.4 %\n",
    "* 'By Consuming Other Poison'  15.83 %\n",
    "* 'By Other means'   10.36 %\n",
    "* 'By Drowning'  6.27 %"
   ]
  },
  {
   "cell_type": "markdown",
   "id": "c62120df-3593-44e1-8bb3-86b61e7529bd",
   "metadata": {},
   "source": [
    "* looking for yearly trends in these causes"
   ]
  },
  {
   "cell_type": "code",
   "execution_count": 210,
   "id": "7a76aa3c-e73b-4202-8d4f-b33a34efcd46",
   "metadata": {},
   "outputs": [
    {
     "data": {
      "text/plain": [
       "[2001, 2002, 2003, 2004, 2005, 2006, 2007, 2008, 2009, 2010, 2011, 2012]"
      ]
     },
     "execution_count": 210,
     "metadata": {},
     "output_type": "execute_result"
    }
   ],
   "source": [
    "years"
   ]
  },
  {
   "cell_type": "markdown",
   "id": "ae4debd0-013e-4584-aeba-da3db97f037f",
   "metadata": {},
   "source": [
    "* -------------'By Hanging'"
   ]
  },
  {
   "cell_type": "code",
   "execution_count": 213,
   "id": "94bbc88c-2027-4be0-975c-23438a3e0dd8",
   "metadata": {},
   "outputs": [],
   "source": [
    "t=[]\n",
    "for i in years:\n",
    "    t.append(state_and_UT_data[(state_and_UT_data['Gender']=='Male')&(state_and_UT_data['Type_code']=='Means_adopted')&(state_and_UT_data['Type']=='By Hanging')&(state_and_UT_data['Year']==i)].Total.sum())"
   ]
  },
  {
   "cell_type": "code",
   "execution_count": 214,
   "id": "44b6a6a0-f8e5-4574-85dd-7450696c7281",
   "metadata": {},
   "outputs": [
    {
     "data": {
      "text/plain": [
       "[19668.0,\n",
       " 21276.0,\n",
       " 21966.0,\n",
       " 24020.0,\n",
       " 24786.0,\n",
       " 25610.0,\n",
       " 26509.0,\n",
       " 27332.0,\n",
       " 27079.0,\n",
       " 28988.0,\n",
       " 30667.0,\n",
       " 34631.0]"
      ]
     },
     "execution_count": 214,
     "metadata": {},
     "output_type": "execute_result"
    }
   ],
   "source": [
    "t"
   ]
  },
  {
   "cell_type": "code",
   "execution_count": 215,
   "id": "5126db43-9eaf-42db-91ca-5e72de723d62",
   "metadata": {},
   "outputs": [
    {
     "data": {
      "text/plain": [
       "Text(0, 0.5, 'Number of suicides')"
      ]
     },
     "execution_count": 215,
     "metadata": {},
     "output_type": "execute_result"
    },
    {
     "data": {
      "image/png": "[encoded data removed]",
      "text/plain": [
       "<Figure size 432x288 with 1 Axes>"
      ]
     },
     "metadata": {
      "needs_background": "light"
     },
     "output_type": "display_data"
    }
   ],
   "source": [
    "plt.bar(years,t)\n",
    "plt.xlabel('Y ears')\n",
    "plt.ylabel('Number of suicides')"
   ]
  },
  {
   "cell_type": "markdown",
   "id": "a5441c67-5731-45c9-9f66-bec4f93e3654",
   "metadata": {},
   "source": [
    "* Male suicides 'By Hanging' is increasing year on year\n",
    "* There is no way government can controll, this way to suicide"
   ]
  },
  {
   "cell_type": "markdown",
   "id": "83aef013-6158-4352-a19c-fe2075378bfc",
   "metadata": {},
   "source": [
    "* ---------------------'By Consuming Insecticides'"
   ]
  },
  {
   "cell_type": "code",
   "execution_count": 218,
   "id": "67dd9d78-5b58-40d3-a4d7-af24148e1194",
   "metadata": {},
   "outputs": [],
   "source": [
    "t=[]\n",
    "for i in years:\n",
    "    t.append(state_and_UT_data[(state_and_UT_data['Gender']=='Male')&(state_and_UT_data['Type_code']=='Means_adopted')&(state_and_UT_data['Type']=='By Consuming Insecticides')&(state_and_UT_data['Year']==i)].Total.sum())"
   ]
  },
  {
   "cell_type": "code",
   "execution_count": 219,
   "id": "9b106715-98b6-4acc-a255-80c3bfe03841",
   "metadata": {},
   "outputs": [
    {
     "data": {
      "text/plain": [
       "[13487.0,\n",
       " 13716.0,\n",
       " 15145.0,\n",
       " 15210.0,\n",
       " 14516.0,\n",
       " 15398.0,\n",
       " 15876.0,\n",
       " 15766.0,\n",
       " 17176.0,\n",
       " 16822.0,\n",
       " 14512.0,\n",
       " 13161.0]"
      ]
     },
     "execution_count": 219,
     "metadata": {},
     "output_type": "execute_result"
    }
   ],
   "source": [
    "t"
   ]
  },
  {
   "cell_type": "code",
   "execution_count": 220,
   "id": "558d8797-55ac-490e-a959-2ce0b3c7efce",
   "metadata": {},
   "outputs": [
    {
     "data": {
      "text/plain": [
       "Text(0, 0.5, 'Number of suicides')"
      ]
     },
     "execution_count": 220,
     "metadata": {},
     "output_type": "execute_result"
    },
    {
     "data": {
      "image/png": "[encoded data removed]",
      "text/plain": [
       "<Figure size 432x288 with 1 Axes>"
      ]
     },
     "metadata": {
      "needs_background": "light"
     },
     "output_type": "display_data"
    }
   ],
   "source": [
    "plt.bar(years,t)\n",
    "plt.xlabel('Y ears')\n",
    "plt.ylabel('Number of suicides')"
   ]
  },
  {
   "cell_type": "code",
   "execution_count": 367,
   "id": "90510668-a067-4735-9811-bcd6296bc91e",
   "metadata": {},
   "outputs": [
    {
     "data": {
      "text/plain": [
       "['ANDHRA PRADESH',\n",
       " 'ARUNACHAL PRADESH',\n",
       " 'ASSAM',\n",
       " 'BIHAR',\n",
       " 'CHHATTISGARH',\n",
       " 'GOA',\n",
       " 'GUJARAT',\n",
       " 'HARYANA',\n",
       " 'HIMACHAL PRADESH',\n",
       " 'JAMMU & KASHMIR',\n",
       " 'JHARKHAND',\n",
       " 'KARNATAKA',\n",
       " 'KERALA',\n",
       " 'MADHYA PRADESH',\n",
       " 'MAHARASHTRA',\n",
       " 'MANIPUR',\n",
       " 'MEGHALAYA',\n",
       " 'MIZORAM',\n",
       " 'NAGALAND',\n",
       " 'ODISHA',\n",
       " 'PUNJAB',\n",
       " 'RAJASTHAN',\n",
       " 'SIKKIM',\n",
       " 'TAMIL NADU',\n",
       " 'TRIPURA',\n",
       " 'UTTAR PRADESH',\n",
       " 'UTTARAKHAND',\n",
       " 'WEST BENGAL',\n",
       " 'TELANGANA',\n",
       " 'A & N ISLANDS',\n",
       " 'CHANDIGARH',\n",
       " 'D & N HAVELI',\n",
       " 'DAMAN & DIU',\n",
       " 'DELHI (UT)',\n",
       " 'LAKSHADWEEP',\n",
       " 'PUDUCHERRY']"
      ]
     },
     "execution_count": 367,
     "metadata": {},
     "output_type": "execute_result"
    }
   ],
   "source": [
    "state_and_UT_list"
   ]
  },
  {
   "cell_type": "code",
   "execution_count": 368,
   "id": "5cc08b7b-3b53-447c-baed-b976e1199f41",
   "metadata": {},
   "outputs": [
    {
     "data": {
      "text/plain": [
       "[['ANDHRA PRADESH', 18809.5],\n",
       " ['ARUNACHAL PRADESH', 10.0],\n",
       " ['ASSAM', 270.0],\n",
       " ['BIHAR', 678.0],\n",
       " ['CHHATTISGARH', 7631.0],\n",
       " ['GOA', 84.0],\n",
       " ['GUJARAT', 9907.0],\n",
       " ['HARYANA', 2414.0],\n",
       " ['HIMACHAL PRADESH', 588.0],\n",
       " ['JAMMU & KASHMIR', 133.0],\n",
       " ['JHARKHAND', 644.0],\n",
       " ['KARNATAKA', 9727.0],\n",
       " ['KERALA', 14262.0],\n",
       " ['MADHYA PRADESH', 11839.0],\n",
       " ['MAHARASHTRA', 39813.0],\n",
       " ['MANIPUR', 7.0],\n",
       " ['MEGHALAYA', 8.0],\n",
       " ['MIZORAM', 1.0],\n",
       " ['NAGALAND', 1.0],\n",
       " ['ODISHA', 6943.0],\n",
       " ['PUNJAB', 625.0],\n",
       " ['RAJASTHAN', 5431.0],\n",
       " ['SIKKIM', 18.0],\n",
       " ['TAMIL NADU', 15637.0],\n",
       " ['TRIPURA', 693.0],\n",
       " ['UTTAR PRADESH', 2955.0],\n",
       " ['UTTARAKHAND', 498.0],\n",
       " ['WEST BENGAL', 11231.0],\n",
       " ['TELANGANA', 18809.5],\n",
       " ['A & N ISLANDS', 29.0],\n",
       " ['CHANDIGARH', 11.0],\n",
       " ['D & N HAVELI', 13.0],\n",
       " ['DAMAN & DIU', 6.0],\n",
       " ['DELHI (UT)', 469.0],\n",
       " ['LAKSHADWEEP', 0.0],\n",
       " ['PUDUCHERRY', 590.0]]"
      ]
     },
     "execution_count": 368,
     "metadata": {},
     "output_type": "execute_result"
    }
   ],
   "source": [
    "t =[]\n",
    "for i in state_and_UT_list:\n",
    "    k = state_and_UT_data[(state_and_UT_data['Type_code']=='Means_adopted')&(state_and_UT_data['Type']=='By Consuming Insecticides')&(state_and_UT_data['Gender']=='Male')&(state_and_UT_data['State']==i)].Total.sum()\n",
    "    t.append([i,k])     \n",
    "t"
   ]
  },
  {
   "cell_type": "code",
   "execution_count": 371,
   "id": "2c6e817d-3cba-4477-a3d2-7fc1553db9f7",
   "metadata": {},
   "outputs": [
    {
     "data": {
      "text/plain": [
       "180785.0"
      ]
     },
     "execution_count": 371,
     "metadata": {},
     "output_type": "execute_result"
    }
   ],
   "source": [
    "sum = 0\n",
    "for i in t:\n",
    "    sum = sum + i[1]\n",
    "sum"
   ]
  },
  {
   "cell_type": "code",
   "execution_count": 372,
   "id": "ec8392a4-2f40-45c2-8efe-bfca3569a625",
   "metadata": {},
   "outputs": [
    {
     "data": {
      "text/plain": [
       "[['ANDHRA PRADESH', 10.4],\n",
       " ['ARUNACHAL PRADESH', 0.01],\n",
       " ['ASSAM', 0.15],\n",
       " ['BIHAR', 0.38],\n",
       " ['CHHATTISGARH', 4.22],\n",
       " ['GOA', 0.05],\n",
       " ['GUJARAT', 5.48],\n",
       " ['HARYANA', 1.34],\n",
       " ['HIMACHAL PRADESH', 0.33],\n",
       " ['JAMMU & KASHMIR', 0.07],\n",
       " ['JHARKHAND', 0.36],\n",
       " ['KARNATAKA', 5.38],\n",
       " ['KERALA', 7.89],\n",
       " ['MADHYA PRADESH', 6.55],\n",
       " ['MAHARASHTRA', 22.02],\n",
       " ['MANIPUR', 0.0],\n",
       " ['MEGHALAYA', 0.0],\n",
       " ['MIZORAM', 0.0],\n",
       " ['NAGALAND', 0.0],\n",
       " ['ODISHA', 3.84],\n",
       " ['PUNJAB', 0.35],\n",
       " ['RAJASTHAN', 3.0],\n",
       " ['SIKKIM', 0.01],\n",
       " ['TAMIL NADU', 8.65],\n",
       " ['TRIPURA', 0.38],\n",
       " ['UTTAR PRADESH', 1.63],\n",
       " ['UTTARAKHAND', 0.28],\n",
       " ['WEST BENGAL', 6.21],\n",
       " ['TELANGANA', 10.4],\n",
       " ['A & N ISLANDS', 0.02],\n",
       " ['CHANDIGARH', 0.01],\n",
       " ['D & N HAVELI', 0.01],\n",
       " ['DAMAN & DIU', 0.0],\n",
       " ['DELHI (UT)', 0.26],\n",
       " ['LAKSHADWEEP', 0.0],\n",
       " ['PUDUCHERRY', 0.33]]"
      ]
     },
     "execution_count": 372,
     "metadata": {},
     "output_type": "execute_result"
    }
   ],
   "source": [
    "for i in range(36):\n",
    "    t[i][1] = round((t[i][1])*100/sum,2)\n",
    "t"
   ]
  },
  {
   "cell_type": "code",
   "execution_count": 373,
   "id": "79498ae6-2638-4d23-9aa7-4f77386e34ff",
   "metadata": {},
   "outputs": [
    {
     "name": "stdout",
     "output_type": "stream",
     "text": [
      "['ANDHRA PRADESH', 10.4]\n",
      "['GUJARAT', 5.48]\n",
      "['KARNATAKA', 5.38]\n",
      "['KERALA', 7.89]\n",
      "['MADHYA PRADESH', 6.55]\n",
      "['MAHARASHTRA', 22.02]\n",
      "['TAMIL NADU', 8.65]\n",
      "['WEST BENGAL', 6.21]\n",
      "['TELANGANA', 10.4]\n"
     ]
    }
   ],
   "source": [
    "for i in range(36):\n",
    "    if t[i][1]>5:\n",
    "        print(t[i])"
   ]
  },
  {
   "cell_type": "markdown",
   "id": "71318a8d-5bad-47d4-8e73-8b4e6e3df937",
   "metadata": {},
   "source": [
    "* These are states where male suicides are by consuming 'By Consuming Insecticides'"
   ]
  },
  {
   "cell_type": "markdown",
   "id": "1a698bdb-ffce-4393-98af-3033073c7ce6",
   "metadata": {},
   "source": [
    "* Male suicides 'By Consuming Insecticides' is nearly stable\n",
    "* Government can reduce it, by allowing only farmers to buy INsecticides, using their farmer card"
   ]
  },
  {
   "cell_type": "markdown",
   "id": "b201aaa9-3a14-43ab-af37-651bc0d23a7c",
   "metadata": {},
   "source": [
    "* -------------------'By Consuming Other Poison'"
   ]
  },
  {
   "cell_type": "code",
   "execution_count": 221,
   "id": "4c2231db-683e-4be2-9bad-86922e415f36",
   "metadata": {},
   "outputs": [],
   "source": [
    "t=[]\n",
    "for i in years:\n",
    "    t.append(state_and_UT_data[(state_and_UT_data['Gender']=='Male')&(state_and_UT_data['Type_code']=='Means_adopted')&(state_and_UT_data['Type']=='By Consuming Other Poison')&(state_and_UT_data['Year']==i)].Total.sum())"
   ]
  },
  {
   "cell_type": "code",
   "execution_count": 222,
   "id": "5ae2f52e-486f-433c-881a-5e49d2a1c89c",
   "metadata": {},
   "outputs": [
    {
     "data": {
      "text/plain": [
       "[12577.0,\n",
       " 12485.0,\n",
       " 12456.0,\n",
       " 12108.0,\n",
       " 12194.0,\n",
       " 12274.0,\n",
       " 12101.0,\n",
       " 12322.0,\n",
       " 10608.0,\n",
       " 12440.0,\n",
       " 13689.0,\n",
       " 12286.0]"
      ]
     },
     "execution_count": 222,
     "metadata": {},
     "output_type": "execute_result"
    }
   ],
   "source": [
    "t"
   ]
  },
  {
   "cell_type": "code",
   "execution_count": 224,
   "id": "489414e3-6e71-4c99-b9bd-6589114cb8a4",
   "metadata": {},
   "outputs": [
    {
     "data": {
      "text/plain": [
       "Text(0, 0.5, 'Number of suicides')"
      ]
     },
     "execution_count": 224,
     "metadata": {},
     "output_type": "execute_result"
    },
    {
     "data": {
      "image/png": "[encoded data removed]",
      "text/plain": [
       "<Figure size 432x288 with 1 Axes>"
      ]
     },
     "metadata": {
      "needs_background": "light"
     },
     "output_type": "display_data"
    }
   ],
   "source": [
    "plt.bar(years,t)\n",
    "plt.xlabel('Y ears')\n",
    "plt.ylabel('Number of suicides')"
   ]
  },
  {
   "cell_type": "code",
   "execution_count": 374,
   "id": "24eb0fb5-7768-4dab-8d0d-91d68df828d2",
   "metadata": {},
   "outputs": [
    {
     "data": {
      "text/plain": [
       "['ANDHRA PRADESH',\n",
       " 'ARUNACHAL PRADESH',\n",
       " 'ASSAM',\n",
       " 'BIHAR',\n",
       " 'CHHATTISGARH',\n",
       " 'GOA',\n",
       " 'GUJARAT',\n",
       " 'HARYANA',\n",
       " 'HIMACHAL PRADESH',\n",
       " 'JAMMU & KASHMIR',\n",
       " 'JHARKHAND',\n",
       " 'KARNATAKA',\n",
       " 'KERALA',\n",
       " 'MADHYA PRADESH',\n",
       " 'MAHARASHTRA',\n",
       " 'MANIPUR',\n",
       " 'MEGHALAYA',\n",
       " 'MIZORAM',\n",
       " 'NAGALAND',\n",
       " 'ODISHA',\n",
       " 'PUNJAB',\n",
       " 'RAJASTHAN',\n",
       " 'SIKKIM',\n",
       " 'TAMIL NADU',\n",
       " 'TRIPURA',\n",
       " 'UTTAR PRADESH',\n",
       " 'UTTARAKHAND',\n",
       " 'WEST BENGAL',\n",
       " 'TELANGANA',\n",
       " 'A & N ISLANDS',\n",
       " 'CHANDIGARH',\n",
       " 'D & N HAVELI',\n",
       " 'DAMAN & DIU',\n",
       " 'DELHI (UT)',\n",
       " 'LAKSHADWEEP',\n",
       " 'PUDUCHERRY']"
      ]
     },
     "execution_count": 374,
     "metadata": {},
     "output_type": "execute_result"
    }
   ],
   "source": [
    "state_and_UT_list"
   ]
  },
  {
   "cell_type": "code",
   "execution_count": 375,
   "id": "a4150bf2-f313-4497-8069-e196abc9d928",
   "metadata": {},
   "outputs": [
    {
     "data": {
      "text/plain": [
       "[['ANDHRA PRADESH', 7878.0],\n",
       " ['ARUNACHAL PRADESH', 35.0],\n",
       " ['ASSAM', 3700.0],\n",
       " ['BIHAR', 681.0],\n",
       " ['CHHATTISGARH', 3079.0],\n",
       " ['GOA', 186.0],\n",
       " ['GUJARAT', 7024.0],\n",
       " ['HARYANA', 3760.0],\n",
       " ['HIMACHAL PRADESH', 1025.0],\n",
       " ['JAMMU & KASHMIR', 262.0],\n",
       " ['JHARKHAND', 396.0],\n",
       " ['KARNATAKA', 25321.0],\n",
       " ['KERALA', 13336.0],\n",
       " ['MADHYA PRADESH', 4071.0],\n",
       " ['MAHARASHTRA', 8929.0],\n",
       " ['MANIPUR', 43.0],\n",
       " ['MEGHALAYA', 13.0],\n",
       " ['MIZORAM', 0.0],\n",
       " ['NAGALAND', 9.0],\n",
       " ['ODISHA', 4386.0],\n",
       " ['PUNJAB', 466.0],\n",
       " ['RAJASTHAN', 2884.0],\n",
       " ['SIKKIM', 15.0],\n",
       " ['TAMIL NADU', 23627.0],\n",
       " ['TRIPURA', 1343.0],\n",
       " ['UTTAR PRADESH', 2615.0],\n",
       " ['UTTARAKHAND', 288.0],\n",
       " ['WEST BENGAL', 22316.0],\n",
       " ['TELANGANA', 7878.0],\n",
       " ['A & N ISLANDS', 75.0],\n",
       " ['CHANDIGARH', 116.0],\n",
       " ['D & N HAVELI', 57.0],\n",
       " ['DAMAN & DIU', 24.0],\n",
       " ['DELHI (UT)', 1426.0],\n",
       " ['LAKSHADWEEP', 0.0],\n",
       " ['PUDUCHERRY', 276.0]]"
      ]
     },
     "execution_count": 375,
     "metadata": {},
     "output_type": "execute_result"
    }
   ],
   "source": [
    "t =[]\n",
    "for i in state_and_UT_list:\n",
    "    k = state_and_UT_data[(state_and_UT_data['Type_code']=='Means_adopted')&(state_and_UT_data['Type']=='By Consuming Other Poison')&(state_and_UT_data['Gender']=='Male')&(state_and_UT_data['State']==i)].Total.sum()\n",
    "    t.append([i,k])     \n",
    "t"
   ]
  },
  {
   "cell_type": "code",
   "execution_count": 376,
   "id": "afe88da5-511c-4dee-ab70-6afb816b24ab",
   "metadata": {},
   "outputs": [
    {
     "data": {
      "text/plain": [
       "147540.0"
      ]
     },
     "execution_count": 376,
     "metadata": {},
     "output_type": "execute_result"
    }
   ],
   "source": [
    "sum = 0\n",
    "for i in t:\n",
    "    sum = sum + i[1]\n",
    "sum"
   ]
  },
  {
   "cell_type": "code",
   "execution_count": 377,
   "id": "18726520-f875-4063-8d80-5db86ecdfbaa",
   "metadata": {},
   "outputs": [
    {
     "data": {
      "text/plain": [
       "[['ANDHRA PRADESH', 5.34],\n",
       " ['ARUNACHAL PRADESH', 0.02],\n",
       " ['ASSAM', 2.51],\n",
       " ['BIHAR', 0.46],\n",
       " ['CHHATTISGARH', 2.09],\n",
       " ['GOA', 0.13],\n",
       " ['GUJARAT', 4.76],\n",
       " ['HARYANA', 2.55],\n",
       " ['HIMACHAL PRADESH', 0.69],\n",
       " ['JAMMU & KASHMIR', 0.18],\n",
       " ['JHARKHAND', 0.27],\n",
       " ['KARNATAKA', 17.16],\n",
       " ['KERALA', 9.04],\n",
       " ['MADHYA PRADESH', 2.76],\n",
       " ['MAHARASHTRA', 6.05],\n",
       " ['MANIPUR', 0.03],\n",
       " ['MEGHALAYA', 0.01],\n",
       " ['MIZORAM', 0.0],\n",
       " ['NAGALAND', 0.01],\n",
       " ['ODISHA', 2.97],\n",
       " ['PUNJAB', 0.32],\n",
       " ['RAJASTHAN', 1.95],\n",
       " ['SIKKIM', 0.01],\n",
       " ['TAMIL NADU', 16.01],\n",
       " ['TRIPURA', 0.91],\n",
       " ['UTTAR PRADESH', 1.77],\n",
       " ['UTTARAKHAND', 0.2],\n",
       " ['WEST BENGAL', 15.13],\n",
       " ['TELANGANA', 5.34],\n",
       " ['A & N ISLANDS', 0.05],\n",
       " ['CHANDIGARH', 0.08],\n",
       " ['D & N HAVELI', 0.04],\n",
       " ['DAMAN & DIU', 0.02],\n",
       " ['DELHI (UT)', 0.97],\n",
       " ['LAKSHADWEEP', 0.0],\n",
       " ['PUDUCHERRY', 0.19]]"
      ]
     },
     "execution_count": 377,
     "metadata": {},
     "output_type": "execute_result"
    }
   ],
   "source": [
    "for i in range(36):\n",
    "    t[i][1] = round((t[i][1])*100/sum,2)\n",
    "t"
   ]
  },
  {
   "cell_type": "code",
   "execution_count": 378,
   "id": "224f6470-ca02-409a-8f68-b5b1609d362f",
   "metadata": {},
   "outputs": [
    {
     "name": "stdout",
     "output_type": "stream",
     "text": [
      "['ANDHRA PRADESH', 5.34]\n",
      "['KARNATAKA', 17.16]\n",
      "['KERALA', 9.04]\n",
      "['MAHARASHTRA', 6.05]\n",
      "['TAMIL NADU', 16.01]\n",
      "['WEST BENGAL', 15.13]\n",
      "['TELANGANA', 5.34]\n"
     ]
    }
   ],
   "source": [
    "for i in range(36):\n",
    "    if t[i][1]>5:\n",
    "        print(t[i])"
   ]
  },
  {
   "cell_type": "code",
   "execution_count": null,
   "id": "a1001de5-5895-4029-98b3-c8185a2e930a",
   "metadata": {},
   "outputs": [
    {
     "ename": "SyntaxError",
     "evalue": "invalid syntax (1144045352.py, line 1)",
     "output_type": "error",
     "traceback": [
      "\u001b[1;36m  File \u001b[1;32m\"C:\\Users\\Acer\\AppData\\Local\\Temp\\ipykernel_19168\\1144045352.py\"\u001b[1;36m, line \u001b[1;32m1\u001b[0m\n\u001b[1;33m    * These are states where man are suiciding by consuming poision, govt. need to cross-check their strivtness regarding poision selling\u001b[0m\n\u001b[1;37m            ^\u001b[0m\n\u001b[1;31mSyntaxError\u001b[0m\u001b[1;31m:\u001b[0m invalid syntax\n"
     ]
    }
   ],
   "source": [
    "* These are states where man are suiciding by consuming poision, govt. need to cross-check their strivtness regarding poision selling"
   ]
  },
  {
   "cell_type": "markdown",
   "id": "819c3e31-1482-4086-af05-ab98e0722436",
   "metadata": {},
   "source": [
    "* Male suicides 'By Consuming Other Poison' is nearly stable\n",
    "* Government can reduce it, by stricting selling of such poisions, in presence of ID cards & Statement of Purpose"
   ]
  },
  {
   "cell_type": "markdown",
   "id": "437ed69d-7442-4d5a-b514-cdb648aa6a54",
   "metadata": {},
   "source": [
    "* --------------------'By Drowning'"
   ]
  },
  {
   "cell_type": "code",
   "execution_count": 225,
   "id": "908ce79d-9681-4acc-bea0-0a65f2892997",
   "metadata": {},
   "outputs": [],
   "source": [
    "t=[]\n",
    "for i in years:\n",
    "    t.append(state_and_UT_data[(state_and_UT_data['Gender']=='Male')&(state_and_UT_data['Type_code']=='Means_adopted')&(state_and_UT_data['Type']=='By Drowning')&(state_and_UT_data['Year']==i)].Total.sum())"
   ]
  },
  {
   "cell_type": "code",
   "execution_count": 226,
   "id": "08cca63e-2fc4-4f1d-8ef1-8dd942862298",
   "metadata": {},
   "outputs": [
    {
     "data": {
      "text/plain": [
       "[4695.0,\n",
       " 4621.0,\n",
       " 4820.0,\n",
       " 4171.0,\n",
       " 4555.0,\n",
       " 5215.0,\n",
       " 5202.0,\n",
       " 5190.0,\n",
       " 4794.0,\n",
       " 5142.0,\n",
       " 5007.0,\n",
       " 4994.0]"
      ]
     },
     "execution_count": 226,
     "metadata": {},
     "output_type": "execute_result"
    }
   ],
   "source": [
    "t"
   ]
  },
  {
   "cell_type": "code",
   "execution_count": 227,
   "id": "f7276ece-0c58-48c8-9474-e138c08efa9f",
   "metadata": {},
   "outputs": [
    {
     "data": {
      "text/plain": [
       "Text(0, 0.5, 'Number of suicides')"
      ]
     },
     "execution_count": 227,
     "metadata": {},
     "output_type": "execute_result"
    },
    {
     "data": {
      "image/png": "[encoded data removed]",
      "text/plain": [
       "<Figure size 432x288 with 1 Axes>"
      ]
     },
     "metadata": {
      "needs_background": "light"
     },
     "output_type": "display_data"
    }
   ],
   "source": [
    "plt.bar(years,t)\n",
    "plt.xlabel('Y ears')\n",
    "plt.ylabel('Number of suicides')"
   ]
  },
  {
   "cell_type": "markdown",
   "id": "ab960b88-479b-401a-a5e5-a436b7809790",
   "metadata": {},
   "source": [
    "* Male suicides 'By Drowning' is nearly stable\n",
    "* Government can't controll it"
   ]
  },
  {
   "cell_type": "markdown",
   "id": "8202d6df-07a2-423e-ba12-7b7d0a92ca8d",
   "metadata": {},
   "source": [
    "* Have to check weather this data is varying state-wise or not."
   ]
  },
  {
   "cell_type": "markdown",
   "id": "aed9bb87-29c0-4198-b3af-4a248ecaa2fb",
   "metadata": {},
   "source": [
    "#### Type_codes == 'Means_adopted' , 'Female'"
   ]
  },
  {
   "cell_type": "markdown",
   "id": "9f9d0e02-4a2c-4911-b46b-b2080f2ccbf1",
   "metadata": {},
   "source": [
    "*  in total suicides among 'Female' which was major  'Means_adopted' ?"
   ]
  },
  {
   "cell_type": "code",
   "execution_count": 229,
   "id": "5550a891-91a4-4905-a10c-f3a016b39542",
   "metadata": {},
   "outputs": [
    {
     "data": {
      "text/html": [
       "<div>\n",
       "<style scoped>\n",
       "    .dataframe tbody tr th:only-of-type {\n",
       "        vertical-align: middle;\n",
       "    }\n",
       "\n",
       "    .dataframe tbody tr th {\n",
       "        vertical-align: top;\n",
       "    }\n",
       "\n",
       "    .dataframe thead th {\n",
       "        text-align: right;\n",
       "    }\n",
       "</style>\n",
       "<table border=\"1\" class=\"dataframe\">\n",
       "  <thead>\n",
       "    <tr style=\"text-align: right;\">\n",
       "      <th></th>\n",
       "      <th>State</th>\n",
       "      <th>Year</th>\n",
       "      <th>Type_code</th>\n",
       "      <th>Type</th>\n",
       "      <th>Gender</th>\n",
       "      <th>Age_group</th>\n",
       "      <th>Total</th>\n",
       "    </tr>\n",
       "  </thead>\n",
       "  <tbody>\n",
       "    <tr>\n",
       "      <th>4993</th>\n",
       "      <td>ANDHRA PRADESH</td>\n",
       "      <td>2001</td>\n",
       "      <td>Causes</td>\n",
       "      <td>Death of Dear Person</td>\n",
       "      <td>Male</td>\n",
       "      <td>0-14</td>\n",
       "      <td>0.0</td>\n",
       "    </tr>\n",
       "    <tr>\n",
       "      <th>4994</th>\n",
       "      <td>ANDHRA PRADESH</td>\n",
       "      <td>2001</td>\n",
       "      <td>Causes</td>\n",
       "      <td>Fall in Social Reputation</td>\n",
       "      <td>Female</td>\n",
       "      <td>60+</td>\n",
       "      <td>0.5</td>\n",
       "    </tr>\n",
       "    <tr>\n",
       "      <th>4995</th>\n",
       "      <td>ANDHRA PRADESH</td>\n",
       "      <td>2001</td>\n",
       "      <td>Causes</td>\n",
       "      <td>Insanity/Mental Illness</td>\n",
       "      <td>Female</td>\n",
       "      <td>15-29</td>\n",
       "      <td>56.0</td>\n",
       "    </tr>\n",
       "    <tr>\n",
       "      <th>4996</th>\n",
       "      <td>ANDHRA PRADESH</td>\n",
       "      <td>2001</td>\n",
       "      <td>Causes</td>\n",
       "      <td>Other Causes</td>\n",
       "      <td>Male</td>\n",
       "      <td>30-44</td>\n",
       "      <td>146.5</td>\n",
       "    </tr>\n",
       "    <tr>\n",
       "      <th>4997</th>\n",
       "      <td>ANDHRA PRADESH</td>\n",
       "      <td>2001</td>\n",
       "      <td>Education_Status</td>\n",
       "      <td>Diploma</td>\n",
       "      <td>Male</td>\n",
       "      <td>0-100+</td>\n",
       "      <td>37.5</td>\n",
       "    </tr>\n",
       "  </tbody>\n",
       "</table>\n",
       "</div>"
      ],
      "text/plain": [
       "               State  Year         Type_code                       Type  \\\n",
       "4993  ANDHRA PRADESH  2001            Causes       Death of Dear Person   \n",
       "4994  ANDHRA PRADESH  2001            Causes  Fall in Social Reputation   \n",
       "4995  ANDHRA PRADESH  2001            Causes    Insanity/Mental Illness   \n",
       "4996  ANDHRA PRADESH  2001            Causes               Other Causes   \n",
       "4997  ANDHRA PRADESH  2001  Education_Status                    Diploma   \n",
       "\n",
       "      Gender Age_group  Total  \n",
       "4993    Male      0-14    0.0  \n",
       "4994  Female       60+    0.5  \n",
       "4995  Female     15-29   56.0  \n",
       "4996    Male     30-44  146.5  \n",
       "4997    Male    0-100+   37.5  "
      ]
     },
     "execution_count": 229,
     "metadata": {},
     "output_type": "execute_result"
    }
   ],
   "source": [
    "state_and_UT_data.head()"
   ]
  },
  {
   "cell_type": "code",
   "execution_count": 230,
   "id": "a0f73672-b34d-4829-b3c1-a08c0fe5ff1d",
   "metadata": {},
   "outputs": [
    {
     "data": {
      "text/plain": [
       "16"
      ]
     },
     "execution_count": 230,
     "metadata": {},
     "output_type": "execute_result"
    }
   ],
   "source": [
    "t = state_and_UT_data[state_and_UT_data['Type_code']=='Means_adopted'].Type.unique()\n",
    "len(t)"
   ]
  },
  {
   "cell_type": "code",
   "execution_count": 231,
   "id": "e62e9467-029f-4834-acb4-2d083626d5ce",
   "metadata": {},
   "outputs": [],
   "source": [
    "o = []\n",
    "for i in t:\n",
    "    o.append(state_and_UT_data[(state_and_UT_data['Gender']=='Female')&(state_and_UT_data['Type_code']=='Means_adopted')&(state_and_UT_data['Type']==i)].Total.sum())"
   ]
  },
  {
   "cell_type": "code",
   "execution_count": 233,
   "id": "9ef44a6e-05a5-433b-9d59-677a9c794ad4",
   "metadata": {},
   "outputs": [
    {
     "data": {
      "text/plain": [
       "[94716.0,\n",
       " 1604.0,\n",
       " 148423.0,\n",
       " 2354.0,\n",
       " 2498.0,\n",
       " 9366.0,\n",
       " 83638.0,\n",
       " 84339.0,\n",
       " 1826.0,\n",
       " 224.0,\n",
       " 1157.0,\n",
       " 38305.0,\n",
       " 2188.0,\n",
       " 1575.0,\n",
       " 47792.0,\n",
       " 4008.0]"
      ]
     },
     "execution_count": 233,
     "metadata": {},
     "output_type": "execute_result"
    }
   ],
   "source": [
    "o"
   ]
  },
  {
   "cell_type": "code",
   "execution_count": 234,
   "id": "099f6110-1321-40d3-92d7-88ad415e44da",
   "metadata": {},
   "outputs": [
    {
     "data": {
      "text/plain": [
       "<BarContainer object of 16 artists>"
      ]
     },
     "execution_count": 234,
     "metadata": {},
     "output_type": "execute_result"
    },
    {
     "data": {
      "image/png": "[encoded data removed]",
      "text/plain": [
       "<Figure size 432x288 with 1 Axes>"
      ]
     },
     "metadata": {
      "needs_background": "light"
     },
     "output_type": "display_data"
    }
   ],
   "source": [
    "plt.bar(t,o)"
   ]
  },
  {
   "cell_type": "code",
   "execution_count": 235,
   "id": "00a44477-f4c5-48f5-b5e5-3726d6f52313",
   "metadata": {},
   "outputs": [
    {
     "data": {
      "text/plain": [
       "524013.0"
      ]
     },
     "execution_count": 235,
     "metadata": {},
     "output_type": "execute_result"
    }
   ],
   "source": [
    "sum = 0\n",
    "for i in o:\n",
    "    sum = sum+i\n",
    "sum"
   ]
  },
  {
   "cell_type": "code",
   "execution_count": 236,
   "id": "d5c5b34e-ec6e-454d-9ba3-8c52d7ea3c93",
   "metadata": {},
   "outputs": [
    {
     "data": {
      "text/plain": [
       "[['By Consuming Insecticides', 18.08],\n",
       " ['By Fire-Arms', 0.31],\n",
       " ['By Hanging', 28.32],\n",
       " ['By Jumping from (Building)', 0.45],\n",
       " ['By Jumping from (Other sites)', 0.48],\n",
       " ['By coming under running vehicles/trains', 1.79],\n",
       " ['By Consuming Other Poison', 15.96],\n",
       " ['By Fire/Self Immolation', 16.09],\n",
       " ['By Jumping off Moving Vehicles/Trains', 0.35],\n",
       " ['By Machine', 0.04],\n",
       " ['By Over Alcoholism', 0.22],\n",
       " ['By Drowning', 7.31],\n",
       " ['By touching electric wires', 0.42],\n",
       " ['By Self Infliction of injury', 0.3],\n",
       " ['By Other means', 9.12],\n",
       " ['By Overdose of sleeping pills', 0.76]]"
      ]
     },
     "execution_count": 236,
     "metadata": {},
     "output_type": "execute_result"
    }
   ],
   "source": [
    "p=[]\n",
    "for i in range(16):\n",
    "    p.append([t[i],round((o[i]*100/sum),2)])\n",
    "p"
   ]
  },
  {
   "cell_type": "code",
   "execution_count": 237,
   "id": "10cf9fc7-c881-41a6-88f7-ea8c44faf53c",
   "metadata": {},
   "outputs": [
    {
     "name": "stdout",
     "output_type": "stream",
     "text": [
      "['By Consuming Insecticides', 18.08]\n",
      "['By Hanging', 28.32]\n",
      "['By Consuming Other Poison', 15.96]\n",
      "['By Fire/Self Immolation', 16.09]\n",
      "['By Drowning', 7.31]\n",
      "['By Other means', 9.12]\n"
     ]
    }
   ],
   "source": [
    "# checking out causes contribution for 'Male' suicides\n",
    "for i in range(16):\n",
    "    if p[i][1]>5:\n",
    "        print(p[i])"
   ]
  },
  {
   "cell_type": "markdown",
   "id": "7c1d42c0-e422-47d4-b479-f181e691a5e0",
   "metadata": {},
   "source": [
    "* 'By Hanging' 28.32 % \n",
    "* 'By Consuming Insecticides'   18.08 %\n",
    "* 'By Fire/Self Immolation', 16.09 %\n",
    "* 'By Consuming Other Poison', 15.96 %\n",
    "* 'By Drowning', 7.31 % \n",
    "* 'By Other means', 9.12 %"
   ]
  },
  {
   "cell_type": "code",
   "execution_count": 239,
   "id": "d9477312-f049-4ea6-87e2-601d9f1e0f3f",
   "metadata": {},
   "outputs": [
    {
     "data": {
      "text/plain": [
       "96.44999999999999"
      ]
     },
     "execution_count": 239,
     "metadata": {},
     "output_type": "execute_result"
    }
   ],
   "source": [
    "29.32+18.08+16.09+15.96+8+9"
   ]
  },
  {
   "cell_type": "markdown",
   "id": "ea2d10cf-571a-46b4-a96e-7715f8d3c6f4",
   "metadata": {},
   "source": [
    "#### !!!! One confusion, why 'By Fire/Self Immolation' is famous among females, & not males ?\n",
    "* other contrivutions, are similar to that of males.\n",
    "* checking annual increase in these causes."
   ]
  },
  {
   "cell_type": "markdown",
   "id": "e3b75785-676d-41eb-a388-4d8376f9e9ae",
   "metadata": {},
   "source": [
    "* ------------------'By Consuming Insecticides'"
   ]
  },
  {
   "cell_type": "code",
   "execution_count": 240,
   "id": "b42b2ae1-1a41-4b71-8296-df0a9548af85",
   "metadata": {},
   "outputs": [],
   "source": [
    "t=[]\n",
    "for i in years:\n",
    "    t.append(state_and_UT_data[(state_and_UT_data['Gender']=='Female')&(state_and_UT_data['Type_code']=='Means_adopted')&(state_and_UT_data['Type']=='By Consuming Insecticides')&(state_and_UT_data['Year']==i)].Total.sum())"
   ]
  },
  {
   "cell_type": "code",
   "execution_count": 241,
   "id": "886b859e-4682-45ab-b6fa-747f302149da",
   "metadata": {},
   "outputs": [
    {
     "data": {
      "text/plain": [
       "[8043.0,\n",
       " 7698.0,\n",
       " 7856.0,\n",
       " 8101.0,\n",
       " 7800.0,\n",
       " 7549.0,\n",
       " 8249.0,\n",
       " 8129.0,\n",
       " 8765.0,\n",
       " 8466.0,\n",
       " 7292.0,\n",
       " 6768.0]"
      ]
     },
     "execution_count": 241,
     "metadata": {},
     "output_type": "execute_result"
    }
   ],
   "source": [
    "t"
   ]
  },
  {
   "cell_type": "code",
   "execution_count": 243,
   "id": "bd06cf20-de9a-4427-bdfe-c9951268e100",
   "metadata": {},
   "outputs": [
    {
     "data": {
      "text/plain": [
       "Text(0, 0.5, 'Number of suicides')"
      ]
     },
     "execution_count": 243,
     "metadata": {},
     "output_type": "execute_result"
    },
    {
     "data": {
      "image/png": "[encoded data removed]",
      "text/plain": [
       "<Figure size 432x288 with 1 Axes>"
      ]
     },
     "metadata": {
      "needs_background": "light"
     },
     "output_type": "display_data"
    }
   ],
   "source": [
    "plt.bar(years,t)\n",
    "plt.xlabel('Y ears')\n",
    "plt.ylabel('Number of suicides')"
   ]
  },
  {
   "cell_type": "markdown",
   "id": "d6c42d0e-01fc-4d57-b756-a634cb8e7b3a",
   "metadata": {},
   "source": [
    "* ---------------------------------'By Fire/Self Immolation',"
   ]
  },
  {
   "cell_type": "code",
   "execution_count": 244,
   "id": "cbeca55c-6893-437e-83d9-d648a4d1cd37",
   "metadata": {},
   "outputs": [],
   "source": [
    "t=[]\n",
    "for i in years:\n",
    "    t.append(state_and_UT_data[(state_and_UT_data['Gender']=='Female')&(state_and_UT_data['Type_code']=='Means_adopted')&(state_and_UT_data['Type']=='By Fire/Self Immolation')&(state_and_UT_data['Year']==i)].Total.sum())"
   ]
  },
  {
   "cell_type": "code",
   "execution_count": 245,
   "id": "46effc5d-01b7-4f8e-896a-38d7ab589183",
   "metadata": {},
   "outputs": [
    {
     "data": {
      "text/plain": [
       "Text(0, 0.5, 'Number of suicides')"
      ]
     },
     "execution_count": 245,
     "metadata": {},
     "output_type": "execute_result"
    },
    {
     "data": {
      "image/png": "[encoded data removed]",
      "text/plain": [
       "<Figure size 432x288 with 1 Axes>"
      ]
     },
     "metadata": {
      "needs_background": "light"
     },
     "output_type": "display_data"
    }
   ],
   "source": [
    "plt.bar(years,t)\n",
    "plt.xlabel('Y ears')\n",
    "plt.ylabel('Number of suicides')"
   ]
  },
  {
   "cell_type": "markdown",
   "id": "70717951-fca9-49ad-8598-09914073bbd5",
   "metadata": {},
   "source": [
    "* ---------------------'By Consuming Other Poison'"
   ]
  },
  {
   "cell_type": "code",
   "execution_count": 246,
   "id": "b98c0088-12d2-43f7-a0cd-bbcf4b55a603",
   "metadata": {},
   "outputs": [],
   "source": [
    "t=[]\n",
    "for i in years:\n",
    "    t.append(state_and_UT_data[(state_and_UT_data['Gender']=='Female')&(state_and_UT_data['Type_code']=='Means_adopted')&(state_and_UT_data['Type']=='By Consuming Other Poison')&(state_and_UT_data['Year']==i)].Total.sum())"
   ]
  },
  {
   "cell_type": "code",
   "execution_count": 248,
   "id": "f4b98903-0873-4a30-96e7-6174f342232b",
   "metadata": {},
   "outputs": [
    {
     "data": {
      "text/plain": [
       "Text(0, 0.5, 'Number of suicides')"
      ]
     },
     "execution_count": 248,
     "metadata": {},
     "output_type": "execute_result"
    },
    {
     "data": {
      "image/png": "[encoded data removed]",
      "text/plain": [
       "<Figure size 432x288 with 1 Axes>"
      ]
     },
     "metadata": {
      "needs_background": "light"
     },
     "output_type": "display_data"
    }
   ],
   "source": [
    "plt.bar(years,t)\n",
    "plt.xlabel('Y ears')\n",
    "plt.ylabel('Number of suicides')"
   ]
  },
  {
   "cell_type": "markdown",
   "id": "c590f562-c386-43ce-8de3-e2459783fae5",
   "metadata": {},
   "source": [
    "* No trends found in these.\n",
    "* Have to look at their states, scatter , to let govt. know where to focus to."
   ]
  },
  {
   "cell_type": "markdown",
   "id": "a5377811-401b-4fa8-8e85-cb15204ab156",
   "metadata": {},
   "source": [
    "#### Type_codes == 'Education_Status' , 'Male'"
   ]
  },
  {
   "cell_type": "markdown",
   "id": "19870daf-cb2a-4c24-bca1-2f90f51b6e04",
   "metadata": {},
   "source": [
    "*  in total suicides among 'Male' what is 'Education_Status' distribution  ?"
   ]
  },
  {
   "cell_type": "code",
   "execution_count": 262,
   "id": "2fd1e703-963b-47ac-8e9b-41db8fdfbd33",
   "metadata": {},
   "outputs": [
    {
     "data": {
      "text/html": [
       "<div>\n",
       "<style scoped>\n",
       "    .dataframe tbody tr th:only-of-type {\n",
       "        vertical-align: middle;\n",
       "    }\n",
       "\n",
       "    .dataframe tbody tr th {\n",
       "        vertical-align: top;\n",
       "    }\n",
       "\n",
       "    .dataframe thead th {\n",
       "        text-align: right;\n",
       "    }\n",
       "</style>\n",
       "<table border=\"1\" class=\"dataframe\">\n",
       "  <thead>\n",
       "    <tr style=\"text-align: right;\">\n",
       "      <th></th>\n",
       "      <th>State</th>\n",
       "      <th>Year</th>\n",
       "      <th>Type_code</th>\n",
       "      <th>Type</th>\n",
       "      <th>Gender</th>\n",
       "      <th>Age_group</th>\n",
       "      <th>Total</th>\n",
       "    </tr>\n",
       "  </thead>\n",
       "  <tbody>\n",
       "    <tr>\n",
       "      <th>4993</th>\n",
       "      <td>ANDHRA PRADESH</td>\n",
       "      <td>2001</td>\n",
       "      <td>Causes</td>\n",
       "      <td>Death of Dear Person</td>\n",
       "      <td>Male</td>\n",
       "      <td>0-14</td>\n",
       "      <td>0.0</td>\n",
       "    </tr>\n",
       "    <tr>\n",
       "      <th>4994</th>\n",
       "      <td>ANDHRA PRADESH</td>\n",
       "      <td>2001</td>\n",
       "      <td>Causes</td>\n",
       "      <td>Fall in Social Reputation</td>\n",
       "      <td>Female</td>\n",
       "      <td>60+</td>\n",
       "      <td>0.5</td>\n",
       "    </tr>\n",
       "    <tr>\n",
       "      <th>4995</th>\n",
       "      <td>ANDHRA PRADESH</td>\n",
       "      <td>2001</td>\n",
       "      <td>Causes</td>\n",
       "      <td>Insanity/Mental Illness</td>\n",
       "      <td>Female</td>\n",
       "      <td>15-29</td>\n",
       "      <td>56.0</td>\n",
       "    </tr>\n",
       "    <tr>\n",
       "      <th>4996</th>\n",
       "      <td>ANDHRA PRADESH</td>\n",
       "      <td>2001</td>\n",
       "      <td>Causes</td>\n",
       "      <td>Other Causes</td>\n",
       "      <td>Male</td>\n",
       "      <td>30-44</td>\n",
       "      <td>146.5</td>\n",
       "    </tr>\n",
       "    <tr>\n",
       "      <th>4997</th>\n",
       "      <td>ANDHRA PRADESH</td>\n",
       "      <td>2001</td>\n",
       "      <td>Education_Status</td>\n",
       "      <td>Diploma</td>\n",
       "      <td>Male</td>\n",
       "      <td>0-100+</td>\n",
       "      <td>37.5</td>\n",
       "    </tr>\n",
       "  </tbody>\n",
       "</table>\n",
       "</div>"
      ],
      "text/plain": [
       "               State  Year         Type_code                       Type  \\\n",
       "4993  ANDHRA PRADESH  2001            Causes       Death of Dear Person   \n",
       "4994  ANDHRA PRADESH  2001            Causes  Fall in Social Reputation   \n",
       "4995  ANDHRA PRADESH  2001            Causes    Insanity/Mental Illness   \n",
       "4996  ANDHRA PRADESH  2001            Causes               Other Causes   \n",
       "4997  ANDHRA PRADESH  2001  Education_Status                    Diploma   \n",
       "\n",
       "      Gender Age_group  Total  \n",
       "4993    Male      0-14    0.0  \n",
       "4994  Female       60+    0.5  \n",
       "4995  Female     15-29   56.0  \n",
       "4996    Male     30-44  146.5  \n",
       "4997    Male    0-100+   37.5  "
      ]
     },
     "execution_count": 262,
     "metadata": {},
     "output_type": "execute_result"
    }
   ],
   "source": [
    "state_and_UT_data.head()"
   ]
  },
  {
   "cell_type": "code",
   "execution_count": 251,
   "id": "e399377c-8c9a-4774-993a-b05638a206ab",
   "metadata": {},
   "outputs": [
    {
     "data": {
      "text/plain": [
       "8"
      ]
     },
     "execution_count": 251,
     "metadata": {},
     "output_type": "execute_result"
    }
   ],
   "source": [
    "t = state_and_UT_data[state_and_UT_data['Type_code']=='Education_Status'].Type.unique()\n",
    "len(t)"
   ]
  },
  {
   "cell_type": "code",
   "execution_count": 253,
   "id": "7a246cdd-7c34-40a5-8256-a627baded18a",
   "metadata": {},
   "outputs": [],
   "source": [
    "o = []\n",
    "for i in t:\n",
    "    o.append(state_and_UT_data[(state_and_UT_data['Gender']=='Male')&(state_and_UT_data['Type_code']=='Education_Status')&(state_and_UT_data['Type']==i)].Total.sum())"
   ]
  },
  {
   "cell_type": "code",
   "execution_count": 254,
   "id": "3b27869f-4d4f-45bb-ad73-660afc0fb0c8",
   "metadata": {},
   "outputs": [
    {
     "data": {
      "text/plain": [
       "[10419.0, 188815.0, 226487.0, 5271.0, 174626.0, 225208.0, 79502.0, 21590.0]"
      ]
     },
     "execution_count": 254,
     "metadata": {},
     "output_type": "execute_result"
    }
   ],
   "source": [
    "o"
   ]
  },
  {
   "cell_type": "code",
   "execution_count": 255,
   "id": "fe34948e-57d2-4fda-9f34-4cd2c5168e6f",
   "metadata": {},
   "outputs": [
    {
     "data": {
      "text/plain": [
       "<BarContainer object of 8 artists>"
      ]
     },
     "execution_count": 255,
     "metadata": {},
     "output_type": "execute_result"
    },
    {
     "data": {
      "image/png": "[encoded data removed]",
      "text/plain": [
       "<Figure size 432x288 with 1 Axes>"
      ]
     },
     "metadata": {
      "needs_background": "light"
     },
     "output_type": "display_data"
    }
   ],
   "source": [
    "plt.bar(t,o)"
   ]
  },
  {
   "cell_type": "code",
   "execution_count": 256,
   "id": "951a5418-cab6-4814-bf7b-417dfda8f6a4",
   "metadata": {},
   "outputs": [
    {
     "data": {
      "text/plain": [
       "931918.0"
      ]
     },
     "execution_count": 256,
     "metadata": {},
     "output_type": "execute_result"
    }
   ],
   "source": [
    "sum = 0\n",
    "for i in o:\n",
    "    sum = sum+i\n",
    "sum"
   ]
  },
  {
   "cell_type": "code",
   "execution_count": 258,
   "id": "c3f6f410-ce11-4354-853f-220de5d66143",
   "metadata": {},
   "outputs": [
    {
     "data": {
      "text/plain": [
       "[['Diploma', 1.12],\n",
       " ['No Education', 20.26],\n",
       " ['Primary', 24.3],\n",
       " ['Post Graduate and Above', 0.57],\n",
       " ['Matriculate/Secondary', 18.74],\n",
       " ['Middle', 24.17],\n",
       " ['Hr. Secondary/Intermediate/Pre-Universit', 8.53],\n",
       " ['Graduate', 2.32]]"
      ]
     },
     "execution_count": 258,
     "metadata": {},
     "output_type": "execute_result"
    }
   ],
   "source": [
    "p=[]\n",
    "for i in range(8):\n",
    "    p.append([t[i],round((o[i]*100/sum),2)])\n",
    "p"
   ]
  },
  {
   "cell_type": "code",
   "execution_count": 260,
   "id": "6230c33a-8c86-4a20-8c8a-28dbad88d38a",
   "metadata": {},
   "outputs": [
    {
     "name": "stdout",
     "output_type": "stream",
     "text": [
      "['No Education', 20.26]\n",
      "['Primary', 24.3]\n",
      "['Matriculate/Secondary', 18.74]\n",
      "['Middle', 24.17]\n",
      "['Hr. Secondary/Intermediate/Pre-Universit', 8.53]\n"
     ]
    }
   ],
   "source": [
    "# checking out causes contribution for 'Male' suicides\n",
    "for i in range(8):\n",
    "    if p[i][1]>5:\n",
    "        print(p[i])"
   ]
  },
  {
   "cell_type": "markdown",
   "id": "368c52da-a4e5-45e9-8587-ad6435944708",
   "metadata": {},
   "source": [
    "* 'No Education'  20.26 %\n",
    "* 'Primary'  24.3 %\n",
    "* 'Middle', 24.17 %\n",
    "* 'Matriculate/Secondary', 18.74 %\n",
    "* 'Hr. Secondary/Intermediate/Pre-Universit', 8.53 %"
   ]
  },
  {
   "cell_type": "markdown",
   "id": "bee2ee6e-7d84-48b4-a8bc-4d0cd96e495e",
   "metadata": {},
   "source": [
    "* With education suicide contribution is decreasing.\n",
    "#### But, to see real distribution , we need number of 'Males' in each education bracket. And then see % of those suiciding.\n",
    "* In the 2011 Census, about 73% of the population was literate, with 81% for males and 65% for females. ( BUT their definition of literate is different. than what we require )"
   ]
  },
  {
   "cell_type": "markdown",
   "id": "eaadd403-e5b4-4fa0-b606-b979a44cc0f9",
   "metadata": {},
   "source": [
    "#### Type_codes == 'Education_Status' , 'Female'"
   ]
  },
  {
   "cell_type": "markdown",
   "id": "d303c941-5988-4730-8468-c1d4bd31a4e2",
   "metadata": {},
   "source": [
    "*  in total suicides among 'Female' what is 'Education_Status' distribution  ?"
   ]
  },
  {
   "cell_type": "code",
   "execution_count": 272,
   "id": "8c1c6840-e4a5-42a8-8bb2-fd80afeeb60b",
   "metadata": {},
   "outputs": [
    {
     "data": {
      "text/html": [
       "<div>\n",
       "<style scoped>\n",
       "    .dataframe tbody tr th:only-of-type {\n",
       "        vertical-align: middle;\n",
       "    }\n",
       "\n",
       "    .dataframe tbody tr th {\n",
       "        vertical-align: top;\n",
       "    }\n",
       "\n",
       "    .dataframe thead th {\n",
       "        text-align: right;\n",
       "    }\n",
       "</style>\n",
       "<table border=\"1\" class=\"dataframe\">\n",
       "  <thead>\n",
       "    <tr style=\"text-align: right;\">\n",
       "      <th></th>\n",
       "      <th>State</th>\n",
       "      <th>Year</th>\n",
       "      <th>Type_code</th>\n",
       "      <th>Type</th>\n",
       "      <th>Gender</th>\n",
       "      <th>Age_group</th>\n",
       "      <th>Total</th>\n",
       "    </tr>\n",
       "  </thead>\n",
       "  <tbody>\n",
       "    <tr>\n",
       "      <th>4993</th>\n",
       "      <td>ANDHRA PRADESH</td>\n",
       "      <td>2001</td>\n",
       "      <td>Causes</td>\n",
       "      <td>Death of Dear Person</td>\n",
       "      <td>Male</td>\n",
       "      <td>0-14</td>\n",
       "      <td>0.0</td>\n",
       "    </tr>\n",
       "    <tr>\n",
       "      <th>4994</th>\n",
       "      <td>ANDHRA PRADESH</td>\n",
       "      <td>2001</td>\n",
       "      <td>Causes</td>\n",
       "      <td>Fall in Social Reputation</td>\n",
       "      <td>Female</td>\n",
       "      <td>60+</td>\n",
       "      <td>0.5</td>\n",
       "    </tr>\n",
       "    <tr>\n",
       "      <th>4995</th>\n",
       "      <td>ANDHRA PRADESH</td>\n",
       "      <td>2001</td>\n",
       "      <td>Causes</td>\n",
       "      <td>Insanity/Mental Illness</td>\n",
       "      <td>Female</td>\n",
       "      <td>15-29</td>\n",
       "      <td>56.0</td>\n",
       "    </tr>\n",
       "    <tr>\n",
       "      <th>4996</th>\n",
       "      <td>ANDHRA PRADESH</td>\n",
       "      <td>2001</td>\n",
       "      <td>Causes</td>\n",
       "      <td>Other Causes</td>\n",
       "      <td>Male</td>\n",
       "      <td>30-44</td>\n",
       "      <td>146.5</td>\n",
       "    </tr>\n",
       "    <tr>\n",
       "      <th>4997</th>\n",
       "      <td>ANDHRA PRADESH</td>\n",
       "      <td>2001</td>\n",
       "      <td>Education_Status</td>\n",
       "      <td>Diploma</td>\n",
       "      <td>Male</td>\n",
       "      <td>0-100+</td>\n",
       "      <td>37.5</td>\n",
       "    </tr>\n",
       "  </tbody>\n",
       "</table>\n",
       "</div>"
      ],
      "text/plain": [
       "               State  Year         Type_code                       Type  \\\n",
       "4993  ANDHRA PRADESH  2001            Causes       Death of Dear Person   \n",
       "4994  ANDHRA PRADESH  2001            Causes  Fall in Social Reputation   \n",
       "4995  ANDHRA PRADESH  2001            Causes    Insanity/Mental Illness   \n",
       "4996  ANDHRA PRADESH  2001            Causes               Other Causes   \n",
       "4997  ANDHRA PRADESH  2001  Education_Status                    Diploma   \n",
       "\n",
       "      Gender Age_group  Total  \n",
       "4993    Male      0-14    0.0  \n",
       "4994  Female       60+    0.5  \n",
       "4995  Female     15-29   56.0  \n",
       "4996    Male     30-44  146.5  \n",
       "4997    Male    0-100+   37.5  "
      ]
     },
     "execution_count": 272,
     "metadata": {},
     "output_type": "execute_result"
    }
   ],
   "source": [
    "state_and_UT_data.head()"
   ]
  },
  {
   "cell_type": "code",
   "execution_count": 264,
   "id": "2cedb941-aa89-4ad7-aadd-6654c0e35b6a",
   "metadata": {},
   "outputs": [
    {
     "data": {
      "text/plain": [
       "8"
      ]
     },
     "execution_count": 264,
     "metadata": {},
     "output_type": "execute_result"
    }
   ],
   "source": [
    "t = state_and_UT_data[state_and_UT_data['Type_code']=='Education_Status'].Type.unique()\n",
    "len(t)"
   ]
  },
  {
   "cell_type": "code",
   "execution_count": 265,
   "id": "11a0f023-507f-46ed-9163-21ba81439de7",
   "metadata": {},
   "outputs": [],
   "source": [
    "o = []\n",
    "for i in t:\n",
    "    o.append(state_and_UT_data[(state_and_UT_data['Gender']=='Female')&(state_and_UT_data['Type_code']=='Education_Status')&(state_and_UT_data['Type']==i)].Total.sum())"
   ]
  },
  {
   "cell_type": "code",
   "execution_count": 266,
   "id": "c336106a-3f3d-482d-8295-4588b9ad6b6f",
   "metadata": {},
   "outputs": [
    {
     "data": {
      "text/plain": [
       "[3734.0, 132942.0, 136340.0, 2204.0, 81940.0, 117763.0, 39406.0, 9684.0]"
      ]
     },
     "execution_count": 266,
     "metadata": {},
     "output_type": "execute_result"
    }
   ],
   "source": [
    "o"
   ]
  },
  {
   "cell_type": "code",
   "execution_count": 267,
   "id": "79024d20-c554-43ae-864b-d901460feef2",
   "metadata": {},
   "outputs": [
    {
     "data": {
      "text/plain": [
       "<BarContainer object of 8 artists>"
      ]
     },
     "execution_count": 267,
     "metadata": {},
     "output_type": "execute_result"
    },
    {
     "data": {
      "image/png": "[encoded data removed]",
      "text/plain": [
       "<Figure size 432x288 with 1 Axes>"
      ]
     },
     "metadata": {
      "needs_background": "light"
     },
     "output_type": "display_data"
    }
   ],
   "source": [
    "plt.bar(t,o)"
   ]
  },
  {
   "cell_type": "code",
   "execution_count": 268,
   "id": "aab8a782-e0a6-4645-8415-0a81cece851b",
   "metadata": {},
   "outputs": [
    {
     "data": {
      "text/plain": [
       "524013.0"
      ]
     },
     "execution_count": 268,
     "metadata": {},
     "output_type": "execute_result"
    }
   ],
   "source": [
    "sum = 0\n",
    "for i in o:\n",
    "    sum = sum+i\n",
    "sum"
   ]
  },
  {
   "cell_type": "code",
   "execution_count": 269,
   "id": "2ec3af0a-4e2c-4f47-aeb1-f746135e42e4",
   "metadata": {},
   "outputs": [
    {
     "data": {
      "text/plain": [
       "[['Diploma', 0.71],\n",
       " ['No Education', 25.37],\n",
       " ['Primary', 26.02],\n",
       " ['Post Graduate and Above', 0.42],\n",
       " ['Matriculate/Secondary', 15.64],\n",
       " ['Middle', 22.47],\n",
       " ['Hr. Secondary/Intermediate/Pre-Universit', 7.52],\n",
       " ['Graduate', 1.85]]"
      ]
     },
     "execution_count": 269,
     "metadata": {},
     "output_type": "execute_result"
    }
   ],
   "source": [
    "p=[]\n",
    "for i in range(8):\n",
    "    p.append([t[i],round((o[i]*100/sum),2)])\n",
    "p"
   ]
  },
  {
   "cell_type": "code",
   "execution_count": 270,
   "id": "46d928c9-94a7-4172-a0e8-e58af19ca265",
   "metadata": {},
   "outputs": [
    {
     "name": "stdout",
     "output_type": "stream",
     "text": [
      "['No Education', 25.37]\n",
      "['Primary', 26.02]\n",
      "['Matriculate/Secondary', 15.64]\n",
      "['Middle', 22.47]\n",
      "['Hr. Secondary/Intermediate/Pre-Universit', 7.52]\n"
     ]
    }
   ],
   "source": [
    "# checking out causes contribution for 'Male' suicides\n",
    "for i in range(8):\n",
    "    if p[i][1]>5:\n",
    "        print(p[i])"
   ]
  },
  {
   "cell_type": "markdown",
   "id": "0102fe23-3e39-4eb9-9602-4d986a0c4fba",
   "metadata": {},
   "source": [
    "* A similar trend is observed in Females, as education increases, it's contribution decreases in suicides\n",
    "#### But, to see real distribution , we need number of 'Males' in each education bracket. And then see % of those suiciding."
   ]
  },
  {
   "cell_type": "markdown",
   "id": "7e7502e4-a64e-4d80-9627-9bdba8b688ed",
   "metadata": {},
   "source": [
    "#### Type_codes == 'Professional_Profile' , 'Male'"
   ]
  },
  {
   "cell_type": "code",
   "execution_count": 273,
   "id": "1cf36369-93bc-4141-8418-91a76afb52bb",
   "metadata": {},
   "outputs": [
    {
     "data": {
      "text/plain": [
       "11"
      ]
     },
     "execution_count": 273,
     "metadata": {},
     "output_type": "execute_result"
    }
   ],
   "source": [
    "t = state_and_UT_data[state_and_UT_data['Type_code']=='Professional_Profile'].Type.unique()\n",
    "len(t)"
   ]
  },
  {
   "cell_type": "code",
   "execution_count": 274,
   "id": "da05efe5-3e3a-489c-95dd-77d94aef2f18",
   "metadata": {},
   "outputs": [],
   "source": [
    "o = []\n",
    "for i in t:\n",
    "    o.append(state_and_UT_data[(state_and_UT_data['Gender']=='Male')&(state_and_UT_data['Type_code']=='Professional_Profile')&(state_and_UT_data['Type']==i)].Total.sum())"
   ]
  },
  {
   "cell_type": "code",
   "execution_count": 275,
   "id": "a8525abe-e926-4e4c-8186-7daaf4374bec",
   "metadata": {},
   "outputs": [
    {
     "data": {
      "text/plain": [
       "[25256.0,\n",
       " 19094.0,\n",
       " 93829.0,\n",
       " 0.0,\n",
       " 72323.0,\n",
       " 96850.0,\n",
       " 357956.0,\n",
       " 35587.0,\n",
       " 9647.0,\n",
       " 170623.0,\n",
       " 40931.0]"
      ]
     },
     "execution_count": 275,
     "metadata": {},
     "output_type": "execute_result"
    }
   ],
   "source": [
    "o"
   ]
  },
  {
   "cell_type": "code",
   "execution_count": 276,
   "id": "c2cb44aa-0850-4bd3-a529-7401dd8f1a22",
   "metadata": {},
   "outputs": [
    {
     "data": {
      "text/plain": [
       "<BarContainer object of 11 artists>"
      ]
     },
     "execution_count": 276,
     "metadata": {},
     "output_type": "execute_result"
    },
    {
     "data": {
      "image/png": "[encoded data removed]",
      "text/plain": [
       "<Figure size 432x288 with 1 Axes>"
      ]
     },
     "metadata": {
      "needs_background": "light"
     },
     "output_type": "display_data"
    }
   ],
   "source": [
    "plt.bar(t,o)"
   ]
  },
  {
   "cell_type": "code",
   "execution_count": 277,
   "id": "d71523c9-6d46-4362-b530-99770f434656",
   "metadata": {},
   "outputs": [
    {
     "data": {
      "text/plain": [
       "922096.0"
      ]
     },
     "execution_count": 277,
     "metadata": {},
     "output_type": "execute_result"
    }
   ],
   "source": [
    "sum = 0\n",
    "for i in o:\n",
    "    sum = sum+i\n",
    "sum"
   ]
  },
  {
   "cell_type": "code",
   "execution_count": 278,
   "id": "2f5a6384-edb3-4e08-85d0-68548d08f7ef",
   "metadata": {},
   "outputs": [
    {
     "data": {
      "text/plain": [
       "[['Public Sector Undertaking', 2.74],\n",
       " ['Service (Government)', 2.07],\n",
       " ['Unemployed', 10.18],\n",
       " ['House Wife', 0.0],\n",
       " ['Self-employed (Business activity)', 7.84],\n",
       " ['Service (Private)', 10.5],\n",
       " ['Others (Please Specify)', 38.82],\n",
       " ['Professional Activity', 3.86]]"
      ]
     },
     "execution_count": 278,
     "metadata": {},
     "output_type": "execute_result"
    }
   ],
   "source": [
    "p=[]\n",
    "for i in range(8):\n",
    "    p.append([t[i],round((o[i]*100/sum),2)])\n",
    "p"
   ]
  },
  {
   "cell_type": "code",
   "execution_count": 279,
   "id": "ea1d2b56-ceac-4f9f-b0a4-41a1de378ab0",
   "metadata": {},
   "outputs": [
    {
     "name": "stdout",
     "output_type": "stream",
     "text": [
      "['Unemployed', 10.18]\n",
      "['Self-employed (Business activity)', 7.84]\n",
      "['Service (Private)', 10.5]\n",
      "['Others (Please Specify)', 38.82]\n"
     ]
    }
   ],
   "source": [
    "# checking out causes contribution for 'Male' suicides\n",
    "for i in range(8):\n",
    "    if p[i][1]>5:\n",
    "        print(p[i])"
   ]
  },
  {
   "cell_type": "markdown",
   "id": "6c0b093e-e643-4dc9-83ed-13d4e544eeae",
   "metadata": {},
   "source": [
    "#### !!!! Difficult to make solid conclusions, as 33 % are 'Other Causes'\n",
    "* But 'Unemployed' & 'Service (Private)' & 'Self-employed (Business activity)' caused 28.52 % of male suicides\n",
    "* Looking for yearly trends in these two causes"
   ]
  },
  {
   "cell_type": "code",
   "execution_count": 281,
   "id": "b5760522-79e1-452e-828d-b2137ede6f0f",
   "metadata": {},
   "outputs": [
    {
     "data": {
      "text/plain": [
       "28.52"
      ]
     },
     "execution_count": 281,
     "metadata": {},
     "output_type": "execute_result"
    }
   ],
   "source": [
    "10.18 + 7.84 + 10.5"
   ]
  },
  {
   "cell_type": "markdown",
   "id": "fec1759d-1d4e-4f5d-b956-9123b6fe3f78",
   "metadata": {},
   "source": [
    "* ------------------------'Unemployed'"
   ]
  },
  {
   "cell_type": "code",
   "execution_count": 284,
   "id": "39b5d65c-4c45-438b-92b2-344edba9f4f9",
   "metadata": {},
   "outputs": [],
   "source": [
    "t=[]\n",
    "for i in years:\n",
    "    t.append(state_and_UT_data[(state_and_UT_data['Gender']=='Male')&(state_and_UT_data['Type_code']=='Professional_Profile')&(state_and_UT_data['Type']=='Unemployed')&(state_and_UT_data['Year']==i)].Total.sum())"
   ]
  },
  {
   "cell_type": "code",
   "execution_count": 285,
   "id": "39eea5ed-7872-448c-9271-f7edb8ff5f4b",
   "metadata": {},
   "outputs": [
    {
     "data": {
      "text/plain": [
       "Text(0, 0.5, 'Number of suicides')"
      ]
     },
     "execution_count": 285,
     "metadata": {},
     "output_type": "execute_result"
    },
    {
     "data": {
      "image/png": "[encoded data removed]",
      "text/plain": [
       "<Figure size 432x288 with 1 Axes>"
      ]
     },
     "metadata": {
      "needs_background": "light"
     },
     "output_type": "display_data"
    }
   ],
   "source": [
    "plt.bar(years,t)\n",
    "plt.xlabel('Y ears')\n",
    "plt.ylabel('Number of suicides')"
   ]
  },
  {
   "cell_type": "markdown",
   "id": "aaf22ae1-2c64-47d9-a413-d7f77df17a52",
   "metadata": {},
   "source": [
    "* -------------------'Service (Private)'"
   ]
  },
  {
   "cell_type": "code",
   "execution_count": 286,
   "id": "0e7e777d-a54f-4f67-b9ed-de2d9beeb0fd",
   "metadata": {},
   "outputs": [],
   "source": [
    "t=[]\n",
    "for i in years:\n",
    "    t.append(state_and_UT_data[(state_and_UT_data['Gender']=='Male')&(state_and_UT_data['Type_code']=='Professional_Profile')&(state_and_UT_data['Type']=='Service (Private)')&(state_and_UT_data['Year']==i)].Total.sum())"
   ]
  },
  {
   "cell_type": "code",
   "execution_count": 287,
   "id": "49eb3352-5d94-44ff-88fe-53315a4b85bc",
   "metadata": {},
   "outputs": [
    {
     "data": {
      "text/plain": [
       "Text(0, 0.5, 'Number of suicides')"
      ]
     },
     "execution_count": 287,
     "metadata": {},
     "output_type": "execute_result"
    },
    {
     "data": {
      "image/png": "[encoded data removed]",
      "text/plain": [
       "<Figure size 432x288 with 1 Axes>"
      ]
     },
     "metadata": {
      "needs_background": "light"
     },
     "output_type": "display_data"
    }
   ],
   "source": [
    "plt.bar(years,t)\n",
    "plt.xlabel('Y ears')\n",
    "plt.ylabel('Number of suicides')"
   ]
  },
  {
   "cell_type": "markdown",
   "id": "12019987-4984-42ee-8d38-2f2e8914e807",
   "metadata": {},
   "source": [
    "* suicides in private job people seems increasing"
   ]
  },
  {
   "cell_type": "markdown",
   "id": "a058555a-209b-4ca8-a07f-0d98a2297951",
   "metadata": {},
   "source": [
    "* ------'Self-employed (Business activity)'"
   ]
  },
  {
   "cell_type": "code",
   "execution_count": 288,
   "id": "229a36f1-ed96-4d13-b866-9323c4a03e24",
   "metadata": {},
   "outputs": [],
   "source": [
    "t=[]\n",
    "for i in years:\n",
    "    t.append(state_and_UT_data[(state_and_UT_data['Gender']=='Male')&(state_and_UT_data['Type_code']=='Professional_Profile')&(state_and_UT_data['Type']=='Self-employed (Business activity)')&(state_and_UT_data['Year']==i)].Total.sum())"
   ]
  },
  {
   "cell_type": "code",
   "execution_count": 289,
   "id": "f6189d29-e6cb-4c62-97ac-a5fb5e93ecbe",
   "metadata": {},
   "outputs": [
    {
     "data": {
      "text/plain": [
       "Text(0, 0.5, 'Number of suicides')"
      ]
     },
     "execution_count": 289,
     "metadata": {},
     "output_type": "execute_result"
    },
    {
     "data": {
      "image/png": "[encoded data removed]",
      "text/plain": [
       "<Figure size 432x288 with 1 Axes>"
      ]
     },
     "metadata": {
      "needs_background": "light"
     },
     "output_type": "display_data"
    }
   ],
   "source": [
    "plt.bar(years,t)\n",
    "plt.xlabel('Y ears')\n",
    "plt.ylabel('Number of suicides')"
   ]
  },
  {
   "cell_type": "markdown",
   "id": "a9f2f491-06e3-4949-b67c-deddd13a2292",
   "metadata": {},
   "source": [
    "* seems stable"
   ]
  },
  {
   "cell_type": "markdown",
   "id": "ba4618c0-7bdf-483e-aaf6-d94bc430addf",
   "metadata": {},
   "source": [
    "#### Type_codes == 'Professional_Profile' , 'Female'"
   ]
  },
  {
   "cell_type": "code",
   "execution_count": 290,
   "id": "e119bcce-61b8-41a7-a60d-488d67475901",
   "metadata": {},
   "outputs": [
    {
     "data": {
      "text/plain": [
       "11"
      ]
     },
     "execution_count": 290,
     "metadata": {},
     "output_type": "execute_result"
    }
   ],
   "source": [
    "t = state_and_UT_data[state_and_UT_data['Type_code']=='Professional_Profile'].Type.unique()\n",
    "len(t)"
   ]
  },
  {
   "cell_type": "code",
   "execution_count": 291,
   "id": "789a7391-9474-4e61-b380-e49e240417df",
   "metadata": {},
   "outputs": [],
   "source": [
    "o = []\n",
    "for i in t:\n",
    "    o.append(state_and_UT_data[(state_and_UT_data['Gender']=='Female')&(state_and_UT_data['Type_code']=='Professional_Profile')&(state_and_UT_data['Type']==i)].Total.sum())"
   ]
  },
  {
   "cell_type": "code",
   "execution_count": 292,
   "id": "9a195c1d-de91-4240-9ee7-aa10e959d97f",
   "metadata": {},
   "outputs": [
    {
     "data": {
      "text/plain": [
       "[5530.0,\n",
       " 4231.0,\n",
       " 20545.0,\n",
       " 285243.0,\n",
       " 5789.0,\n",
       " 18622.0,\n",
       " 111191.0,\n",
       " 3617.0,\n",
       " 1687.0,\n",
       " 27300.0,\n",
       " 33392.0]"
      ]
     },
     "execution_count": 292,
     "metadata": {},
     "output_type": "execute_result"
    }
   ],
   "source": [
    "o"
   ]
  },
  {
   "cell_type": "code",
   "execution_count": 293,
   "id": "3d9054b3-f55e-4f93-b354-310d1779c34e",
   "metadata": {},
   "outputs": [
    {
     "data": {
      "text/plain": [
       "<BarContainer object of 11 artists>"
      ]
     },
     "execution_count": 293,
     "metadata": {},
     "output_type": "execute_result"
    },
    {
     "data": {
      "image/png": "[encoded data removed]",
      "text/plain": [
       "<Figure size 432x288 with 1 Axes>"
      ]
     },
     "metadata": {
      "needs_background": "light"
     },
     "output_type": "display_data"
    }
   ],
   "source": [
    "plt.bar(t,o)"
   ]
  },
  {
   "cell_type": "code",
   "execution_count": 294,
   "id": "eb152653-cf9f-4939-ba57-237651fb9bf4",
   "metadata": {},
   "outputs": [
    {
     "data": {
      "text/plain": [
       "517147.0"
      ]
     },
     "execution_count": 294,
     "metadata": {},
     "output_type": "execute_result"
    }
   ],
   "source": [
    "sum = 0\n",
    "for i in o:\n",
    "    sum = sum+i\n",
    "sum"
   ]
  },
  {
   "cell_type": "code",
   "execution_count": 295,
   "id": "1bbf8cab-f84e-4bfb-8654-23af03ee6879",
   "metadata": {},
   "outputs": [
    {
     "data": {
      "text/plain": [
       "[['Public Sector Undertaking', 1.07],\n",
       " ['Service (Government)', 0.82],\n",
       " ['Unemployed', 3.97],\n",
       " ['House Wife', 55.16],\n",
       " ['Self-employed (Business activity)', 1.12],\n",
       " ['Service (Private)', 3.6],\n",
       " ['Others (Please Specify)', 21.5],\n",
       " ['Professional Activity', 0.7]]"
      ]
     },
     "execution_count": 295,
     "metadata": {},
     "output_type": "execute_result"
    }
   ],
   "source": [
    "p=[]\n",
    "for i in range(8):\n",
    "    p.append([t[i],round((o[i]*100/sum),2)])\n",
    "p"
   ]
  },
  {
   "cell_type": "code",
   "execution_count": 296,
   "id": "36a09e20-5dba-44d8-9956-3bea27c2d5b9",
   "metadata": {},
   "outputs": [
    {
     "name": "stdout",
     "output_type": "stream",
     "text": [
      "['House Wife', 55.16]\n",
      "['Others (Please Specify)', 21.5]\n"
     ]
    }
   ],
   "source": [
    "# checking out causes contribution for 'Male' suicides\n",
    "for i in range(8):\n",
    "    if p[i][1]>5:\n",
    "        print(p[i])"
   ]
  },
  {
   "cell_type": "markdown",
   "id": "ab94b1aa-24ed-433c-b9b5-ffbfb59857a2",
   "metadata": {},
   "source": [
    "#### !!!! 55.16 % of suicides are by 'House Wife' , \n",
    "* This indicates towards serious need, of family therapy programes.\n",
    "* looing it's yearly trend"
   ]
  },
  {
   "cell_type": "code",
   "execution_count": 300,
   "id": "69b88eb2-fc07-4d7e-9049-8eca3901f2dc",
   "metadata": {},
   "outputs": [],
   "source": [
    "t=[]\n",
    "for i in years:\n",
    "    t.append(state_and_UT_data[(state_and_UT_data['Gender']=='Female')&(state_and_UT_data['Type_code']=='Professional_Profile')&(state_and_UT_data['Type']=='House Wife')&(state_and_UT_data['Year']==i)].Total.sum())"
   ]
  },
  {
   "cell_type": "code",
   "execution_count": 301,
   "id": "65681dd3-c059-4652-a306-4f52d0244f52",
   "metadata": {},
   "outputs": [
    {
     "data": {
      "text/plain": [
       "Text(0, 0.5, 'Number of suicides')"
      ]
     },
     "execution_count": 301,
     "metadata": {},
     "output_type": "execute_result"
    },
    {
     "data": {
      "image/png": "[encoded data removed]",
      "text/plain": [
       "<Figure size 432x288 with 1 Axes>"
      ]
     },
     "metadata": {
      "needs_background": "light"
     },
     "output_type": "display_data"
    }
   ],
   "source": [
    "plt.bar(years,t)\n",
    "plt.xlabel('Y ears')\n",
    "plt.ylabel('Number of suicides')"
   ]
  },
  {
   "cell_type": "markdown",
   "id": "8b55146d-cdd5-42df-bf62-06e5d679cec7",
   "metadata": {},
   "source": [
    "* Nearly stable"
   ]
  },
  {
   "cell_type": "code",
   "execution_count": 306,
   "id": "94d21167-4433-4a06-b9c2-b2086d02e653",
   "metadata": {},
   "outputs": [
    {
     "data": {
      "text/plain": [
       "array(['Causes', 'Means_adopted', 'Professional_Profile',\n",
       "       'Education_Status', 'Social_Status'], dtype=object)"
      ]
     },
     "execution_count": 306,
     "metadata": {},
     "output_type": "execute_result"
    }
   ],
   "source": [
    "f.Type_code.unique()"
   ]
  },
  {
   "cell_type": "markdown",
   "id": "4939639e-994a-4ee1-8589-17a94e71852b",
   "metadata": {},
   "source": [
    "#### Type_codes == 'Social_Status' , 'Male'"
   ]
  },
  {
   "cell_type": "code",
   "execution_count": 307,
   "id": "7d38ef86-f0ad-4ba6-9226-fa56696b0ba8",
   "metadata": {},
   "outputs": [
    {
     "data": {
      "text/plain": [
       "5"
      ]
     },
     "execution_count": 307,
     "metadata": {},
     "output_type": "execute_result"
    }
   ],
   "source": [
    "t = state_and_UT_data[state_and_UT_data['Type_code']=='Social_Status'].Type.unique()\n",
    "len(t)"
   ]
  },
  {
   "cell_type": "code",
   "execution_count": 308,
   "id": "109dd47a-ecdc-4bd3-9b1f-3dd7c33ff5d0",
   "metadata": {},
   "outputs": [],
   "source": [
    "o = []\n",
    "for i in t:\n",
    "    o.append(state_and_UT_data[(state_and_UT_data['Gender']=='Male')&(state_and_UT_data['Type_code']=='Social_Status')&(state_and_UT_data['Type']==i)].Total.sum())"
   ]
  },
  {
   "cell_type": "code",
   "execution_count": 309,
   "id": "8b389f98-ae1d-4cdc-b854-22e6df9560d4",
   "metadata": {},
   "outputs": [
    {
     "data": {
      "text/plain": [
       "<BarContainer object of 5 artists>"
      ]
     },
     "execution_count": 309,
     "metadata": {},
     "output_type": "execute_result"
    },
    {
     "data": {
      "image/png": "[encoded data removed]",
      "text/plain": [
       "<Figure size 432x288 with 1 Axes>"
      ]
     },
     "metadata": {
      "needs_background": "light"
     },
     "output_type": "display_data"
    }
   ],
   "source": [
    "plt.bar(t,o)"
   ]
  },
  {
   "cell_type": "code",
   "execution_count": 310,
   "id": "d3ec9a5d-22d8-4742-8691-0d1c55b38940",
   "metadata": {},
   "outputs": [
    {
     "data": {
      "text/plain": [
       "931918.0"
      ]
     },
     "execution_count": 310,
     "metadata": {},
     "output_type": "execute_result"
    }
   ],
   "source": [
    "sum = 0\n",
    "for i in o:\n",
    "    sum = sum+i\n",
    "sum"
   ]
  },
  {
   "cell_type": "code",
   "execution_count": 312,
   "id": "4c5d3340-72d4-4e45-be06-ac34f968451d",
   "metadata": {},
   "outputs": [
    {
     "data": {
      "text/plain": [
       "[['Widowed/Widower', 3.45],\n",
       " ['Divorcee', 0.81],\n",
       " ['Seperated', 2.61],\n",
       " ['Never Married', 21.77],\n",
       " ['Married', 71.36]]"
      ]
     },
     "execution_count": 312,
     "metadata": {},
     "output_type": "execute_result"
    }
   ],
   "source": [
    "p=[]\n",
    "for i in range(5):\n",
    "    p.append([t[i],round((o[i]*100/sum),2)])\n",
    "p"
   ]
  },
  {
   "cell_type": "markdown",
   "id": "66da7408-4f71-4015-a71b-6f0d831d6282",
   "metadata": {},
   "source": [
    "* 71.36 % of suicides among men are by Married men.\n",
    "* 21.77 by those who never married."
   ]
  },
  {
   "cell_type": "markdown",
   "id": "e4564854-916f-4d06-bf73-316a93a98a90",
   "metadata": {},
   "source": [
    "#### Type_codes == 'Social_Status' , 'Female'"
   ]
  },
  {
   "cell_type": "code",
   "execution_count": 314,
   "id": "af2e4841-0b16-4284-9c86-cffcfcbb9cf4",
   "metadata": {},
   "outputs": [
    {
     "data": {
      "text/plain": [
       "5"
      ]
     },
     "execution_count": 314,
     "metadata": {},
     "output_type": "execute_result"
    }
   ],
   "source": [
    "t = state_and_UT_data[state_and_UT_data['Type_code']=='Social_Status'].Type.unique()\n",
    "len(t)"
   ]
  },
  {
   "cell_type": "code",
   "execution_count": 315,
   "id": "bd0a843a-a8f4-439f-8430-d6cb86b30093",
   "metadata": {},
   "outputs": [],
   "source": [
    "o = []\n",
    "for i in t:\n",
    "    o.append(state_and_UT_data[(state_and_UT_data['Gender']=='Female')&(state_and_UT_data['Type_code']=='Social_Status')&(state_and_UT_data['Type']==i)].Total.sum())"
   ]
  },
  {
   "cell_type": "code",
   "execution_count": 316,
   "id": "3e62a79d-a727-46a6-b299-2488ec7753df",
   "metadata": {},
   "outputs": [
    {
     "data": {
      "text/plain": [
       "<BarContainer object of 5 artists>"
      ]
     },
     "execution_count": 316,
     "metadata": {},
     "output_type": "execute_result"
    },
    {
     "data": {
      "image/png": "[encoded data removed]",
      "text/plain": [
       "<Figure size 432x288 with 1 Axes>"
      ]
     },
     "metadata": {
      "needs_background": "light"
     },
     "output_type": "display_data"
    }
   ],
   "source": [
    "plt.bar(t,o)"
   ]
  },
  {
   "cell_type": "code",
   "execution_count": null,
   "id": "6a917f40-0675-4843-96f2-db81df28052b",
   "metadata": {},
   "outputs": [
    {
     "data": {
      "text/plain": [
       "[['Widowed/Widower', 3.21],\n",
       " ['Divorcee', 0.83],\n",
       " ['Seperated', 1.52],\n",
       " ['Never Married', 12.39],\n",
       " ['Married', 38.28]]"
      ]
     },
     "execution_count": 317,
     "metadata": {},
     "output_type": "execute_result"
    }
   ],
   "source": [
    "p=[]\n",
    "for i in range(5):\n",
    "    p.append([t[i],round((o[i]*100/sum),2)])\n",
    "p"
   ]
  },
  {
   "cell_type": "markdown",
   "id": "6b622466-436d-4c55-80e8-4b099745145d",
   "metadata": {},
   "source": [
    "* 38.28 % of suicides by females are by married females\n",
    "* 12 % by those who never married."
   ]
  },
  {
   "cell_type": "markdown",
   "id": "8fe71be5-d690-4835-9132-773b09a632a5",
   "metadata": {},
   "source": [
    "#### using this analysis, government can re-allocate their funds (if any) to reduce suicides among citizens. \n",
    "#### this analysis, not only helps government to understand where need is, but also prevent fund from getting wasted. "
   ]
  },
  {
   "cell_type": "code",
   "execution_count": null,
   "id": "a3af7694-1d32-477a-974e-4dbd95397aa1",
   "metadata": {},
   "outputs": [],
   "source": []
  }
 ],
 "metadata": {
  "kernelspec": {
   "display_name": "Python 3 (ipykernel)",
   "language": "python",
   "name": "python3"
  },
  "language_info": {
   "codemirror_mode": {
    "name": "ipython",
    "version": 3
   },
   "file_extension": ".py",
   "mimetype": "text/x-python",
   "name": "python",
   "nbconvert_exporter": "python",
   "pygments_lexer": "ipython3",
   "version": "3.9.6"
  }
 },
 "nbformat": 4,
 "nbformat_minor": 5
}
